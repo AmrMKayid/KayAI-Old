{
  "nbformat": 4,
  "nbformat_minor": 0,
  "metadata": {
    "colab": {
      "name": "6.4-sequence-processing-with-convnets.ipynb",
      "version": "0.3.2",
      "provenance": [],
      "collapsed_sections": [],
      "toc_visible": true
    },
    "kernelspec": {
      "name": "python3",
      "display_name": "Python 3"
    },
    "accelerator": "GPU"
  },
  "cells": [
    {
      "metadata": {
        "id": "EUf9ZSNTkWJb",
        "colab_type": "code",
        "colab": {
          "base_uri": "https://localhost:8080/",
          "height": 52
        },
        "outputId": "98e938e8-4bed-482c-b189-9afd54e52b06"
      },
      "cell_type": "code",
      "source": [
        "import keras\n",
        "keras.__version__"
      ],
      "execution_count": 1,
      "outputs": [
        {
          "output_type": "stream",
          "text": [
            "Using TensorFlow backend.\n"
          ],
          "name": "stderr"
        },
        {
          "output_type": "execute_result",
          "data": {
            "text/plain": [
              "'2.2.4'"
            ]
          },
          "metadata": {
            "tags": []
          },
          "execution_count": 1
        }
      ]
    },
    {
      "metadata": {
        "id": "b2tmZeV8kWJj",
        "colab_type": "text"
      },
      "cell_type": "markdown",
      "source": [
        "# Sequence processing with convnets\n",
        "\n",
        "This notebook contains the code samples found in Chapter 6, Section 4 of [Deep Learning with Python](https://www.manning.com/books/deep-learning-with-python?a_aid=keras&a_bid=76564dff). Note that the original text features far more content, in particular further explanations and figures: in this notebook, you will only find source code and related comments.\n",
        "\n",
        "\n",
        "## Implementing a 1D convnet\n",
        "\n",
        "In Keras, you would use a 1D convnet via the `Conv1D` layer, which has a very similar interface to `Conv2D`. It takes as input 3D tensors \n",
        "with shape `(samples, time, features)` and also returns similarly-shaped 3D tensors. The convolution window is a 1D window on the temporal \n",
        "axis, axis 1 in the input tensor.\n",
        "\n",
        "Let's build a simple 2-layer 1D convnet and apply it to the IMDB sentiment classification task that you are already familiar with.\n",
        "\n",
        "As a reminder, this is the code for obtaining and preprocessing the data:"
      ]
    },
    {
      "metadata": {
        "id": "_EE62p1NkWJk",
        "colab_type": "code",
        "colab": {
          "base_uri": "https://localhost:8080/",
          "height": 121
        },
        "outputId": "316620d0-2d75-408c-c012-840a01db0396"
      },
      "cell_type": "code",
      "source": [
        "from keras.datasets import imdb\n",
        "from keras.preprocessing import sequence\n",
        "\n",
        "max_features = 10000  # number of words to consider as features\n",
        "max_len = 500  # cut texts after this number of words (among top max_features most common words)\n",
        "\n",
        "print('Loading data...')\n",
        "(x_train, y_train), (x_test, y_test) = imdb.load_data(num_words=max_features)\n",
        "print(len(x_train), 'train sequences')\n",
        "print(len(x_test), 'test sequences')\n",
        "\n",
        "print('Pad sequences (samples x time)')\n",
        "x_train = sequence.pad_sequences(x_train, maxlen=max_len)\n",
        "x_test = sequence.pad_sequences(x_test, maxlen=max_len)\n",
        "print('x_train shape:', x_train.shape)\n",
        "print('x_test shape:', x_test.shape)"
      ],
      "execution_count": 2,
      "outputs": [
        {
          "output_type": "stream",
          "text": [
            "Loading data...\n",
            "25000 train sequences\n",
            "25000 test sequences\n",
            "Pad sequences (samples x time)\n",
            "x_train shape: (25000, 500)\n",
            "x_test shape: (25000, 500)\n"
          ],
          "name": "stdout"
        }
      ]
    },
    {
      "metadata": {
        "id": "tHUqz9uKkWJn",
        "colab_type": "text"
      },
      "cell_type": "markdown",
      "source": [
        "\n",
        "1D convnets are structured in the same way as their 2D counter-parts that you have used in Chapter 5: they consist of a stack of `Conv1D` \n",
        "and `MaxPooling1D` layers, eventually ending in either a global pooling layer or a `Flatten` layer, turning the 3D outputs into 2D outputs, \n",
        "allowing to add one or more `Dense` layers to the model, for classification or regression.\n",
        "\n",
        "One difference, though, is the fact that we can afford to use larger convolution windows with 1D convnets. Indeed, with a 2D convolution \n",
        "layer, a 3x3 convolution window contains 3*3 = 9 feature vectors, but with a 1D convolution layer, a convolution window of size 3 would \n",
        "only contain 3 feature vectors. We can thus easily afford 1D convolution windows of size 7 or 9.\n",
        "\n",
        "This is our example 1D convnet for the IMDB dataset:"
      ]
    },
    {
      "metadata": {
        "id": "7_0d-HnJkWJo",
        "colab_type": "code",
        "colab": {
          "base_uri": "https://localhost:8080/",
          "height": 884
        },
        "outputId": "2b7e9678-11d1-48ea-cdd0-19fa05cadc5e"
      },
      "cell_type": "code",
      "source": [
        "from keras.models import Sequential\n",
        "from keras import layers\n",
        "from keras.optimizers import RMSprop\n",
        "\n",
        "model = Sequential()\n",
        "model.add(layers.Embedding(max_features, 128, input_length=max_len))\n",
        "model.add(layers.Conv1D(32, 7, activation='relu'))\n",
        "model.add(layers.MaxPooling1D(5))\n",
        "model.add(layers.Conv1D(32, 7, activation='relu'))\n",
        "model.add(layers.GlobalMaxPooling1D())\n",
        "model.add(layers.Dense(1))\n",
        "\n",
        "model.summary()\n",
        "\n",
        "model.compile(optimizer=RMSprop(lr=1e-4),\n",
        "              loss='binary_crossentropy',\n",
        "              metrics=['acc'])\n",
        "history = model.fit(x_train, y_train,\n",
        "                    epochs=10,\n",
        "                    batch_size=128,\n",
        "                    validation_split=0.2)"
      ],
      "execution_count": 3,
      "outputs": [
        {
          "output_type": "stream",
          "text": [
            "WARNING:tensorflow:From /usr/local/lib/python3.6/dist-packages/tensorflow/python/framework/op_def_library.py:263: colocate_with (from tensorflow.python.framework.ops) is deprecated and will be removed in a future version.\n",
            "Instructions for updating:\n",
            "Colocations handled automatically by placer.\n",
            "_________________________________________________________________\n",
            "Layer (type)                 Output Shape              Param #   \n",
            "=================================================================\n",
            "embedding_1 (Embedding)      (None, 500, 128)          1280000   \n",
            "_________________________________________________________________\n",
            "conv1d_1 (Conv1D)            (None, 494, 32)           28704     \n",
            "_________________________________________________________________\n",
            "max_pooling1d_1 (MaxPooling1 (None, 98, 32)            0         \n",
            "_________________________________________________________________\n",
            "conv1d_2 (Conv1D)            (None, 92, 32)            7200      \n",
            "_________________________________________________________________\n",
            "global_max_pooling1d_1 (Glob (None, 32)                0         \n",
            "_________________________________________________________________\n",
            "dense_1 (Dense)              (None, 1)                 33        \n",
            "=================================================================\n",
            "Total params: 1,315,937\n",
            "Trainable params: 1,315,937\n",
            "Non-trainable params: 0\n",
            "_________________________________________________________________\n",
            "WARNING:tensorflow:From /usr/local/lib/python3.6/dist-packages/tensorflow/python/ops/math_ops.py:3066: to_int32 (from tensorflow.python.ops.math_ops) is deprecated and will be removed in a future version.\n",
            "Instructions for updating:\n",
            "Use tf.cast instead.\n",
            "WARNING:tensorflow:From /usr/local/lib/python3.6/dist-packages/tensorflow/python/ops/math_grad.py:102: div (from tensorflow.python.ops.math_ops) is deprecated and will be removed in a future version.\n",
            "Instructions for updating:\n",
            "Deprecated in favor of operator or tf.math.divide.\n",
            "Train on 20000 samples, validate on 5000 samples\n",
            "Epoch 1/10\n",
            "20000/20000 [==============================] - 6s 318us/step - loss: 0.8337 - acc: 0.5095 - val_loss: 0.6874 - val_acc: 0.5644\n",
            "Epoch 2/10\n",
            "20000/20000 [==============================] - 3s 148us/step - loss: 0.6699 - acc: 0.6394 - val_loss: 0.6642 - val_acc: 0.6580\n",
            "Epoch 3/10\n",
            "20000/20000 [==============================] - 3s 147us/step - loss: 0.6235 - acc: 0.7539 - val_loss: 0.6080 - val_acc: 0.7430\n",
            "Epoch 4/10\n",
            "20000/20000 [==============================] - 3s 148us/step - loss: 0.5257 - acc: 0.8079 - val_loss: 0.4843 - val_acc: 0.8052\n",
            "Epoch 5/10\n",
            "20000/20000 [==============================] - 3s 147us/step - loss: 0.4104 - acc: 0.8483 - val_loss: 0.4277 - val_acc: 0.8316\n",
            "Epoch 6/10\n",
            "20000/20000 [==============================] - 3s 147us/step - loss: 0.3484 - acc: 0.8678 - val_loss: 0.4154 - val_acc: 0.8360\n",
            "Epoch 7/10\n",
            "20000/20000 [==============================] - 3s 147us/step - loss: 0.3085 - acc: 0.8637 - val_loss: 0.4464 - val_acc: 0.8182\n",
            "Epoch 8/10\n",
            "20000/20000 [==============================] - 3s 146us/step - loss: 0.2793 - acc: 0.8498 - val_loss: 0.4252 - val_acc: 0.8040\n",
            "Epoch 9/10\n",
            "20000/20000 [==============================] - 3s 147us/step - loss: 0.2515 - acc: 0.8325 - val_loss: 0.4452 - val_acc: 0.7872\n",
            "Epoch 10/10\n",
            "20000/20000 [==============================] - 3s 146us/step - loss: 0.2269 - acc: 0.8134 - val_loss: 0.4700 - val_acc: 0.7670\n"
          ],
          "name": "stdout"
        }
      ]
    },
    {
      "metadata": {
        "id": "vj5RzkAHkWJr",
        "colab_type": "text"
      },
      "cell_type": "markdown",
      "source": [
        "Here are our training and validation results: validation accuracy is somewhat lower than that of the LSTM we used two sections ago, but \n",
        "runtime is faster, both on CPU and GPU (albeit the exact speedup will vary greatly depending on your exact configuration). At that point, \n",
        "we could re-train this model for the right number of epochs (8), and run it on the test set. This is a convincing demonstration that a 1D \n",
        "convnet can offer a fast, cheap alternative to a recurrent network on a word-level sentiment classification task."
      ]
    },
    {
      "metadata": {
        "id": "3UmLElJykWJr",
        "colab_type": "code",
        "colab": {
          "base_uri": "https://localhost:8080/",
          "height": 708
        },
        "outputId": "63aebedd-45a8-4f4d-bde1-f66a67e27cb6"
      },
      "cell_type": "code",
      "source": [
        "import matplotlib.pyplot as plt\n",
        "\n",
        "acc = history.history['acc']\n",
        "val_acc = history.history['val_acc']\n",
        "loss = history.history['loss']\n",
        "val_loss = history.history['val_loss']\n",
        "\n",
        "epochs = range(len(acc))\n",
        "\n",
        "plt.plot(epochs, acc, 'bo', label='Training acc')\n",
        "plt.plot(epochs, val_acc, 'b', label='Validation acc')\n",
        "plt.title('Training and validation accuracy')\n",
        "plt.legend()\n",
        "\n",
        "plt.figure()\n",
        "\n",
        "plt.plot(epochs, loss, 'bo', label='Training loss')\n",
        "plt.plot(epochs, val_loss, 'b', label='Validation loss')\n",
        "plt.title('Training and validation loss')\n",
        "plt.legend()\n",
        "\n",
        "plt.show()"
      ],
      "execution_count": 4,
      "outputs": [
        {
          "output_type": "display_data",
          "data": {
            "image/png": "[encoded data removed]",
            "text/plain": [
              "<Figure size 576x396 with 1 Axes>"
            ]
          },
          "metadata": {
            "tags": []
          }
        },
        {
          "output_type": "display_data",
          "data": {
            "image/png": "[encoded data removed]",
            "text/plain": [
              "<Figure size 576x396 with 1 Axes>"
            ]
          },
          "metadata": {
            "tags": []
          }
        }
      ]
    },
    {
      "metadata": {
        "id": "bMpdb5oskWJv",
        "colab_type": "text"
      },
      "cell_type": "markdown",
      "source": [
        "## Combining CNNs and RNNs to process long sequences\n",
        "\n",
        "\n",
        "Because 1D convnets process input patches independently, they are not sensitive to the order of the timesteps (beyond a local scale, the \n",
        "size of the convolution windows), unlike RNNs. Of course, in order to be able to recognize longer-term patterns, one could stack many \n",
        "convolution layers and pooling layers, resulting in upper layers that would \"see\" long chunks of the original inputs -- but that's still a \n",
        "fairly weak way to induce order-sensitivity. One way to evidence this weakness is to try 1D convnets on the temperature forecasting problem \n",
        "from the previous section, where order-sensitivity was key to produce good predictions. Let's see:"
      ]
    },
    {
      "metadata": {
        "id": "vpncpw2nkWJw",
        "colab_type": "code",
        "colab": {}
      },
      "cell_type": "code",
      "source": [
        "# We reuse the following variables defined in the last section:\n",
        "# float_data, train_gen, val_gen, val_steps\n",
        "\n",
        "import os\n",
        "import numpy as np\n",
        "\n",
        "data_dir = '/content/'\n",
        "fname = os.path.join(data_dir, 'jena_climate_2009_2016.csv')\n",
        "\n",
        "f = open(fname)\n",
        "data = f.read()\n",
        "f.close()\n",
        "\n",
        "lines = data.split('\\n')\n",
        "header = lines[0].split(',')\n",
        "lines = lines[1:]\n",
        "\n",
        "float_data = np.zeros((len(lines), len(header) - 1))\n",
        "for i, line in enumerate(lines):\n",
        "    values = [float(x) for x in line.split(',')[1:]]\n",
        "    float_data[i, :] = values\n",
        "    \n",
        "mean = float_data[:200000].mean(axis=0)\n",
        "float_data -= mean\n",
        "std = float_data[:200000].std(axis=0)\n",
        "float_data /= std\n",
        "\n",
        "def generator(data, lookback, delay, min_index, max_index,\n",
        "              shuffle=False, batch_size=128, step=6):\n",
        "    if max_index is None:\n",
        "        max_index = len(data) - delay - 1\n",
        "    i = min_index + lookback\n",
        "    while 1:\n",
        "        if shuffle:\n",
        "            rows = np.random.randint(\n",
        "                min_index + lookback, max_index, size=batch_size)\n",
        "        else:\n",
        "            if i + batch_size >= max_index:\n",
        "                i = min_index + lookback\n",
        "            rows = np.arange(i, min(i + batch_size, max_index))\n",
        "            i += len(rows)\n",
        "\n",
        "        samples = np.zeros((len(rows),\n",
        "                           lookback // step,\n",
        "                           data.shape[-1]))\n",
        "        targets = np.zeros((len(rows),))\n",
        "        for j, row in enumerate(rows):\n",
        "            indices = range(rows[j] - lookback, rows[j], step)\n",
        "            samples[j] = data[indices]\n",
        "            targets[j] = data[rows[j] + delay][1]\n",
        "        yield samples, targets\n",
        "        \n",
        "lookback = 1440\n",
        "step = 6\n",
        "delay = 144\n",
        "batch_size = 128\n",
        "\n",
        "train_gen = generator(float_data,\n",
        "                      lookback=lookback,\n",
        "                      delay=delay,\n",
        "                      min_index=0,\n",
        "                      max_index=200000,\n",
        "                      shuffle=True,\n",
        "                      step=step, \n",
        "                      batch_size=batch_size)\n",
        "val_gen = generator(float_data,\n",
        "                    lookback=lookback,\n",
        "                    delay=delay,\n",
        "                    min_index=200001,\n",
        "                    max_index=300000,\n",
        "                    step=step,\n",
        "                    batch_size=batch_size)\n",
        "test_gen = generator(float_data,\n",
        "                     lookback=lookback,\n",
        "                     delay=delay,\n",
        "                     min_index=300001,\n",
        "                     max_index=None,\n",
        "                     step=step,\n",
        "                     batch_size=batch_size)\n",
        "\n",
        "# This is how many steps to draw from `val_gen`\n",
        "# in order to see the whole validation set:\n",
        "val_steps = (300000 - 200001 - lookback) // batch_size\n",
        "\n",
        "# This is how many steps to draw from `test_gen`\n",
        "# in order to see the whole test set:\n",
        "test_steps = (len(float_data) - 300001 - lookback) // batch_size"
      ],
      "execution_count": 0,
      "outputs": []
    },
    {
      "metadata": {
        "id": "YohOTom3kWJz",
        "colab_type": "code",
        "colab": {
          "base_uri": "https://localhost:8080/",
          "height": 708
        },
        "outputId": "00d432e6-6504-44a2-8012-3e034162f100"
      },
      "cell_type": "code",
      "source": [
        "from keras.models import Sequential\n",
        "from keras import layers\n",
        "from keras.optimizers import RMSprop\n",
        "\n",
        "model = Sequential()\n",
        "model.add(layers.Conv1D(32, 5, activation='relu',\n",
        "                        input_shape=(None, float_data.shape[-1])))\n",
        "model.add(layers.MaxPooling1D(3))\n",
        "model.add(layers.Conv1D(32, 5, activation='relu'))\n",
        "model.add(layers.MaxPooling1D(3))\n",
        "model.add(layers.Conv1D(32, 5, activation='relu'))\n",
        "model.add(layers.GlobalMaxPooling1D())\n",
        "model.add(layers.Dense(1))\n",
        "\n",
        "model.compile(optimizer=RMSprop(), loss='mae')\n",
        "history = model.fit_generator(train_gen,\n",
        "                              steps_per_epoch=500,\n",
        "                              epochs=20,\n",
        "                              validation_data=val_gen,\n",
        "                              validation_steps=val_steps)"
      ],
      "execution_count": 6,
      "outputs": [
        {
          "output_type": "stream",
          "text": [
            "Epoch 1/20\n",
            "500/500 [==============================] - 15s 30ms/step - loss: 0.4205 - val_loss: 0.4465\n",
            "Epoch 2/20\n",
            "500/500 [==============================] - 15s 30ms/step - loss: 0.3629 - val_loss: 0.4503\n",
            "Epoch 3/20\n",
            "500/500 [==============================] - 15s 30ms/step - loss: 0.3366 - val_loss: 0.4463\n",
            "Epoch 4/20\n",
            "500/500 [==============================] - 15s 30ms/step - loss: 0.3214 - val_loss: 0.4470\n",
            "Epoch 5/20\n",
            "500/500 [==============================] - 15s 30ms/step - loss: 0.3081 - val_loss: 0.4400\n",
            "Epoch 6/20\n",
            "500/500 [==============================] - 15s 29ms/step - loss: 0.3005 - val_loss: 0.4634\n",
            "Epoch 7/20\n",
            "500/500 [==============================] - 15s 29ms/step - loss: 0.2919 - val_loss: 0.4445\n",
            "Epoch 8/20\n",
            "500/500 [==============================] - 15s 29ms/step - loss: 0.2862 - val_loss: 0.4651\n",
            "Epoch 9/20\n",
            "500/500 [==============================] - 15s 30ms/step - loss: 0.2799 - val_loss: 0.4540\n",
            "Epoch 10/20\n",
            "500/500 [==============================] - 15s 30ms/step - loss: 0.2763 - val_loss: 0.4519\n",
            "Epoch 11/20\n",
            "500/500 [==============================] - 15s 29ms/step - loss: 0.2723 - val_loss: 0.4715\n",
            "Epoch 12/20\n",
            "500/500 [==============================] - 15s 29ms/step - loss: 0.2682 - val_loss: 0.4546\n",
            "Epoch 13/20\n",
            "500/500 [==============================] - 15s 30ms/step - loss: 0.2629 - val_loss: 0.4556\n",
            "Epoch 14/20\n",
            "500/500 [==============================] - 15s 30ms/step - loss: 0.2605 - val_loss: 0.4781\n",
            "Epoch 15/20\n",
            "500/500 [==============================] - 14s 29ms/step - loss: 0.2579 - val_loss: 0.4678\n",
            "Epoch 16/20\n",
            "500/500 [==============================] - 15s 29ms/step - loss: 0.2537 - val_loss: 0.4703\n",
            "Epoch 17/20\n",
            "500/500 [==============================] - 15s 29ms/step - loss: 0.2507 - val_loss: 0.4817\n",
            "Epoch 18/20\n",
            "500/500 [==============================] - 14s 29ms/step - loss: 0.2492 - val_loss: 0.4772\n",
            "Epoch 19/20\n",
            "500/500 [==============================] - 14s 29ms/step - loss: 0.2461 - val_loss: 0.4784\n",
            "Epoch 20/20\n",
            "500/500 [==============================] - 14s 29ms/step - loss: 0.2447 - val_loss: 0.4683\n"
          ],
          "name": "stdout"
        }
      ]
    },
    {
      "metadata": {
        "id": "UboErn4QkWJ2",
        "colab_type": "text"
      },
      "cell_type": "markdown",
      "source": [
        "Here are our training and validation Mean Absolute Errors:"
      ]
    },
    {
      "metadata": {
        "id": "Km6qyCrokWJ3",
        "colab_type": "code",
        "colab": {
          "base_uri": "https://localhost:8080/",
          "height": 363
        },
        "outputId": "7d233709-b315-46b9-d5dc-b447f91b6ef4"
      },
      "cell_type": "code",
      "source": [
        "import matplotlib.pyplot as plt\n",
        "\n",
        "loss = history.history['loss']\n",
        "val_loss = history.history['val_loss']\n",
        "\n",
        "epochs = range(len(loss))\n",
        "\n",
        "plt.figure()\n",
        "\n",
        "plt.plot(epochs, loss, 'bo', label='Training loss')\n",
        "plt.plot(epochs, val_loss, 'b', label='Validation loss')\n",
        "plt.title('Training and validation loss')\n",
        "plt.legend()\n",
        "\n",
        "plt.show()"
      ],
      "execution_count": 7,
      "outputs": [
        {
          "output_type": "display_data",
          "data": {
            "image/png": "[encoded data removed]",
            "text/plain": [
              "<Figure size 576x396 with 1 Axes>"
            ]
          },
          "metadata": {
            "tags": []
          }
        }
      ]
    },
    {
      "metadata": {
        "id": "8BpMH6y_kWJ7",
        "colab_type": "text"
      },
      "cell_type": "markdown",
      "source": [
        "\n",
        "The validation MAE stays in the low 0.40s: we cannot even beat our common-sense baseline using the small convnet. Again, this is because \n",
        "our convnet looks for patterns anywhere in the input timeseries, and has no knowledge of the temporal position of a pattern it sees (e.g. \n",
        "towards the beginning, towards the end, etc.). Since more recent datapoints should be interpreted differently from older datapoints in the \n",
        "case of this specific forecasting problem, the convnet fails at producing meaningful results here. This limitation of convnets was not an \n",
        "issue on IMDB, because patterns of keywords that are associated with a positive or a negative sentiment will be informative independently \n",
        "of where they are found in the input sentences.\n",
        "\n",
        "One strategy to combine the speed and lightness of convnets with the order-sensitivity of RNNs is to use a 1D convnet as a preprocessing \n",
        "step before a RNN. This is especially beneficial when dealing with sequences that are so long that they couldn't realistically be processed \n",
        "with RNNs, e.g. sequences with thousands of steps. The convnet will turn the long input sequence into much shorter (downsampled) sequences \n",
        "of higher-level features. This sequence of extracted features then becomes the input to the RNN part of the network."
      ]
    },
    {
      "metadata": {
        "id": "IHoUAVWQkWJ8",
        "colab_type": "text"
      },
      "cell_type": "markdown",
      "source": [
        "\n",
        "This technique is not seen very often in research papers and practical applications, possibly because it is not very well known. It is very \n",
        "effective and ought to be more common. Let's try this out on the temperature forecasting dataset. Because this strategy allows us to \n",
        "manipulate much longer sequences, we could either look at data from further back (by increasing the `lookback` parameter of the data \n",
        "generator), or look at high-resolution timeseries (by decreasing the `step` parameter of the generator). Here, we will chose (somewhat \n",
        "arbitrarily) to use a `step` twice smaller, resulting in twice longer timeseries, where the weather data is being sampled at a rate of one \n",
        "point per 30 minutes."
      ]
    },
    {
      "metadata": {
        "id": "q8dSCMJwkWJ8",
        "colab_type": "code",
        "colab": {}
      },
      "cell_type": "code",
      "source": [
        "# This was previously set to 6 (one point per hour).\n",
        "# Now 3 (one point per 30 min).\n",
        "step = 3\n",
        "lookback = 720  # Unchanged\n",
        "delay = 144 # Unchanged\n",
        "\n",
        "train_gen = generator(float_data,\n",
        "                      lookback=lookback,\n",
        "                      delay=delay,\n",
        "                      min_index=0,\n",
        "                      max_index=200000,\n",
        "                      shuffle=True,\n",
        "                      step=step)\n",
        "val_gen = generator(float_data,\n",
        "                    lookback=lookback,\n",
        "                    delay=delay,\n",
        "                    min_index=200001,\n",
        "                    max_index=300000,\n",
        "                    step=step)\n",
        "test_gen = generator(float_data,\n",
        "                     lookback=lookback,\n",
        "                     delay=delay,\n",
        "                     min_index=300001,\n",
        "                     max_index=None,\n",
        "                     step=step)\n",
        "val_steps = (300000 - 200001 - lookback) // 128\n",
        "test_steps = (len(float_data) - 300001 - lookback) // 128"
      ],
      "execution_count": 0,
      "outputs": []
    },
    {
      "metadata": {
        "id": "6e-0KFVWkWKA",
        "colab_type": "text"
      },
      "cell_type": "markdown",
      "source": [
        "This is our model, starting with two `Conv1D` layers and following-up with a `GRU` layer:"
      ]
    },
    {
      "metadata": {
        "id": "op8P4h2wkWKB",
        "colab_type": "code",
        "colab": {}
      },
      "cell_type": "code",
      "source": [
        "model = Sequential()\n",
        "model.add(layers.Conv1D(32, 5, activation='relu',\n",
        "                        input_shape=(None, float_data.shape[-1])))\n",
        "model.add(layers.MaxPooling1D(3))\n",
        "model.add(layers.Conv1D(32, 5, activation='relu'))\n",
        "model.add(layers.GRU(32, dropout=0.1, recurrent_dropout=0.5))\n",
        "model.add(layers.Dense(1))\n",
        "\n",
        "model.summary()\n",
        "\n",
        "model.compile(optimizer=RMSprop(), loss='mae')\n",
        "history = model.fit_generator(train_gen,\n",
        "                              steps_per_epoch=500,\n",
        "                              epochs=20,\n",
        "                              validation_data=val_gen,\n",
        "                              validation_steps=val_steps)"
      ],
      "execution_count": 0,
      "outputs": []
    },
    {
      "metadata": {
        "id": "2UhazQmlkWKE",
        "colab_type": "code",
        "colab": {},
        "outputId": "6ac1cbaf-1403-42da-c2bc-b58bf93aca1e"
      },
      "cell_type": "code",
      "source": [
        "loss = history.history['loss']\n",
        "val_loss = history.history['val_loss']\n",
        "\n",
        "epochs = range(len(loss))\n",
        "\n",
        "plt.figure()\n",
        "\n",
        "plt.plot(epochs, loss, 'bo', label='Training loss')\n",
        "plt.plot(epochs, val_loss, 'b', label='Validation loss')\n",
        "plt.title('Training and validation loss')\n",
        "plt.legend()\n",
        "\n",
        "plt.show()"
      ],
      "execution_count": 0,
      "outputs": [
        {
          "output_type": "display_data",
          "data": {
            "text/plain": [
              "<matplotlib.figure.Figure at 0x7f707ade8128>"
            ]
          },
          "metadata": {
            "tags": []
          }
        },
        {
          "output_type": "display_data",
          "data": {
            "image/png": "[encoded data removed]",
            "text/plain": [
              "<matplotlib.figure.Figure at 0x7f703c7fe940>"
            ]
          },
          "metadata": {
            "tags": []
          }
        }
      ]
    },
    {
      "metadata": {
        "id": "K_Ad9lohkWKI",
        "colab_type": "text"
      },
      "cell_type": "markdown",
      "source": [
        "Judging from the validation loss, this setup is not quite as good as the regularized GRU alone, but it's significantly faster. It is \n",
        "looking at twice more data, which in this case doesn't appear to be hugely helpful, but may be important for other datasets."
      ]
    },
    {
      "metadata": {
        "id": "J_HDXnx8kWKJ",
        "colab_type": "text"
      },
      "cell_type": "markdown",
      "source": [
        "## Wrapping up\n",
        "\n",
        "Here's what you should take away from this section:\n",
        "\n",
        "* In the same way that 2D convnets perform well for processing visual patterns in 2D space, 1D convnets perform well for processing \n",
        "temporal patterns. They offer a faster alternative to RNNs on some problems, in particular NLP tasks.\n",
        "* Typically 1D convnets are structured much like their 2D equivalents from the world of computer vision: they consist of stacks of `Conv1D` \n",
        "layers and `MaxPooling1D` layers, eventually ending in a global pooling operation or flattening operation.\n",
        "* Because RNNs are extremely expensive for processing very long sequences, but 1D convnets are cheap, it can be a good idea to use a 1D \n",
        "convnet as a preprocessing step before a RNN, shortening the sequence and extracting useful representations for the RNN to process.\n",
        "\n",
        "One useful and important concept that we will not cover in these pages is that of 1D convolution with dilated kernels."
      ]
    }
  ]
}