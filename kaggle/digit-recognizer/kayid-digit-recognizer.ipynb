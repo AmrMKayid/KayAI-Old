{
 "cells": [
  {
   "cell_type": "code",
   "execution_count": 1,
   "metadata": {
    "_cell_guid": "79c7e3d0-c299-4dcb-8224-4455121ee9b0",
    "_uuid": "d629ff2d2480ee46fbb7e2d37f6b5fab8052498a"
   },
   "outputs": [
    {
     "name": "stderr",
     "output_type": "stream",
     "text": [
      "Using TensorFlow backend.\n"
     ]
    }
   ],
   "source": [
    "import numpy as np\n",
    "import pandas as pd\n",
    "\n",
    "from keras import utils\n",
    "from keras.models import Sequential\n",
    "from keras.optimizers import RMSprop\n",
    "from keras.layers import Dense, Reshape, Conv2D, AveragePooling2D, Flatten"
   ]
  },
  {
   "cell_type": "code",
   "execution_count": 15,
   "metadata": {},
   "outputs": [],
   "source": [
    "batch_size = 256\n",
    "num_classes = 10\n",
    "epochs = 10"
   ]
  },
  {
   "cell_type": "markdown",
   "metadata": {
    "_uuid": "b2f6b47f8a21564f52cd3fee6b52eb93d2280f54"
   },
   "source": [
    "## Load the data"
   ]
  },
  {
   "cell_type": "code",
   "execution_count": 2,
   "metadata": {
    "_uuid": "94a0e6da12fb9ecd403712742729d2b0e317ce7f"
   },
   "outputs": [],
   "source": [
    "train = pd.read_csv('train.csv')\n",
    "labels = (train.iloc[:, 0].values).astype('int32')\n",
    "\n",
    "X_train = (train.iloc[:, 1:].values).astype('float32')\n",
    "X_test = (pd.read_csv('test.csv').values).astype('float32')"
   ]
  },
  {
   "cell_type": "markdown",
   "metadata": {
    "_uuid": "25c1fd6c9f6e1f266b9567724aa17c6714e85870"
   },
   "source": [
    "## Explore the data"
   ]
  },
  {
   "cell_type": "code",
   "execution_count": 3,
   "metadata": {
    "_uuid": "4051b9a74cea32482506a82a948f6773e209bac7"
   },
   "outputs": [
    {
     "data": {
      "text/plain": [
       "(42000, 784)"
      ]
     },
     "execution_count": 3,
     "metadata": {},
     "output_type": "execute_result"
    }
   ],
   "source": [
    "X_train.shape"
   ]
  },
  {
   "cell_type": "code",
   "execution_count": 4,
   "metadata": {
    "_uuid": "203db0dfb92034345df8f87e72aac3d044a0d6cd"
   },
   "outputs": [
    {
     "data": {
      "text/plain": [
       "(28000, 784)"
      ]
     },
     "execution_count": 4,
     "metadata": {},
     "output_type": "execute_result"
    }
   ],
   "source": [
    "X_test.shape"
   ]
  },
  {
   "cell_type": "code",
   "execution_count": 5,
   "metadata": {
    "_uuid": "1595d1db255e0ff49b8a7d4a427de579e22ee0cf"
   },
   "outputs": [],
   "source": [
    "y_train = utils.to_categorical(labels, num_classes=num_classes)"
   ]
  },
  {
   "cell_type": "code",
   "execution_count": 6,
   "metadata": {
    "_uuid": "d940b57f375dd75f441dfc434dd088fe301f08aa"
   },
   "outputs": [],
   "source": [
    "scale = np.max(X_train)\n",
    "X_train /= scale\n",
    "X_test /= scale\n",
    "\n",
    "mean = np.std(X_train)\n",
    "X_train -= mean\n",
    "X_test -= mean"
   ]
  },
  {
   "cell_type": "code",
   "execution_count": 7,
   "metadata": {
    "_uuid": "e94af419af826638013323b8a0784b68a61e9c22"
   },
   "outputs": [],
   "source": [
    "split_ratio = 0.1\n",
    "split_index = int(split_ratio * X_train.shape[0])\n",
    "x_val = X_train[:split_index]\n",
    "partial_x_train = X_train[split_index:]\n",
    "\n",
    "y_val = y_train[:split_index]\n",
    "partial_y_train = y_train[split_index:]"
   ]
  },
  {
   "cell_type": "markdown",
   "metadata": {
    "_uuid": "4fb376710fd77c360fcfd001b98dc5a4206e8031"
   },
   "source": [
    "## Building the network"
   ]
  },
  {
   "cell_type": "code",
   "execution_count": 8,
   "metadata": {
    "_uuid": "1fd8a13e07591baf8f4b44daa1cf72229e3f8db0"
   },
   "outputs": [],
   "source": [
    "kaynet = Sequential()\n",
    "\n",
    "kaynet.add(Reshape(target_shape=(1, 28, 28), input_shape=(784,)))\n",
    "kaynet.add(Conv2D(kernel_size=(3, 3), filters=32, padding=\"same\", data_format=\"channels_first\", kernel_initializer=\"uniform\", use_bias=False))\n",
    "kaynet.add(AveragePooling2D(pool_size=(2, 2), data_format=\"channels_first\"))\n",
    "kaynet.add(Conv2D(kernel_size=(3, 3), filters=32, padding=\"same\", data_format=\"channels_first\", kernel_initializer=\"uniform\", use_bias=False))\n",
    "kaynet.add(AveragePooling2D(pool_size=(2, 2), data_format=\"channels_first\"))\n",
    "kaynet.add(Flatten())\n",
    "kaynet.add(Dense(units=1000, activation='relu'))\n",
    "kaynet.add(Dense(units=100, activation='relu'))\n",
    "kaynet.add(Dense(units=10, activation='sigmoid'))"
   ]
  },
  {
   "cell_type": "code",
   "execution_count": 9,
   "metadata": {
    "_uuid": "2ccb35081d4e023aa136cdf78c2e069a803c8eeb"
   },
   "outputs": [],
   "source": [
    "kaynet.compile(optimizer=RMSprop(lr=0.001),\n",
    "               loss='categorical_crossentropy',\n",
    "               metrics=['accuracy'])"
   ]
  },
  {
   "cell_type": "code",
   "execution_count": 12,
   "metadata": {
    "_uuid": "1570d029aceef76886e013b66cd44dca90bb0941"
   },
   "outputs": [
    {
     "name": "stdout",
     "output_type": "stream",
     "text": [
      "Train on 37800 samples, validate on 4200 samples\n",
      "Epoch 1/10\n",
      "37800/37800 [==============================] - 36s 959us/step - loss: 0.1482 - acc: 0.9543 - val_loss: 0.1597 - val_acc: 0.9507\n",
      "Epoch 2/10\n",
      "37800/37800 [==============================] - 43s 1ms/step - loss: 0.0999 - acc: 0.9683 - val_loss: 0.0900 - val_acc: 0.9764\n",
      "Epoch 3/10\n",
      "37800/37800 [==============================] - 36s 959us/step - loss: 0.0754 - acc: 0.9766 - val_loss: 0.0892 - val_acc: 0.9733\n",
      "Epoch 4/10\n",
      "37800/37800 [==============================] - 38s 1ms/step - loss: 0.0585 - acc: 0.9813 - val_loss: 0.0837 - val_acc: 0.9764\n",
      "Epoch 5/10\n",
      "37800/37800 [==============================] - 45s 1ms/step - loss: 0.0462 - acc: 0.9855 - val_loss: 0.1189 - val_acc: 0.9671\n",
      "Epoch 6/10\n",
      "37800/37800 [==============================] - 59s 2ms/step - loss: 0.0376 - acc: 0.9872 - val_loss: 0.0848 - val_acc: 0.9783\n",
      "Epoch 7/10\n",
      "37800/37800 [==============================] - 48s 1ms/step - loss: 0.0303 - acc: 0.9898 - val_loss: 0.0798 - val_acc: 0.9783\n",
      "Epoch 8/10\n",
      "37800/37800 [==============================] - 39s 1ms/step - loss: 0.0253 - acc: 0.9919 - val_loss: 0.0893 - val_acc: 0.9779\n",
      "Epoch 9/10\n",
      "37800/37800 [==============================] - 47s 1ms/step - loss: 0.0211 - acc: 0.9926 - val_loss: 0.0876 - val_acc: 0.9817\n",
      "Epoch 10/10\n",
      "37800/37800 [==============================] - 35s 913us/step - loss: 0.0174 - acc: 0.9944 - val_loss: 0.0881 - val_acc: 0.9802\n"
     ]
    }
   ],
   "source": [
    "history = kaynet.fit(partial_x_train,\n",
    "                    partial_y_train,\n",
    "                    epochs=epochs,\n",
    "                    batch_size=batch_size,\n",
    "                    validation_data=(x_val, y_val))"
   ]
  },
  {
   "cell_type": "code",
   "execution_count": 13,
   "metadata": {
    "_uuid": "830c11145bdca589f22e6612c6bf0ac01fd4c90a"
   },
   "outputs": [
    {
     "data": {
      "text/plain": [
       "dict_keys(['val_loss', 'val_acc', 'loss', 'acc'])"
      ]
     },
     "execution_count": 13,
     "metadata": {},
     "output_type": "execute_result"
    }
   ],
   "source": [
    "history_dict = history.history\n",
    "history_dict.keys()"
   ]
  },
  {
   "cell_type": "markdown",
   "metadata": {
    "_uuid": "53f9d20737074e375466c9f35c396fd1ab19b4e4"
   },
   "source": [
    "## Plotting"
   ]
  },
  {
   "cell_type": "markdown",
   "metadata": {
    "_uuid": "ff904224feb2b6fa914d07c00cd16d8844451ac4"
   },
   "source": [
    "### Plotting the training and validation loss"
   ]
  },
  {
   "cell_type": "code",
   "execution_count": 16,
   "metadata": {
    "_uuid": "3132b14f95f1e35cb5e3244ec2d145c39bf1d0b3"
   },
   "outputs": [
    {
     "data": {
      "image/png": "[encoded data removed]",
      "text/plain": [
       "<Figure size 432x288 with 1 Axes>"
      ]
     },
     "metadata": {
      "needs_background": "light"
     },
     "output_type": "display_data"
    }
   ],
   "source": [
    "import matplotlib.pyplot as plt\n",
    "\n",
    "history_dict = history.history\n",
    "loss_values = history_dict['loss']\n",
    "val_loss_values = history_dict['val_loss']\n",
    "\n",
    "num_epochs = range(1, epochs + 1)\n",
    "\n",
    "plt.plot(num_epochs, loss_values, 'bo', label='Training loss')\n",
    "plt.plot(num_epochs, val_loss_values, 'b', label='Validation loss')\n",
    "plt.title('Training and validation loss')\n",
    "plt.xlabel('Epochs')\n",
    "plt.ylabel('Loss')\n",
    "plt.legend()\n",
    "\n",
    "plt.show()"
   ]
  },
  {
   "cell_type": "markdown",
   "metadata": {
    "_uuid": "79fb47a7f7be8f3dfd46c0c3b5f0b88e355de617"
   },
   "source": [
    "### Plotting the training and validation accuracy"
   ]
  },
  {
   "cell_type": "code",
   "execution_count": null,
   "metadata": {
    "_uuid": "539006901b6522d7f51ef18047ba5bda77cdc6a1"
   },
   "outputs": [],
   "source": [
    "plt.clf()\n",
    "\n",
    "acc_values = history_dict['acc'] \n",
    "val_acc_values = history_dict['val_acc']\n",
    "\n",
    "plt.plot(epochs, acc_values, 'bo', label='Training acc')\n",
    "plt.plot(epochs, val_acc_values, 'b', label='Validation acc')\n",
    "plt.title('Training and validation accuracy')\n",
    "plt.xlabel('Epochs')\n",
    "plt.ylabel('Loss')\n",
    "plt.legend()\n",
    "\n",
    "plt.show()"
   ]
  },
  {
   "cell_type": "markdown",
   "metadata": {
    "_uuid": "0cb3dae38e753b306120d1ae912a0e035d98eae0"
   },
   "source": [
    "## Generating test predictions"
   ]
  },
  {
   "cell_type": "code",
   "execution_count": 19,
   "metadata": {
    "_uuid": "f5c695c45d3e4ff54e211480846348e38c5cfc07"
   },
   "outputs": [],
   "source": [
    "preds = kaynet.predict_classes(X_test)\n",
    "\n",
    "def write_preds(preds, fname):\n",
    "    pd.DataFrame({\"ImageId\": list(range(1,len(preds)+1)), \"Label\": preds}).to_csv(fname, index=False, header=True)\n",
    "\n",
    "write_preds(preds, \"kay-digit-recognizer.csv\")"
   ]
  },
  {
   "cell_type": "code",
   "execution_count": null,
   "metadata": {},
   "outputs": [],
   "source": []
  }
 ],
 "metadata": {
  "kernelspec": {
   "display_name": "Python 3",
   "language": "python",
   "name": "python3"
  },
  "language_info": {
   "codemirror_mode": {
    "name": "ipython",
    "version": 3
   },
   "file_extension": ".py",
   "mimetype": "text/x-python",
   "name": "python",
   "nbconvert_exporter": "python",
   "pygments_lexer": "ipython3",
   "version": "3.6.5"
  }
 },
 "nbformat": 4,
 "nbformat_minor": 1
}
