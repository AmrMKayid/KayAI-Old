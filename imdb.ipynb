{
  "nbformat": 4,
  "nbformat_minor": 0,
  "metadata": {
    "colab": {
      "name": "imdb.ipynb",
      "version": "0.3.2",
      "provenance": [],
      "include_colab_link": true
    },
    "kernelspec": {
      "display_name": "Python 3",
      "language": "python",
      "name": "python3"
    }
  },
  "cells": [
    {
      "cell_type": "markdown",
      "metadata": {
        "id": "view-in-github",
        "colab_type": "text"
      },
      "source": [
        "<a href=\"https://colab.research.google.com/github/AmrMKayid/KayAI/blob/master/imdb.ipynb\" target=\"_parent\"><img src=\"https://colab.research.google.com/assets/colab-badge.svg\" alt=\"Open In Colab\"/></a>"
      ]
    },
    {
      "metadata": {
        "id": "ocxiBOA1NcOr",
        "colab_type": "text"
      },
      "cell_type": "markdown",
      "source": [
        "# IMDB: Movie reviews - Binary Classification"
      ]
    },
    {
      "metadata": {
        "id": "y0w3wZBrOTCb",
        "colab_type": "text"
      },
      "cell_type": "markdown",
      "source": [
        "## Loading the IMDB dataset"
      ]
    },
    {
      "metadata": {
        "id": "v5blE94dNmPm",
        "colab_type": "code",
        "colab": {
          "base_uri": "https://localhost:8080/",
          "height": 70
        },
        "outputId": "1b94edfe-eda1-45c2-dd64-d9c97e8230c6"
      },
      "cell_type": "code",
      "source": [
        "from keras.datasets import imdb\n",
        "\n",
        "(train_data, train_labels), (test_data, test_labels) = imdb.load_data(num_words=10000)"
      ],
      "execution_count": 2,
      "outputs": [
        {
          "output_type": "stream",
          "text": [
            "Using TensorFlow backend.\n"
          ],
          "name": "stderr"
        },
        {
          "output_type": "stream",
          "text": [
            "Downloading data from https://s3.amazonaws.com/text-datasets/imdb.npz\n",
            "17465344/17464789 [==============================] - 1s 0us/step\n"
          ],
          "name": "stdout"
        }
      ]
    },
    {
      "metadata": {
        "id": "1IheHJMGOa0t",
        "colab_type": "code",
        "colab": {
          "base_uri": "https://localhost:8080/",
          "height": 3892
        },
        "outputId": "3d42ac80-876b-4186-ec82-ebc0fa552ef3"
      },
      "cell_type": "code",
      "source": [
        "train_data[0]"
      ],
      "execution_count": 3,
      "outputs": [
        {
          "output_type": "execute_result",
          "data": {
            "text/plain": [
              "[1,\n",
              " 14,\n",
              " 22,\n",
              " 16,\n",
              " 43,\n",
              " 530,\n",
              " 973,\n",
              " 1622,\n",
              " 1385,\n",
              " 65,\n",
              " 458,\n",
              " 4468,\n",
              " 66,\n",
              " 3941,\n",
              " 4,\n",
              " 173,\n",
              " 36,\n",
              " 256,\n",
              " 5,\n",
              " 25,\n",
              " 100,\n",
              " 43,\n",
              " 838,\n",
              " 112,\n",
              " 50,\n",
              " 670,\n",
              " 2,\n",
              " 9,\n",
              " 35,\n",
              " 480,\n",
              " 284,\n",
              " 5,\n",
              " 150,\n",
              " 4,\n",
              " 172,\n",
              " 112,\n",
              " 167,\n",
              " 2,\n",
              " 336,\n",
              " 385,\n",
              " 39,\n",
              " 4,\n",
              " 172,\n",
              " 4536,\n",
              " 1111,\n",
              " 17,\n",
              " 546,\n",
              " 38,\n",
              " 13,\n",
              " 447,\n",
              " 4,\n",
              " 192,\n",
              " 50,\n",
              " 16,\n",
              " 6,\n",
              " 147,\n",
              " 2025,\n",
              " 19,\n",
              " 14,\n",
              " 22,\n",
              " 4,\n",
              " 1920,\n",
              " 4613,\n",
              " 469,\n",
              " 4,\n",
              " 22,\n",
              " 71,\n",
              " 87,\n",
              " 12,\n",
              " 16,\n",
              " 43,\n",
              " 530,\n",
              " 38,\n",
              " 76,\n",
              " 15,\n",
              " 13,\n",
              " 1247,\n",
              " 4,\n",
              " 22,\n",
              " 17,\n",
              " 515,\n",
              " 17,\n",
              " 12,\n",
              " 16,\n",
              " 626,\n",
              " 18,\n",
              " 2,\n",
              " 5,\n",
              " 62,\n",
              " 386,\n",
              " 12,\n",
              " 8,\n",
              " 316,\n",
              " 8,\n",
              " 106,\n",
              " 5,\n",
              " 4,\n",
              " 2223,\n",
              " 5244,\n",
              " 16,\n",
              " 480,\n",
              " 66,\n",
              " 3785,\n",
              " 33,\n",
              " 4,\n",
              " 130,\n",
              " 12,\n",
              " 16,\n",
              " 38,\n",
              " 619,\n",
              " 5,\n",
              " 25,\n",
              " 124,\n",
              " 51,\n",
              " 36,\n",
              " 135,\n",
              " 48,\n",
              " 25,\n",
              " 1415,\n",
              " 33,\n",
              " 6,\n",
              " 22,\n",
              " 12,\n",
              " 215,\n",
              " 28,\n",
              " 77,\n",
              " 52,\n",
              " 5,\n",
              " 14,\n",
              " 407,\n",
              " 16,\n",
              " 82,\n",
              " 2,\n",
              " 8,\n",
              " 4,\n",
              " 107,\n",
              " 117,\n",
              " 5952,\n",
              " 15,\n",
              " 256,\n",
              " 4,\n",
              " 2,\n",
              " 7,\n",
              " 3766,\n",
              " 5,\n",
              " 723,\n",
              " 36,\n",
              " 71,\n",
              " 43,\n",
              " 530,\n",
              " 476,\n",
              " 26,\n",
              " 400,\n",
              " 317,\n",
              " 46,\n",
              " 7,\n",
              " 4,\n",
              " 2,\n",
              " 1029,\n",
              " 13,\n",
              " 104,\n",
              " 88,\n",
              " 4,\n",
              " 381,\n",
              " 15,\n",
              " 297,\n",
              " 98,\n",
              " 32,\n",
              " 2071,\n",
              " 56,\n",
              " 26,\n",
              " 141,\n",
              " 6,\n",
              " 194,\n",
              " 7486,\n",
              " 18,\n",
              " 4,\n",
              " 226,\n",
              " 22,\n",
              " 21,\n",
              " 134,\n",
              " 476,\n",
              " 26,\n",
              " 480,\n",
              " 5,\n",
              " 144,\n",
              " 30,\n",
              " 5535,\n",
              " 18,\n",
              " 51,\n",
              " 36,\n",
              " 28,\n",
              " 224,\n",
              " 92,\n",
              " 25,\n",
              " 104,\n",
              " 4,\n",
              " 226,\n",
              " 65,\n",
              " 16,\n",
              " 38,\n",
              " 1334,\n",
              " 88,\n",
              " 12,\n",
              " 16,\n",
              " 283,\n",
              " 5,\n",
              " 16,\n",
              " 4472,\n",
              " 113,\n",
              " 103,\n",
              " 32,\n",
              " 15,\n",
              " 16,\n",
              " 5345,\n",
              " 19,\n",
              " 178,\n",
              " 32]"
            ]
          },
          "metadata": {
            "tags": []
          },
          "execution_count": 3
        }
      ]
    },
    {
      "metadata": {
        "id": "srLmcqQ3O33k",
        "colab_type": "code",
        "colab": {
          "base_uri": "https://localhost:8080/",
          "height": 34
        },
        "outputId": "87183644-806b-496b-8468-66a20964c9e3"
      },
      "cell_type": "code",
      "source": [
        "train_labels[0]"
      ],
      "execution_count": 4,
      "outputs": [
        {
          "output_type": "execute_result",
          "data": {
            "text/plain": [
              "1"
            ]
          },
          "metadata": {
            "tags": []
          },
          "execution_count": 4
        }
      ]
    },
    {
      "metadata": {
        "id": "kPrSo8EYPHn-",
        "colab_type": "text"
      },
      "cell_type": "markdown",
      "source": [
        "### Decode one of these reviews back to English words"
      ]
    },
    {
      "metadata": {
        "id": "YXTzN1leO8RS",
        "colab_type": "code",
        "colab": {
          "base_uri": "https://localhost:8080/",
          "height": 52
        },
        "outputId": "0c897471-d29b-4663-e9b5-cc7f8ee0ea2d"
      },
      "cell_type": "code",
      "source": [
        "word_index = imdb.get_word_index()\n",
        "reverse_word_index = dict([(value, key) for (key, value) in word_index.items()])\n",
        "decoded_review = ' '.join([reverse_word_index.get(i - 3, '?') for i in train_data[0]])"
      ],
      "execution_count": 5,
      "outputs": [
        {
          "output_type": "stream",
          "text": [
            "Downloading data from https://s3.amazonaws.com/text-datasets/imdb_word_index.json\n",
            "1646592/1641221 [==============================] - 0s 0us/step\n"
          ],
          "name": "stdout"
        }
      ]
    },
    {
      "metadata": {
        "id": "XlI5_6tUPxYO",
        "colab_type": "code",
        "colab": {
          "base_uri": "https://localhost:8080/",
          "height": 54
        },
        "outputId": "10ea1005-2723-4a13-c028-05255c1d193e"
      },
      "cell_type": "code",
      "source": [
        "decoded_review"
      ],
      "execution_count": 6,
      "outputs": [
        {
          "output_type": "execute_result",
          "data": {
            "text/plain": [
              "\"? this film was just brilliant casting location scenery story direction everyone's really suited the part they played and you could just imagine being there robert ? is an amazing actor and now the same being director ? father came from the same scottish island as myself so i loved the fact there was a real connection with this film the witty remarks throughout the film were great it was just brilliant so much that i bought the film as soon as it was released for ? and would recommend it to everyone to watch and the fly fishing was amazing really cried at the end it was so sad and you know what they say if you cry at a film it must have been good and this definitely was also ? to the two little boy's that played the ? of norman and paul they were just brilliant children are often left out of the ? list i think because the stars that play them all grown up are such a big profile for the whole film but these children are amazing and should be praised for what they have done don't you think the whole story was so lovely because it was true and was someone's life after all that was shared with us all\""
            ]
          },
          "metadata": {
            "tags": []
          },
          "execution_count": 6
        }
      ]
    },
    {
      "metadata": {
        "id": "m_igrWFlPz7C",
        "colab_type": "text"
      },
      "cell_type": "markdown",
      "source": [
        "## Preparing the data"
      ]
    },
    {
      "metadata": {
        "id": "FyUkj1ijQFaA",
        "colab_type": "text"
      },
      "cell_type": "markdown",
      "source": [
        "### One-hot encode"
      ]
    },
    {
      "metadata": {
        "id": "aspWCMBVnx1X",
        "colab_type": "code",
        "colab": {}
      },
      "cell_type": "code",
      "source": [
        "import numpy as np\n",
        "\n",
        "def vectorize_sequences(sequences, dimension=10000):\n",
        "  results = np.zeros((len(sequences), dimension))\n",
        "  for i, sequence in enumerate(sequences):\n",
        "    results[i, sequence] = 1\n",
        "  return results\n",
        "\n",
        "x_train = vectorize_sequences(train_data)\n",
        "x_test = vectorize_sequences(test_data)"
      ],
      "execution_count": 0,
      "outputs": []
    },
    {
      "metadata": {
        "id": "ciCU9G9fohL9",
        "colab_type": "code",
        "colab": {
          "base_uri": "https://localhost:8080/",
          "height": 34
        },
        "outputId": "09a24be8-dae0-46e3-a865-ce276c279a44"
      },
      "cell_type": "code",
      "source": [
        "x_train[0]"
      ],
      "execution_count": 8,
      "outputs": [
        {
          "output_type": "execute_result",
          "data": {
            "text/plain": [
              "array([0., 1., 1., ..., 0., 0., 0.])"
            ]
          },
          "metadata": {
            "tags": []
          },
          "execution_count": 8
        }
      ]
    },
    {
      "metadata": {
        "id": "x5l6rK7wovi7",
        "colab_type": "text"
      },
      "cell_type": "markdown",
      "source": [
        "##### vectorized Labels "
      ]
    },
    {
      "metadata": {
        "id": "Z-WIFlBwo5b8",
        "colab_type": "code",
        "colab": {}
      },
      "cell_type": "code",
      "source": [
        "y_train = np.asarray(train_labels).astype('float32')\n",
        "y_test = np.asarray(test_labels).astype('float32')"
      ],
      "execution_count": 0,
      "outputs": []
    },
    {
      "metadata": {
        "id": "1nFpaY1Mo6DY",
        "colab_type": "text"
      },
      "cell_type": "markdown",
      "source": [
        "## Building the Network"
      ]
    },
    {
      "metadata": {
        "id": "uGQhUYNJpzZx",
        "colab_type": "code",
        "colab": {}
      },
      "cell_type": "code",
      "source": [
        "from keras import models\n",
        "from keras import layers\n",
        "\n",
        "kaynet = models.Sequential()\n",
        "kaynet.add(layers.Dense(16, activation='relu', input_shape=(10000,)))\n",
        "kaynet.add(layers.Dense(16, activation='relu'))\n",
        "kaynet.add(layers.Dense(1, activation='sigmoid'))"
      ],
      "execution_count": 0,
      "outputs": []
    },
    {
      "metadata": {
        "id": "8-8V7W6orNeP",
        "colab_type": "text"
      },
      "cell_type": "markdown",
      "source": [
        "### Compiling the model with Configurations"
      ]
    },
    {
      "metadata": {
        "id": "phWyO7Str5eg",
        "colab_type": "code",
        "colab": {}
      },
      "cell_type": "code",
      "source": [
        "from keras import optimizers\n",
        "from keras import losses\n",
        "from keras import metrics\n",
        "\n",
        "kaynet.compile(optimizer=optimizers.RMSprop(lr=0.001),\n",
        "              loss=losses.binary_crossentropy,\n",
        "              metrics=[metrics.binary_accuracy])"
      ],
      "execution_count": 0,
      "outputs": []
    },
    {
      "metadata": {
        "id": "vnkGjBPjsCv-",
        "colab_type": "text"
      },
      "cell_type": "markdown",
      "source": [
        "#### validation set"
      ]
    },
    {
      "metadata": {
        "id": "xUxYatxzsumW",
        "colab_type": "code",
        "colab": {}
      },
      "cell_type": "code",
      "source": [
        "x_val = x_train[:10000]\n",
        "partial_x_train = x_train[10000:]\n",
        "\n",
        "y_val = y_train[:10000]\n",
        "partial_y_train = y_train[10000:]"
      ],
      "execution_count": 0,
      "outputs": []
    },
    {
      "metadata": {
        "id": "R2pqqNRQs3Ur",
        "colab_type": "text"
      },
      "cell_type": "markdown",
      "source": [
        "## Training your model"
      ]
    },
    {
      "metadata": {
        "id": "6cQNRp1vtAaS",
        "colab_type": "code",
        "colab": {
          "base_uri": "https://localhost:8080/",
          "height": 745
        },
        "outputId": "98e86d51-d0c2-43a9-c88d-6cab1b0f5bec"
      },
      "cell_type": "code",
      "source": [
        "history = kaynet.fit(partial_x_train,\n",
        "                    partial_y_train,\n",
        "                    epochs=20,\n",
        "                    batch_size=512,\n",
        "                    validation_data=(x_val, y_val))"
      ],
      "execution_count": 13,
      "outputs": [
        {
          "output_type": "stream",
          "text": [
            "Train on 15000 samples, validate on 10000 samples\n",
            "Epoch 1/20\n",
            "15000/15000 [==============================] - 3s 196us/step - loss: 0.5071 - binary_accuracy: 0.7837 - val_loss: 0.3788 - val_binary_accuracy: 0.8702\n",
            "Epoch 2/20\n",
            "15000/15000 [==============================] - 2s 147us/step - loss: 0.2998 - binary_accuracy: 0.9048 - val_loss: 0.2998 - val_binary_accuracy: 0.8899\n",
            "Epoch 3/20\n",
            "15000/15000 [==============================] - 2s 140us/step - loss: 0.2169 - binary_accuracy: 0.9287 - val_loss: 0.3094 - val_binary_accuracy: 0.8710\n",
            "Epoch 4/20\n",
            "15000/15000 [==============================] - 2s 136us/step - loss: 0.1743 - binary_accuracy: 0.9438 - val_loss: 0.2840 - val_binary_accuracy: 0.8840\n",
            "Epoch 5/20\n",
            "15000/15000 [==============================] - 2s 137us/step - loss: 0.1418 - binary_accuracy: 0.9542 - val_loss: 0.2855 - val_binary_accuracy: 0.8868\n",
            "Epoch 6/20\n",
            "15000/15000 [==============================] - 2s 137us/step - loss: 0.1143 - binary_accuracy: 0.9655 - val_loss: 0.3139 - val_binary_accuracy: 0.8779\n",
            "Epoch 7/20\n",
            "15000/15000 [==============================] - 2s 138us/step - loss: 0.0972 - binary_accuracy: 0.9710 - val_loss: 0.3139 - val_binary_accuracy: 0.8849\n",
            "Epoch 8/20\n",
            "15000/15000 [==============================] - 2s 138us/step - loss: 0.0801 - binary_accuracy: 0.9769 - val_loss: 0.3892 - val_binary_accuracy: 0.8644\n",
            "Epoch 9/20\n",
            "15000/15000 [==============================] - 2s 137us/step - loss: 0.0655 - binary_accuracy: 0.9819 - val_loss: 0.3651 - val_binary_accuracy: 0.8782\n",
            "Epoch 10/20\n",
            "15000/15000 [==============================] - 2s 136us/step - loss: 0.0547 - binary_accuracy: 0.9852 - val_loss: 0.3869 - val_binary_accuracy: 0.8790\n",
            "Epoch 11/20\n",
            "15000/15000 [==============================] - 2s 138us/step - loss: 0.0449 - binary_accuracy: 0.9889 - val_loss: 0.4203 - val_binary_accuracy: 0.8770\n",
            "Epoch 12/20\n",
            "15000/15000 [==============================] - 2s 135us/step - loss: 0.0379 - binary_accuracy: 0.9915 - val_loss: 0.4549 - val_binary_accuracy: 0.8690\n",
            "Epoch 13/20\n",
            "15000/15000 [==============================] - 2s 135us/step - loss: 0.0289 - binary_accuracy: 0.9941 - val_loss: 0.4751 - val_binary_accuracy: 0.8735\n",
            "Epoch 14/20\n",
            "15000/15000 [==============================] - 2s 137us/step - loss: 0.0238 - binary_accuracy: 0.9949 - val_loss: 0.5062 - val_binary_accuracy: 0.8709\n",
            "Epoch 15/20\n",
            "15000/15000 [==============================] - 2s 136us/step - loss: 0.0171 - binary_accuracy: 0.9980 - val_loss: 0.5481 - val_binary_accuracy: 0.8684\n",
            "Epoch 16/20\n",
            "15000/15000 [==============================] - 2s 136us/step - loss: 0.0168 - binary_accuracy: 0.9968 - val_loss: 0.5764 - val_binary_accuracy: 0.8703\n",
            "Epoch 17/20\n",
            "15000/15000 [==============================] - 2s 136us/step - loss: 0.0090 - binary_accuracy: 0.9995 - val_loss: 0.6233 - val_binary_accuracy: 0.8645\n",
            "Epoch 18/20\n",
            "15000/15000 [==============================] - 2s 137us/step - loss: 0.0105 - binary_accuracy: 0.9980 - val_loss: 0.6449 - val_binary_accuracy: 0.8668\n",
            "Epoch 19/20\n",
            "15000/15000 [==============================] - 2s 138us/step - loss: 0.0072 - binary_accuracy: 0.9993 - val_loss: 0.6788 - val_binary_accuracy: 0.8662\n",
            "Epoch 20/20\n",
            "15000/15000 [==============================] - 2s 135us/step - loss: 0.0096 - binary_accuracy: 0.9975 - val_loss: 0.7032 - val_binary_accuracy: 0.8659\n"
          ],
          "name": "stdout"
        }
      ]
    },
    {
      "metadata": {
        "id": "e86-drMYtQKx",
        "colab_type": "code",
        "colab": {
          "base_uri": "https://localhost:8080/",
          "height": 34
        },
        "outputId": "49a74607-d159-4e56-f925-4cdd59fe410a"
      },
      "cell_type": "code",
      "source": [
        "history_dict = history.history\n",
        "history_dict.keys()"
      ],
      "execution_count": 14,
      "outputs": [
        {
          "output_type": "execute_result",
          "data": {
            "text/plain": [
              "dict_keys(['val_loss', 'val_binary_accuracy', 'loss', 'binary_accuracy'])"
            ]
          },
          "metadata": {
            "tags": []
          },
          "execution_count": 14
        }
      ]
    },
    {
      "metadata": {
        "id": "OqKN0T9zw1TP",
        "colab_type": "text"
      },
      "cell_type": "markdown",
      "source": [
        "## Plotting"
      ]
    },
    {
      "metadata": {
        "id": "ocyOuxCNtzPx",
        "colab_type": "text"
      },
      "cell_type": "markdown",
      "source": [
        "### Plotting the training and validation loss"
      ]
    },
    {
      "metadata": {
        "id": "yK_AVLPauGKi",
        "colab_type": "code",
        "colab": {
          "base_uri": "https://localhost:8080/",
          "height": 375
        },
        "outputId": "d850f5a4-dde4-4a7d-eb9f-20a6c81d6ecf"
      },
      "cell_type": "code",
      "source": [
        "import matplotlib.pyplot as plt\n",
        "\n",
        "history_dict = history.history\n",
        "loss_values = history_dict['loss']\n",
        "val_loss_values = history_dict['val_loss']\n",
        "\n",
        "epochs = range(1, 21)\n",
        "\n",
        "plt.plot(epochs, loss_values, 'bo', label='Training loss')\n",
        "plt.plot(epochs, val_loss_values, 'b', label='Validation loss')\n",
        "plt.title('Training and validation loss')\n",
        "plt.xlabel('Epochs')\n",
        "plt.ylabel('Loss')\n",
        "plt.legend()\n",
        "\n",
        "plt.show()"
      ],
      "execution_count": 15,
      "outputs": [
        {
          "output_type": "display_data",
          "data": {
            "image/png": "[encoded data removed]",
            "text/plain": [
              "<matplotlib.figure.Figure at 0x7fb4edca5080>"
            ]
          },
          "metadata": {
            "tags": []
          }
        }
      ]
    },
    {
      "metadata": {
        "id": "QRW1gPr9umI5",
        "colab_type": "text"
      },
      "cell_type": "markdown",
      "source": [
        "### Plotting the training and validation accuracy"
      ]
    },
    {
      "metadata": {
        "id": "L8j4UBQpw_AM",
        "colab_type": "code",
        "colab": {
          "base_uri": "https://localhost:8080/",
          "height": 375
        },
        "outputId": "74ff7d8c-29e5-4647-df2a-698ae882e89b"
      },
      "cell_type": "code",
      "source": [
        "plt.clf()\n",
        "\n",
        "acc_values = history_dict['binary_accuracy'] \n",
        "val_acc_values = history_dict['val_binary_accuracy']\n",
        "\n",
        "plt.plot(epochs, acc_values, 'bo', label='Training acc')\n",
        "plt.plot(epochs, val_acc_values, 'b', label='Validation acc')\n",
        "plt.title('Training and validation accuracy')\n",
        "plt.xlabel('Epochs')\n",
        "plt.ylabel('Loss')\n",
        "plt.legend()\n",
        "\n",
        "plt.show()"
      ],
      "execution_count": 16,
      "outputs": [
        {
          "output_type": "display_data",
          "data": {
            "image/png": "[encoded data removed]",
            "text/plain": [
              "<matplotlib.figure.Figure at 0x7fb4edc8e390>"
            ]
          },
          "metadata": {
            "tags": []
          }
        }
      ]
    },
    {
      "metadata": {
        "id": "UwRfbKQQxXvh",
        "colab_type": "text"
      },
      "cell_type": "markdown",
      "source": [
        "## Retraining a model from scratch"
      ]
    },
    {
      "metadata": {
        "id": "41YLyZcEx6UZ",
        "colab_type": "code",
        "colab": {
          "base_uri": "https://localhost:8080/",
          "height": 176
        },
        "outputId": "4826f4c1-9ae8-4b42-85d0-2d6ecd815821"
      },
      "cell_type": "code",
      "source": [
        "kaynet = models.Sequential()\n",
        "kaynet.add(layers.Dense(16, activation='relu', input_shape=(10000,)))\n",
        "kaynet.add(layers.Dense(16, activation='relu'))\n",
        "kaynet.add(layers.Dense(1, activation='sigmoid'))\n",
        "\n",
        "kaynet.compile(optimizer='rmsprop',\n",
        "              loss='binary_crossentropy',\n",
        "              metrics=['accuracy'])\n",
        "\n",
        "kaynet.fit(x_train, y_train, epochs=4, batch_size=512)\n",
        "\n",
        "results = kaynet.evaluate(x_test, y_test)"
      ],
      "execution_count": 17,
      "outputs": [
        {
          "output_type": "stream",
          "text": [
            "Epoch 1/4\n",
            "25000/25000 [==============================] - 3s 108us/step - loss: 0.4738 - acc: 0.8206\n",
            "Epoch 2/4\n",
            "25000/25000 [==============================] - 2s 99us/step - loss: 0.2636 - acc: 0.9106\n",
            "Epoch 3/4\n",
            "25000/25000 [==============================] - 2s 96us/step - loss: 0.1991 - acc: 0.9306\n",
            "Epoch 4/4\n",
            "25000/25000 [==============================] - 2s 97us/step - loss: 0.1678 - acc: 0.9404\n",
            "25000/25000 [==============================] - 2s 94us/step\n"
          ],
          "name": "stdout"
        }
      ]
    },
    {
      "metadata": {
        "id": "HaKiB-wUyZZl",
        "colab_type": "code",
        "colab": {
          "base_uri": "https://localhost:8080/",
          "height": 34
        },
        "outputId": "92bb60ba-6b5c-4096-e5e4-15c5067a49cc"
      },
      "cell_type": "code",
      "source": [
        "results"
      ],
      "execution_count": 18,
      "outputs": [
        {
          "output_type": "execute_result",
          "data": {
            "text/plain": [
              "[0.3275120354938507, 0.87168]"
            ]
          },
          "metadata": {
            "tags": []
          },
          "execution_count": 18
        }
      ]
    },
    {
      "metadata": {
        "id": "qzNtt8vZygtn",
        "colab_type": "text"
      },
      "cell_type": "markdown",
      "source": [
        "### Prediction"
      ]
    },
    {
      "metadata": {
        "id": "gpi_9YZ4y2Kb",
        "colab_type": "code",
        "colab": {
          "base_uri": "https://localhost:8080/",
          "height": 141
        },
        "outputId": "98620605-f1fd-4010-ee7e-1f21ad737590"
      },
      "cell_type": "code",
      "source": [
        "kaynet.predict(x_test)"
      ],
      "execution_count": 19,
      "outputs": [
        {
          "output_type": "execute_result",
          "data": {
            "text/plain": [
              "array([[0.1278222 ],\n",
              "       [0.9997073 ],\n",
              "       [0.25774673],\n",
              "       ...,\n",
              "       [0.07330128],\n",
              "       [0.04513724],\n",
              "       [0.46468258]], dtype=float32)"
            ]
          },
          "metadata": {
            "tags": []
          },
          "execution_count": 19
        }
      ]
    }
  ]
}