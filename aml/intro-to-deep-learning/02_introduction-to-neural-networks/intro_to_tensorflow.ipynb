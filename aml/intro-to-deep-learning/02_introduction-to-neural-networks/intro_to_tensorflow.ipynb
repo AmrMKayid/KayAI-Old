{
  "nbformat": 4,
  "nbformat_minor": 0,
  "metadata": {
    "colab": {
      "name": "intro_to_tensorflow.ipynb",
      "version": "0.3.2",
      "provenance": []
    },
    "kernelspec": {
      "name": "python3",
      "display_name": "Python 3"
    },
    "accelerator": "GPU"
  },
  "cells": [
    {
      "metadata": {
        "id": "S-M3LxY5yiaK",
        "colab_type": "text"
      },
      "cell_type": "markdown",
      "source": [
        "## Colab Setup"
      ]
    },
    {
      "metadata": {
        "id": "Vnlg0sxYyXO9",
        "colab_type": "code",
        "colab": {
          "base_uri": "https://localhost:8080/",
          "height": 328
        },
        "outputId": "0769d305-bb39-4232-b5be-96e77321f976"
      },
      "cell_type": "code",
      "source": [
        "! shred -u setup_google_colab.py\n",
        "! wget https://raw.githubusercontent.com/hse-aml/intro-to-dl/master/setup_google_colab.py -O setup_google_colab.py\n",
        "import setup_google_colab\n",
        "# please, uncomment the week you're working on\n",
        "# setup_google_colab.setup_week1()\n",
        "setup_google_colab.setup_week2()\n",
        "# setup_google_colab.setup_week3()\n",
        "# setup_google_colab.setup_week4()\n",
        "# setup_google_colab.setup_week5()\n",
        "# setup_google_colab.setup_week6()\n",
        "\n",
        "# If you're using the old version of the course (check a path of notebook on Coursera, you'll see v1 or v2),\n",
        "# use setup_week2_old().\n"
      ],
      "execution_count": 1,
      "outputs": [
        {
          "output_type": "stream",
          "text": [
            "shred: setup_google_colab.py: failed to open for writing: No such file or directory\n",
            "--2019-01-24 12:15:43--  https://raw.githubusercontent.com/hse-aml/intro-to-dl/master/setup_google_colab.py\n",
            "Resolving raw.githubusercontent.com (raw.githubusercontent.com)... 151.101.0.133, 151.101.64.133, 151.101.128.133, ...\n",
            "Connecting to raw.githubusercontent.com (raw.githubusercontent.com)|151.101.0.133|:443... connected.\n",
            "HTTP request sent, awaiting response... 200 OK\n",
            "Length: 3792 (3.7K) [text/plain]\n",
            "Saving to: ‘setup_google_colab.py’\n",
            "\n",
            "setup_google_colab. 100%[===================>]   3.70K  --.-KB/s    in 0s      \n",
            "\n",
            "2019-01-24 12:15:43 (46.3 MB/s) - ‘setup_google_colab.py’ saved [3792/3792]\n",
            "\n",
            "**************************************************\n",
            "inception_v3_weights_tf_dim_ordering_tf_kernels_notop.h5\n",
            "**************************************************\n",
            "cifar-10-batches-py.tar.gz\n",
            "**************************************************\n",
            "mnist.npz\n"
          ],
          "name": "stdout"
        }
      ]
    },
    {
      "metadata": {
        "slideshow": {
          "slide_type": "slide"
        },
        "id": "Sk3EdIJsyDSI",
        "colab_type": "text"
      },
      "cell_type": "markdown",
      "source": [
        "# Intro to TensorFlow\n",
        "\n",
        "This notebook covers the basics of TF and shows you an animation with gradient descent trajectory.\n",
        "<img src=\"images/gradient_descent.png\" style=\"width:50%\">"
      ]
    },
    {
      "metadata": {
        "id": "2DJ0-kfSyDSJ",
        "colab_type": "text"
      },
      "cell_type": "markdown",
      "source": [
        "# TensorBoard"
      ]
    },
    {
      "metadata": {
        "id": "iFfgh-TxyDSK",
        "colab_type": "text"
      },
      "cell_type": "markdown",
      "source": [
        "**Plase note that if you are running on the Coursera platform, you won't be able to access the tensorboard instance due to the network setup there.**\n",
        "\n",
        "Run `tensorboard --logdir=./tensorboard_logs --port=7007` in bash.\n",
        "\n",
        "If you run the notebook locally, you should be able to access TensorBoard on http://127.0.0.1:7007/"
      ]
    },
    {
      "metadata": {
        "id": "lgfnoH6yyqTv",
        "colab_type": "code",
        "colab": {
          "base_uri": "https://localhost:8080/",
          "height": 52
        },
        "outputId": "c038658c-b5b5-4200-c022-e05074bdec74"
      },
      "cell_type": "code",
      "source": [
        "! tensorboard --logdir=./tensorboard_logs --port=7007"
      ],
      "execution_count": 8,
      "outputs": [
        {
          "output_type": "stream",
          "text": [
            "TensorBoard 1.12.2 at http://d13cd9cf0da8:7007 (Press CTRL+C to quit)\n",
            "^C\n"
          ],
          "name": "stdout"
        }
      ]
    },
    {
      "metadata": {
        "id": "WLilDbuGyDSL",
        "colab_type": "code",
        "colab": {
          "base_uri": "https://localhost:8080/",
          "height": 52
        },
        "outputId": "cbed99de-f7da-4e46-f5bd-b1bd5fd4d98b"
      },
      "cell_type": "code",
      "source": [
        "import tensorflow as tf\n",
        "import sys\n",
        "sys.path.append(\"../..\")\n",
        "from keras_utils import reset_tf_session\n",
        "s = reset_tf_session()\n",
        "print(\"We're using TF\", tf.__version__)"
      ],
      "execution_count": 3,
      "outputs": [
        {
          "output_type": "stream",
          "text": [
            "Using TensorFlow backend.\n"
          ],
          "name": "stderr"
        },
        {
          "output_type": "stream",
          "text": [
            "We're using TF 1.12.0\n"
          ],
          "name": "stdout"
        }
      ]
    },
    {
      "metadata": {
        "id": "dBg0Z7biyDSP",
        "colab_type": "text"
      },
      "cell_type": "markdown",
      "source": [
        "# Warming up\n",
        "For starters, let's implement a python function that computes the sum of squares of numbers from 0 to N-1."
      ]
    },
    {
      "metadata": {
        "id": "Z19Q84LbyDSR",
        "colab_type": "code",
        "colab": {}
      },
      "cell_type": "code",
      "source": [
        "import numpy as np\n",
        "\n",
        "def sum_python(N):\n",
        "    return np.sum(np.arange(N)**2)"
      ],
      "execution_count": 0,
      "outputs": []
    },
    {
      "metadata": {
        "id": "zZiEKXV5yDSV",
        "colab_type": "code",
        "colab": {
          "base_uri": "https://localhost:8080/",
          "height": 69
        },
        "outputId": "dd193b1e-dede-4c3b-d17e-20f33de5f260"
      },
      "cell_type": "code",
      "source": [
        "%%time\n",
        "sum_python(10**5)"
      ],
      "execution_count": 5,
      "outputs": [
        {
          "output_type": "stream",
          "text": [
            "CPU times: user 930 µs, sys: 3.02 ms, total: 3.95 ms\n",
            "Wall time: 9.94 ms\n"
          ],
          "name": "stdout"
        },
        {
          "output_type": "execute_result",
          "data": {
            "text/plain": [
              "333328333350000"
            ]
          },
          "metadata": {
            "tags": []
          },
          "execution_count": 5
        }
      ]
    },
    {
      "metadata": {
        "id": "Qp3xWsaUyDSY",
        "colab_type": "text"
      },
      "cell_type": "markdown",
      "source": [
        "# Tensoflow teaser\n",
        "\n",
        "Doing the very same thing"
      ]
    },
    {
      "metadata": {
        "id": "yTYSI_klyDSZ",
        "colab_type": "code",
        "colab": {}
      },
      "cell_type": "code",
      "source": [
        "# An integer parameter\n",
        "N = tf.placeholder('int64', name=\"input_to_your_function\")\n",
        "\n",
        "# A recipe on how to produce the same result\n",
        "result = tf.reduce_sum(tf.range(N)**2)"
      ],
      "execution_count": 0,
      "outputs": []
    },
    {
      "metadata": {
        "id": "J5GvH9_uyDSc",
        "colab_type": "code",
        "colab": {
          "base_uri": "https://localhost:8080/",
          "height": 35
        },
        "outputId": "2f187253-352b-463c-8408-f69fc7233277"
      },
      "cell_type": "code",
      "source": [
        "# just a graph definition\n",
        "result"
      ],
      "execution_count": 7,
      "outputs": [
        {
          "output_type": "execute_result",
          "data": {
            "text/plain": [
              "<tf.Tensor 'Sum:0' shape=() dtype=int64>"
            ]
          },
          "metadata": {
            "tags": []
          },
          "execution_count": 7
        }
      ]
    },
    {
      "metadata": {
        "id": "_7fO30h_yDSe",
        "colab_type": "code",
        "colab": {
          "base_uri": "https://localhost:8080/",
          "height": 69
        },
        "outputId": "c4d0c6f4-bbe5-4d00-e906-f89c36a7047c"
      },
      "cell_type": "code",
      "source": [
        "%%time\n",
        "# actually executing\n",
        "result.eval({N: 10**5})"
      ],
      "execution_count": 10,
      "outputs": [
        {
          "output_type": "stream",
          "text": [
            "CPU times: user 4.18 ms, sys: 1.03 ms, total: 5.21 ms\n",
            "Wall time: 4.06 ms\n"
          ],
          "name": "stdout"
        },
        {
          "output_type": "execute_result",
          "data": {
            "text/plain": [
              "333328333350000"
            ]
          },
          "metadata": {
            "tags": []
          },
          "execution_count": 10
        }
      ]
    },
    {
      "metadata": {
        "id": "ZJSB8ptEyDSi",
        "colab_type": "code",
        "colab": {}
      },
      "cell_type": "code",
      "source": [
        "# logger for tensorboard\n",
        "writer = tf.summary.FileWriter(\"tensorboard_logs\", graph=s.graph)"
      ],
      "execution_count": 0,
      "outputs": []
    },
    {
      "metadata": {
        "id": "bYnbsNfuyDSm",
        "colab_type": "text"
      },
      "cell_type": "markdown",
      "source": [
        "# How does it work?\n",
        "1. Define placeholders where you'll send inputs\n",
        "2. Make a symbolic graph: a recipe for mathematical transformation of those placeholders\n",
        "3. Compute outputs of your graph with particular values for each placeholder\n",
        "  * `output.eval({placeholder: value})`\n",
        "  * `s.run(output, {placeholder: value})`\n",
        "\n",
        "So far there are two main entities: \"placeholder\" and \"transformation\" (operation output)\n",
        "* Both can be numbers, vectors, matrices, tensors, etc.\n",
        "* Both can be int32/64, floats, booleans (uint8) of various size.\n",
        "\n",
        "* You can define new transformations as an arbitrary operation on placeholders and other transformations\n",
        " * `tf.reduce_sum(tf.arange(N)**2)` are 3 sequential transformations of placeholder `N`\n",
        " * There's a tensorflow symbolic version for every numpy function\n",
        "   * `a+b, a/b, a**b, ...` behave just like in numpy\n",
        "   * `np.mean` -> `tf.reduce_mean`\n",
        "   * `np.arange` -> `tf.range`\n",
        "   * `np.cumsum` -> `tf.cumsum`\n",
        "   * If you can't find the operation you need, see the [docs](https://www.tensorflow.org/versions/r1.3/api_docs/python).\n",
        "   \n",
        "`tf.contrib` has many high-level features, may be worth a look."
      ]
    },
    {
      "metadata": {
        "id": "QZ-IgZJ4yDSo",
        "colab_type": "code",
        "colab": {}
      },
      "cell_type": "code",
      "source": [
        "with tf.name_scope(\"Placeholders_examples\"):\n",
        "    # Default placeholder that can be arbitrary float32\n",
        "    # scalar, vertor, matrix, etc.\n",
        "    arbitrary_input = tf.placeholder('float32')\n",
        "\n",
        "    # Input vector of arbitrary length\n",
        "    input_vector = tf.placeholder('float32', shape=(None,))\n",
        "\n",
        "    # Input vector that _must_ have 10 elements and integer type\n",
        "    fixed_vector = tf.placeholder('int32', shape=(10,))\n",
        "\n",
        "    # Matrix of arbitrary n_rows and 15 columns\n",
        "    # (e.g. a minibatch of your data table)\n",
        "    input_matrix = tf.placeholder('float32', shape=(None, 15))\n",
        "    \n",
        "    # You can generally use None whenever you don't need a specific shape\n",
        "    input1 = tf.placeholder('float64', shape=(None, 100, None))\n",
        "    input2 = tf.placeholder('int32', shape=(None, None, 3, 224, 224))\n",
        "\n",
        "    # elementwise multiplication\n",
        "    double_the_vector = input_vector*2\n",
        "\n",
        "    # elementwise cosine\n",
        "    elementwise_cosine = tf.cos(input_vector)\n",
        "\n",
        "    # difference between squared vector and vector itself plus one\n",
        "    vector_squares = input_vector**2 - input_vector + 1"
      ],
      "execution_count": 0,
      "outputs": []
    },
    {
      "metadata": {
        "id": "bEkw2El5yDSr",
        "colab_type": "code",
        "colab": {}
      },
      "cell_type": "code",
      "source": [
        "my_vector =  tf.placeholder('float32', shape=(None,), name=\"VECTOR_1\")\n",
        "my_vector2 = tf.placeholder('float32', shape=(None,))\n",
        "my_transformation = my_vector * my_vector2 / (tf.sin(my_vector) + 1)"
      ],
      "execution_count": 0,
      "outputs": []
    },
    {
      "metadata": {
        "id": "y7O0krrRyDSt",
        "colab_type": "code",
        "colab": {
          "base_uri": "https://localhost:8080/",
          "height": 35
        },
        "outputId": "f40c989a-d364-4440-e83f-f19c54414701"
      },
      "cell_type": "code",
      "source": [
        "print(my_transformation)"
      ],
      "execution_count": 14,
      "outputs": [
        {
          "output_type": "stream",
          "text": [
            "Tensor(\"truediv:0\", shape=(?,), dtype=float32)\n"
          ],
          "name": "stdout"
        }
      ]
    },
    {
      "metadata": {
        "id": "T5pF1O24yDSw",
        "colab_type": "code",
        "colab": {
          "base_uri": "https://localhost:8080/",
          "height": 69
        },
        "outputId": "06983217-b081-40ae-9675-7a2172fb405b"
      },
      "cell_type": "code",
      "source": [
        "dummy = np.arange(5).astype('float32')\n",
        "print(dummy)\n",
        "my_transformation.eval({my_vector: dummy, my_vector2: dummy[::-1]})"
      ],
      "execution_count": 15,
      "outputs": [
        {
          "output_type": "stream",
          "text": [
            "[0. 1. 2. 3. 4.]\n"
          ],
          "name": "stdout"
        },
        {
          "output_type": "execute_result",
          "data": {
            "text/plain": [
              "array([0.       , 1.6291324, 2.0950115, 2.6289961, 0.       ],\n",
              "      dtype=float32)"
            ]
          },
          "metadata": {
            "tags": []
          },
          "execution_count": 15
        }
      ]
    },
    {
      "metadata": {
        "id": "XJWbm5QAyDSz",
        "colab_type": "code",
        "colab": {}
      },
      "cell_type": "code",
      "source": [
        "writer.add_graph(my_transformation.graph)\n",
        "writer.flush()"
      ],
      "execution_count": 0,
      "outputs": []
    },
    {
      "metadata": {
        "id": "qLjd-EZSyDS0",
        "colab_type": "text"
      },
      "cell_type": "markdown",
      "source": [
        "TensorBoard allows writing scalars, images, audio, histogram. You can read more on tensorboard usage [here](https://www.tensorflow.org/get_started/graph_viz)."
      ]
    },
    {
      "metadata": {
        "id": "RH9jGjFhyDS1",
        "colab_type": "text"
      },
      "cell_type": "markdown",
      "source": [
        "# Summary\n",
        "* Tensorflow is based on computation graphs\n",
        "* A graph consists of placeholders and transformations"
      ]
    },
    {
      "metadata": {
        "id": "a3D_c8uWyDS2",
        "colab_type": "text"
      },
      "cell_type": "markdown",
      "source": [
        "# Loss function: Mean Squared Error\n",
        "\n",
        "Loss function must be a part of the graph as well, so that we can do backpropagation."
      ]
    },
    {
      "metadata": {
        "id": "H5ks2ZOxyDS2",
        "colab_type": "code",
        "colab": {}
      },
      "cell_type": "code",
      "source": [
        "with tf.name_scope(\"MSE\"):\n",
        "    y_true = tf.placeholder(\"float32\", shape=(None,), name=\"y_true\")\n",
        "    y_predicted = tf.placeholder(\"float32\", shape=(None,), name=\"y_predicted\")\n",
        "    # Implement MSE(y_true, y_predicted), use tf.reduce_mean(...)\n",
        "    mse = tf.reduce_mean((y_predicted - y_true)**2)\n",
        "\n",
        "def compute_mse(vector1, vector2):\n",
        "    return mse.eval({y_true: vector1, y_predicted: vector2})"
      ],
      "execution_count": 0,
      "outputs": []
    },
    {
      "metadata": {
        "id": "BRA4SxcqyDS6",
        "colab_type": "code",
        "colab": {}
      },
      "cell_type": "code",
      "source": [
        "writer.add_graph(mse.graph)\n",
        "writer.flush()"
      ],
      "execution_count": 0,
      "outputs": []
    },
    {
      "metadata": {
        "id": "4DxhEcT2yDS9",
        "colab_type": "code",
        "colab": {}
      },
      "cell_type": "code",
      "source": [
        "# Rigorous local testing of MSE implementation\n",
        "import sklearn.metrics\n",
        "for n in [1, 5, 10, 10**3]:\n",
        "    elems = [np.arange(n), np.arange(n, 0, -1), np.zeros(n),\n",
        "             np.ones(n), np.random.random(n), np.random.randint(100, size=n)]\n",
        "    for el in elems:\n",
        "        for el_2 in elems:\n",
        "            true_mse = np.array(sklearn.metrics.mean_squared_error(el, el_2))\n",
        "            my_mse = compute_mse(el, el_2)\n",
        "            if not np.allclose(true_mse, my_mse):\n",
        "                print('mse(%s,%s)' % (el, el_2))\n",
        "                print(\"should be: %f, but your function returned %f\" % (true_mse, my_mse))\n",
        "                raise ValueError('Wrong result')"
      ],
      "execution_count": 0,
      "outputs": []
    },
    {
      "metadata": {
        "id": "PuusarrnyDTB",
        "colab_type": "text"
      },
      "cell_type": "markdown",
      "source": [
        "# Variables\n",
        "\n",
        "Placeholder and transformation values are not stored in the graph once the execution is finished. This isn't too comfortable if you want your model to have parameters (e.g. network weights) that are always present, but can change their value over time.\n",
        "\n",
        "Tensorflow solves this with `tf.Variable` objects.\n",
        "* You can assign variable a value at any time in your graph\n",
        "* Unlike placeholders, there's no need to explicitly pass values to variables when `s.run(...)`-ing\n",
        "* You can use variables the same way you use transformations \n",
        " "
      ]
    },
    {
      "metadata": {
        "id": "yoKpWri3yDTD",
        "colab_type": "code",
        "colab": {}
      },
      "cell_type": "code",
      "source": [
        "# Creating a shared variable\n",
        "shared_vector_1 = tf.Variable(initial_value=np.ones(5),\n",
        "                              name=\"example_variable\")"
      ],
      "execution_count": 0,
      "outputs": []
    },
    {
      "metadata": {
        "id": "nJEsSQE4yDTF",
        "colab_type": "code",
        "colab": {
          "base_uri": "https://localhost:8080/",
          "height": 35
        },
        "outputId": "1387511f-3a99-4943-febf-fee35ea8d79f"
      },
      "cell_type": "code",
      "source": [
        "# Initialize variable(s) with initial values\n",
        "s.run(tf.global_variables_initializer())\n",
        "\n",
        "# Evaluating the shared variable\n",
        "print(\"Initial value\", s.run(shared_vector_1))"
      ],
      "execution_count": 22,
      "outputs": [
        {
          "output_type": "stream",
          "text": [
            "Initial value [1. 1. 1. 1. 1.]\n"
          ],
          "name": "stdout"
        }
      ]
    },
    {
      "metadata": {
        "id": "ZKVX8x-7yDTI",
        "colab_type": "code",
        "colab": {
          "base_uri": "https://localhost:8080/",
          "height": 35
        },
        "outputId": "dd99b705-ba19-4198-89af-0b63c527518e"
      },
      "cell_type": "code",
      "source": [
        "# Setting a new value\n",
        "s.run(shared_vector_1.assign(np.arange(5)))\n",
        "\n",
        "# Getting that new value\n",
        "print(\"New value\", s.run(shared_vector_1))"
      ],
      "execution_count": 23,
      "outputs": [
        {
          "output_type": "stream",
          "text": [
            "New value [0. 1. 2. 3. 4.]\n"
          ],
          "name": "stdout"
        }
      ]
    },
    {
      "metadata": {
        "id": "d0Fok0ZayDTL",
        "colab_type": "text"
      },
      "cell_type": "markdown",
      "source": [
        "# tf.gradients - why graphs matter\n",
        "* Tensorflow can compute derivatives and gradients automatically using the computation graph\n",
        "* True to its name it can manage matrix derivatives\n",
        "* Gradients are computed as a product of elementary derivatives via the chain rule:\n",
        "\n",
        "$$ {\\partial f(g(x)) \\over \\partial x} = {\\partial f(g(x)) \\over \\partial g(x)}\\cdot {\\partial g(x) \\over \\partial x} $$\n",
        "\n",
        "It can get you the derivative of any graph as long as it knows how to differentiate elementary operations"
      ]
    },
    {
      "metadata": {
        "id": "JDRTquLFyDTL",
        "colab_type": "code",
        "colab": {}
      },
      "cell_type": "code",
      "source": [
        "my_scalar = tf.placeholder('float32')\n",
        "\n",
        "scalar_squared = my_scalar**2\n",
        "\n",
        "# A derivative of scalar_squared by my_scalar\n",
        "derivative = tf.gradients(scalar_squared, [my_scalar, ])"
      ],
      "execution_count": 0,
      "outputs": []
    },
    {
      "metadata": {
        "id": "kNXBC-ALyDTO",
        "colab_type": "code",
        "colab": {
          "base_uri": "https://localhost:8080/",
          "height": 35
        },
        "outputId": "9d504a39-3afc-472a-a760-b41ae5fb4604"
      },
      "cell_type": "code",
      "source": [
        "derivative"
      ],
      "execution_count": 25,
      "outputs": [
        {
          "output_type": "execute_result",
          "data": {
            "text/plain": [
              "[<tf.Tensor 'gradients/pow_1_grad/Reshape:0' shape=<unknown> dtype=float32>]"
            ]
          },
          "metadata": {
            "tags": []
          },
          "execution_count": 25
        }
      ]
    },
    {
      "metadata": {
        "id": "z3cU22VzyDTQ",
        "colab_type": "code",
        "colab": {
          "base_uri": "https://localhost:8080/",
          "height": 265
        },
        "outputId": "fcb44be3-a37c-4998-a5ac-c42073e4e713"
      },
      "cell_type": "code",
      "source": [
        "import matplotlib.pyplot as plt\n",
        "%matplotlib inline\n",
        "\n",
        "x = np.linspace(-3, 3)\n",
        "x_squared, x_squared_der = s.run([scalar_squared, derivative[0]],\n",
        "                                 {my_scalar:x})\n",
        "\n",
        "plt.plot(x, x_squared,label=\"$x^2$\")\n",
        "plt.plot(x, x_squared_der, label=r\"$\\frac{dx^2}{dx}$\")\n",
        "plt.legend();"
      ],
      "execution_count": 26,
      "outputs": [
        {
          "output_type": "display_data",
          "data": {
            "image/png": "[encoded data removed]",
            "text/plain": [
              "<Figure size 432x288 with 1 Axes>"
            ]
          },
          "metadata": {
            "tags": []
          }
        }
      ]
    },
    {
      "metadata": {
        "id": "TM9oI4BuyDTS",
        "colab_type": "text"
      },
      "cell_type": "markdown",
      "source": [
        "# Why that rocks"
      ]
    },
    {
      "metadata": {
        "id": "GgD5cLXsyDTT",
        "colab_type": "code",
        "colab": {}
      },
      "cell_type": "code",
      "source": [
        "my_vector = tf.placeholder('float32', [None])\n",
        "# Compute the gradient of the next weird function over my_scalar and my_vector\n",
        "# Warning! Trying to understand the meaning of that function may result in permanent brain damage\n",
        "weird_psychotic_function = tf.reduce_mean(\n",
        "    (my_vector+my_scalar)**(1+tf.nn.moments(my_vector,[0])[1]) + \n",
        "    1./ tf.atan(my_scalar))/(my_scalar**2 + 1) + 0.01*tf.sin(\n",
        "    2*my_scalar**1.5)*(tf.reduce_sum(my_vector)* my_scalar**2\n",
        "                      )*tf.exp((my_scalar-4)**2)/(\n",
        "    1+tf.exp((my_scalar-4)**2))*(1.-(tf.exp(-(my_scalar-4)**2)\n",
        "                                    )/(1+tf.exp(-(my_scalar-4)**2)))**2\n",
        "\n",
        "der_by_scalar = tf.gradients(weird_psychotic_function, my_scalar)\n",
        "der_by_vector = tf.gradients(weird_psychotic_function, my_vector)"
      ],
      "execution_count": 0,
      "outputs": []
    },
    {
      "metadata": {
        "id": "ieIRd6PSyDTV",
        "colab_type": "code",
        "colab": {
          "base_uri": "https://localhost:8080/",
          "height": 265
        },
        "outputId": "8b0938fd-e36a-4a37-8345-b4fee92cb680"
      },
      "cell_type": "code",
      "source": [
        "# Plotting the derivative\n",
        "scalar_space = np.linspace(1, 7, 100)\n",
        "\n",
        "y = [s.run(weird_psychotic_function, {my_scalar:x, my_vector:[1, 2, 3]})\n",
        "     for x in scalar_space]\n",
        "\n",
        "plt.plot(scalar_space, y, label='function')\n",
        "\n",
        "y_der_by_scalar = [s.run(der_by_scalar,\n",
        "                         {my_scalar:x, my_vector:[1, 2, 3]})\n",
        "                   for x in scalar_space]\n",
        "\n",
        "plt.plot(scalar_space, y_der_by_scalar, label='derivative')\n",
        "plt.grid()\n",
        "plt.legend();"
      ],
      "execution_count": 28,
      "outputs": [
        {
          "output_type": "display_data",
          "data": {
            "image/png": "[encoded data removed]",
            "text/plain": [
              "<Figure size 432x288 with 1 Axes>"
            ]
          },
          "metadata": {
            "tags": []
          }
        }
      ]
    },
    {
      "metadata": {
        "id": "q4CJzrvCyDTX",
        "colab_type": "text"
      },
      "cell_type": "markdown",
      "source": [
        "# Almost done - optimizers\n",
        "\n",
        "While you can perform gradient descent by hand with automatic gradients from above, tensorflow also has some optimization methods implemented for you. Recall momentum & rmsprop?"
      ]
    },
    {
      "metadata": {
        "id": "v2byprwxyDTX",
        "colab_type": "code",
        "colab": {}
      },
      "cell_type": "code",
      "source": [
        "y_guess = tf.Variable(np.zeros(2, dtype='float32'))\n",
        "y_true = tf.range(1, 3, dtype='float32')\n",
        "\n",
        "loss = tf.reduce_mean((y_guess - y_true + 0.5*tf.random_normal([2]))**2) \n",
        "\n",
        "step = tf.train.MomentumOptimizer(0.03, 0.5).minimize(loss, var_list=y_guess)"
      ],
      "execution_count": 0,
      "outputs": []
    },
    {
      "metadata": {
        "id": "nXExouCkyDTc",
        "colab_type": "text"
      },
      "cell_type": "markdown",
      "source": [
        "Let's draw a trajectory of a gradient descent in 2D"
      ]
    },
    {
      "metadata": {
        "id": "o5o7RIb2yDTc",
        "colab_type": "code",
        "colab": {
          "base_uri": "https://localhost:8080/",
          "height": 269
        },
        "outputId": "5c440d5d-746d-45c2-f27c-2919331ecaec"
      },
      "cell_type": "code",
      "source": [
        "from matplotlib import animation, rc\n",
        "import matplotlib_utils\n",
        "from IPython.display import HTML, display_html\n",
        "\n",
        "# nice figure settings\n",
        "fig, ax = plt.subplots()\n",
        "y_true_value = s.run(y_true)\n",
        "level_x = np.arange(0, 2, 0.02)\n",
        "level_y = np.arange(0, 3, 0.02)\n",
        "X, Y = np.meshgrid(level_x, level_y)\n",
        "Z = (X - y_true_value[0])**2 + (Y - y_true_value[1])**2\n",
        "ax.set_xlim(-0.02, 2)\n",
        "ax.set_ylim(-0.02, 3)\n",
        "s.run(tf.global_variables_initializer())\n",
        "ax.scatter(*s.run(y_true), c='red')\n",
        "contour = ax.contour(X, Y, Z, 10)\n",
        "ax.clabel(contour, inline=1, fontsize=10)\n",
        "line, = ax.plot([], [], lw=2)\n",
        "\n",
        "# start animation with empty trajectory\n",
        "def init():\n",
        "    line.set_data([], [])\n",
        "    return (line,)\n",
        "\n",
        "trajectory = [s.run(y_guess)]\n",
        "\n",
        "# one animation step (make one GD step)\n",
        "def animate(i):\n",
        "    s.run(step)\n",
        "    trajectory.append(s.run(y_guess))\n",
        "    line.set_data(*zip(*trajectory))\n",
        "    return (line,)\n",
        "\n",
        "anim = animation.FuncAnimation(fig, animate, init_func=init,\n",
        "                               frames=100, interval=20, blit=True)"
      ],
      "execution_count": 30,
      "outputs": [
        {
          "output_type": "display_data",
          "data": {
            "image/png": "[encoded data removed]",
            "text/plain": [
              "<Figure size 432x288 with 1 Axes>"
            ]
          },
          "metadata": {
            "tags": []
          }
        }
      ]
    },
    {
      "metadata": {
        "id": "Eq_PBIfKyDTf",
        "colab_type": "code",
        "colab": {
          "base_uri": "https://localhost:8080/",
          "height": 309
        },
        "outputId": "31d32041-c624-4474-f30f-564237b8b8f8"
      },
      "cell_type": "code",
      "source": [
        "try:\n",
        "    display_html(HTML(anim.to_html5_video()))\n",
        "except (RuntimeError, KeyError):\n",
        "    # In case the build-in renderers are unaviable, fall back to\n",
        "    # a custom one, that doesn't require external libraries\n",
        "    anim.save(None, writer=matplotlib_utils.SimpleMovieWriter(0.001))"
      ],
      "execution_count": 31,
      "outputs": [
        {
          "output_type": "display_data",
          "data": {
            "text/html": [
              "<video width=\"432\" height=\"288\" controls autoplay loop>\n",
              "  <source type=\"video/mp4\" src=\"data:video/mp4;base64,AAAAHGZ0eXBNNFYgAAACAGlzb21pc28yYXZjMQAAAAhmcmVlAAA4dW1kYXQAAAKuBgX//6rcRem9\n",
              "5tlIt5Ys2CDZI+7veDI2NCAtIGNvcmUgMTUyIHIyODU0IGU5YTU5MDMgLSBILjI2NC9NUEVHLTQg\n",
              "QVZDIGNvZGVjIC0gQ29weWxlZnQgMjAwMy0yMDE3IC0gaHR0cDovL3d3dy52aWRlb2xhbi5vcmcv\n",
              "eDI2NC5odG1sIC0gb3B0aW9uczogY2FiYWM9MSByZWY9MyBkZWJsb2NrPTE6MDowIGFuYWx5c2U9\n",
              "MHgzOjB4MTEzIG1lPWhleCBzdWJtZT03IHBzeT0xIHBzeV9yZD0xLjAwOjAuMDAgbWl4ZWRfcmVm\n",
              "PTEgbWVfcmFuZ2U9MTYgY2hyb21hX21lPTEgdHJlbGxpcz0xIDh4OGRjdD0xIGNxbT0wIGRlYWR6\n",
              "b25lPTIxLDExIGZhc3RfcHNraXA9MSBjaHJvbWFfcXBfb2Zmc2V0PS0yIHRocmVhZHM9MyBsb29r\n",
              "YWhlYWRfdGhyZWFkcz0xIHNsaWNlZF90aHJlYWRzPTAgbnI9MCBkZWNpbWF0ZT0xIGludGVybGFj\n",
              "ZWQ9MCBibHVyYXlfY29tcGF0PTAgY29uc3RyYWluZWRfaW50cmE9MCBiZnJhbWVzPTMgYl9weXJh\n",
              "bWlkPTIgYl9hZGFwdD0xIGJfYmlhcz0wIGRpcmVjdD0xIHdlaWdodGI9MSBvcGVuX2dvcD0wIHdl\n",
              "aWdodHA9MiBrZXlpbnQ9MjUwIGtleWludF9taW49MjUgc2NlbmVjdXQ9NDAgaW50cmFfcmVmcmVz\n",
              "aD0wIHJjX2xvb2thaGVhZD00MCByYz1jcmYgbWJ0cmVlPTEgY3JmPTIzLjAgcWNvbXA9MC42MCBx\n",
              "cG1pbj0wIHFwbWF4PTY5IHFwc3RlcD00IGlwX3JhdGlvPTEuNDAgYXE9MToxLjAwAIAAACE/ZYiE\n",
              "AC///vau/MsrRwuVLh1Ze7NR8uhJcv2IMH1oAAADAADVayF8oYJVUBkObi9U5yVoZjkUI4cD4l6f\n",
              "tpCA9k6jInm8ze5n3il1LyfLZwhQJf4uAACsHc7+i5K/a5ClCRqk69yth3ZlEQmSZP2WL0NcVnYz\n",
              "/j2J9StFgBqADndTUgBfmyOolbF8qlfDDupzxDUtx1KufOZGoMOAY0TqQSxcPwo4rC+fX0vQT4Zm\n",
              "cVAdufcD6yBjzCeIZ6KS9y/TidKEvZb716T/Ma5K0cYDx/D6i64ywyeJcVzDlT/bf3uZ9LkYA+wU\n",
              "4Eq+EZjAmhMAnwEexCYTEmfJ0MY2krOtW8+/TS/pHg7uR/JIpS0rebBw8V2SUOkwjaWE63vLBsAE\n",
              "wFHgz4O8wPYaIkjae058tGTZxzQ2g/Jj9oUyRq8ECBWwXxW/NCeHVdhqRbPWP7oCm7gpas0F3Ul5\n",
              "8Wt7DTifAR/AMPNxFckeNVacQGgzvl/EB2nHIB5/DA3N1U9jxjSy1bLGKWqDYfQ04ZVXTD2Psr89\n",
              "I2r2pGQx8QH2pR9AXslL03Wj5Ih4JGDrOnqliVIx8Z3jdWz82o3pRZx8iw/UsOwLGM4OpB6RLDNz\n",
              "kyleoSlRy47ICQGXb1Wzw8dCH9osWBjNr86nQg7vbnRJ7QpnNAMJ1TgRY7/Xn8OyuWqFfZNd+dFo\n",
              "r5fM7Wnj688lYLW7Nd1d5qbbcCJwelJUeyGqR0jr6bRHYtxYVK4/Ix+YNZ0LmgT5WOv7MI8crCV6\n",
              "TVs2A1zvBPBQmAajxEB+Eh6s/wBJqDi2Z6U+/xSU96fM7ZQUUY0reji9PX8PZTuVJ60ztl7u+TVh\n",
              "+3BRxpfN0MW1Kj4R+Cljm8jPd+lmgG4PdDJB4Tp1SHL4VfgysjzCS7C8tLM9p/7p8kiMRwWarvPw\n",
              "FSOGMmNB9bFpJwlXwIjzxLVQC8WVElH4r007TLtIniezgL0IJ28niCZWWAVu8OacpCfveCiMM38O\n",
              "X4f46IXuXSixCbqd6R9JKzHSzCBMi0D+/9ywwX3iuIG9pVSTk2SnJIjajeNGDRgzNtYFzf5SO57W\n",
              "tVuf9eb5X0figXCv8kUhRKtnvIxdAWdYMdPuxNYQBStkeAfmdMS+9nz6Awx1Pa0T5mwXb5FX6Ezm\n",
              "Q0Ub2g+1CF+apTLPc2AhcqcvVRC9yAJqehfe24g0ax0dUbifNfGSAdPXdUK19CNvvQAopwM1Ir1W\n",
              "wCCVbxsgQlWmgeIfO2nAjUgY/QUo7HNVSvuYBRKaDZI/y5joeH2uwnylrrnzg9wBRVYSUcxf9jdj\n",
              "GngBUAgv3TtPrZ568aZQPPCsDdnqRqhBbJAMQMWN75V1bj7Y27QGJabVTV9Bh1IrOf2LwRqTLT6m\n",
              "Wegdz2KHhBlTHktkvlppWXXgk3KsFTDu9rVNuNt68lI0WxKzDHcZbWwnDBeEh6rHogiygraG1hSz\n",
              "arduTbU7+pWkKKHH1cZ693ONDoLh4tRcJ34osr/GqaOUprGp3OiV5vqHooR2ASxY3r/zzrweQ4jw\n",
              "tm7+Gl7+KYioY5Xvs7lhfWydILBsMI3Wypi/oYhLEst/J8rCN4waqHhsKfdlkKWLu2qM0zwT/bo+\n",
              "fn82p1xx1+zCd2RU/mTEyy10xNEKw4hXDEPzQj+mzNqIL+PEJQpXHXO73vhww9QcQbDFLz+yKnWb\n",
              "+JA729Z5pe1ZcrY02+71ojDjtJtDkiIJ+X4s8VeBzxVwtuHKc2FNR69pyYIRjt1+gM6BS49yQAkT\n",
              "MnTgFIEdVgfe2xfRPeOzzRC0C9TmR89a/pc3bFZ7QoF0K0SHS6zkVkpYo5H0dBUDXwy6yApsYR5O\n",
              "uz8e8bJ07KPvVY9j47DisQrcqLEfd4uRtq+WxZlWRUH+oghpgwvS9LaPFx9V1OpUuDscsvVcqWCM\n",
              "R/TIF+igKVzXi5Q3ZTCYGedkmZuGBPu4V3cC4NE1iNJnr3tVxqPc9XFCZlYLFdiF72LD47iko+jx\n",
              "pYR/45R04908L1ODz7b2qpPsZDPWl8RG6B4hK4xTXdAReD9rdNPU7jbatsXXuAojwcKjXW50IyN7\n",
              "wOgzf0m/rK4U0eNnzf+p2LxJullvpCXPKLmJQiSPAoCEoLF81CIq05MOFw0c7DeJCZ/MJq7rjf3L\n",
              "jlSNUdqIy69R69Juegp8XCRocskcCohO4zPIYv9PHyM55tp8KIMgyjBFolp7P692NDZ+wvgkvrI9\n",
              "GxI8MaGT43j1OInB0N2yZjWd5JWWTj9dOozB5ghWeT11CRWih+WVf7WpsKUP1XQQ/R8M5i8sZ5Vo\n",
              "JbjfY9M6Ai5gJTWUGmyZ7q6FxT7pOlo6J365UzeG8i0xv+0KUQxgUkxJwpDLRVbOLFgACgoAt1rV\n",
              "HJC+kpm3IBHu7zTi4abyByzARwGa2qpOGLuYr1mHUBh7VQ9c8yD1BXSLpnX0K2ZpP3/v3FJe5oCG\n",
              "ceO1oAW9ZlqmPMm6X6sEBVjNio16324jIxwPKKtAsT/WusVS4u+PaNACBMNgYOR/xqv0fw2OhTK9\n",
              "qKlNIzdi6IpCxc96kmq2qTIqEVWucGtCM+uJ/OZUmQk2srrx6qprZjHzTkmvRknRxCGMoI5dK9Xk\n",
              "HhMMoiC2Is5SwoZP30vCkq6KBrkQ9cF1M620Mks0mnfFYIWLLX10RgQo3u+4nPgshC8yj1ZksFpE\n",
              "jleEdjJkJOalxqPgMTewDjloFg8mYFiLBvd4p1HYUBmFf0lfeawh7kCKYJcDI5TjoU8ptUo4WY+Q\n",
              "oM0R6WZSsPRFNv5lx0Mvrnm87jjtfXEyMBJs17DS4YIV3qpEZ1sfxVKD+uY167gDIdTW6DlHwcs0\n",
              "aZ6ihBThyfDzyibOiL5IWmduITzJ+Nqu9sNgh6Zg+s63ohkuxp1XdvDXeJonXuBN6283mW3JXLdd\n",
              "jx/3bOGt1slAyStHugscXCyMVaKPa1uxz3hl986L+W3k/+PfylncQTf4JFbCvAj6VCk+qW9BCDZN\n",
              "WBvln+dn4GkaHkZ5qbWnwuyW68gdXR7A7hwFe6U7IgK3xvBQL/VikYK5aSwMgwYjHDaLBPI9mkty\n",
              "9oPYHXxHo26VANQF0ZRN4UEfChEcEug4UCoFv4C3rwStg9MHag//T4DmB2f2bpkekEmFF+ALp7Dc\n",
              "5LacY1CQjcWewXK0c/abo4HaqH6eaUvUjQDljwA3hpdbKDzIX7Q6BiFD3wWoH8nJzDpVyDDwDwhR\n",
              "baESbF0kNF7R2hX8hBnwb6WPTimZyYm4E1uGIvH3TU/HvyQ2bY0/TqPZByca3quXh+AYcGlwEyH1\n",
              "fytQ2Wo5T6XHS4Kf9X9hLiX0Z/OWWEcld1q8eYzoyEBDlAGo8OhJc5+bQsN8vrI3/P6Wtn64T+/h\n",
              "MT5jcPRl3LqWl+9THlKNrBjNlk5P1kepMdcOJdpkHUDb2XFFtcdJXXONZRAHZ2pEp3+xS9Mu/qe1\n",
              "0G11SEt/JosxZ67Q1rdrf7b1uKcbkXY81GxIn6BFTc3EViE+hd9S1Dd8cuP+2/KTDreTZH4CqSy0\n",
              "8Ql8lFzUqT5WmHxNNfgChUH4ojPUfNVW0S5Sbrl/fM+xj4L0Otk27kqRKpk3qZZD3ylWMhNkPsEu\n",
              "LdsslnWOLq1CR+XnAHdPhRLAaPZZ0nJ/UQdLgwaYYoxEIuK1ieP7mGjgku6D49bCOo+wWo+F8wct\n",
              "NckGVsLnkjpyKn4us7Ufu5EhPlkwU7kxsPsupm+2eeC/N6uoCGL+OThB/55JpAYIwsLEPe9+gHuh\n",
              "UyeHBjp9onAjNupCXrYa93KYLa5EGchpIvT/xbyp6bZLKb/+ARf1Mnb/FbV03ti5WyvrwCjDWn02\n",
              "M2oArArzEspQFgvQx9W4S3DE56NIxUc0z9YDPvhxuQcWx0FmNlC4x2FMEW5uHogEFPlDt27MOweD\n",
              "g/1F6+s92sQAey2+iiiWynepuT5xraRsd7AOXsXw86wzjwRFIYxcv5ufWVjlTeLPbQeOlR3TvlEZ\n",
              "qbejv6W0/smqFljTc5mDBr5GkdNsx6YkI1eKDW4tRnCuodSXAPcdkL7fKx/Ktm0lQwKYjlkmDaa1\n",
              "VNagOWNZrjSGIg+vtMAWEEk8CNeH5DdCm5vlmH2hjsqnaEIQcX8sHugtxLMysHDn8CxQri13tA0Q\n",
              "nRZIc5Ea1n0d30ZgT2M1+L9+QAWjEO3E3R41ez3r9QlbfYiot74GD30+tCUFDNSH3ceLfjFAaghM\n",
              "Ba2XJ/HdZ8fIpjI+Q0XTkNrNYZbaL4gREKmZ5Y5yLxpFy1PfP1faNZ94dPmyKq2IdJCwhtZZro36\n",
              "JYFRhtaxZ4st+kf6WFqI9jJ4KoZ1DadL9DGnGH8f6FChGD7jzZDcUY0g/4iPj64YZyJU1bXuxf8W\n",
              "LSld8ld3S+iLUIJftPB67akHOE9ejJDlkcSfba66V7h1IHCLAEOrlem3Y1uaLevnMXwZVJhx0BO3\n",
              "Wbz43RRDB3sMXn+bWLA//vK7kdjDXuVF4N3aq01EzVaJ5V0dZyOx30dJSfrNSB2r6ejB6U7PaOyf\n",
              "kcg+h0VhRX6KYWYm3k+WdL9vAGdLTdUQN0cGv8FBK60IbHCu9ykUivMRIW7bvqCHG977NGSJX0Zy\n",
              "TTFOLLSl1EysO+IhgiK5t0o3j2IWfdtE6z+YhMR/4n7C11nZkYlXfODPLYFgCtIVy6F9qRY+JdkK\n",
              "UgVqN0Y9eI4gPUfBS2QaU4BlAxUkDHfPK3a+v2Ee+pjq9aggSwSiKUWgB7xIjFiSWjj2EQW5nHwW\n",
              "aeSFDFWHE9uCec8vr/YvuXZpC9/x/VCdjCz+qq31KjuNYGoM9JlxFcBNzb03/11YnZgqBa2sDcz7\n",
              "F3TAoefNAHjditzQo5teY7v7G6wzTVT/ILYs4gcs3hZTmAuIhnQdJGr5I+6voR+M3qDYA+k/il9n\n",
              "mnax6CzM24W4kIAXrbdI39NugSpkxyCgWhRQ2qiyIj55Aaq8GrU2FXez4n9MGGKAP9WpZAxkMC2q\n",
              "PBd8kr0S1lPMsD9oFcvn2MuEtFqYirthw64l9rbh/iEIOI/81lFYC7A7/Tccw8ezGzOdg/3jaZxl\n",
              "YAXFa6hnLQuzcVShgcJAGagBwI4QdvRd9D8yuoZS2X6CWkQWgkBRhQ8v2izgCqspLp1MVxlCOrWL\n",
              "LuU3AsI/1gRRFJRJ/pnryepnN5d2rusoZjdFvP31T15oEKG3av/C10U7VSm6ZcA33VHe6dPu+wQh\n",
              "ceIpLaVTjxRKMjt1eCDFhkkRgCqUGznfAE0f5zntZvYE6MoUIhXMw4+tJwJ2x3eQXvnppF3BQheQ\n",
              "9ASm/cD5zFZzEuQVt2f/DXt/mrZzkB/4DRvWpyHbB3ZHmpTULT83jekXCeybCZsC/zv5Lp4avKzz\n",
              "X5tgZENiVHvqA6kWwpzCHNkkusteyYdAwQk5ZQtOBvtH5a8ljG80X+9chIQJGEGnp+PJn5f4lSS5\n",
              "i4llARP4qMrlfhptmetHjWQAqYZQkehf+XdjzwY1QoTCuoZsZEGWdHV+K5zHOPoCpXRavsHoqh1i\n",
              "Bi+4EFUD50ltuyTkfFvAgruG1NjXKjKAc18bqWYe1y6QnCXu6aVP1vI0fK746EkpP5tIpC5hmweA\n",
              "BoJbb9juxe1zA94O8yfPbko00b1oVwEMwhVcprYX/lDGNxRqY5ICq9xd+vhe133gH+8/FLelnreG\n",
              "5FUxTBZaANC/tGPM7wV3xNy/HWcNDYZjCSW3yV0Bi+VI6/NfbR3qc/u8u0cdU8R3jauv8DppJN2m\n",
              "qgwsiT8da431c7yoW4cgjNUgDB/cjIqd1GNBQt2RoI7YDJd0WrlaX/AbIkUk6WVK7l8lbGWETG/1\n",
              "LKvVKFCF0d8FzBBSFp2nWl9F/Ksin0JThYgRiSf91VF2pqONhnZwM/eZ82TNEeDX0eygzcb3xzkr\n",
              "dHg66k+eDUhh5ptWfDZ4bBqU8Yeg1NuCxgiFxtnynojRbqGL9boLjHucnbnPFStcxKJaaJt4mWJD\n",
              "lzPlGiGF0aKSG9Ox8q6adT4bm+WlRtEvIqrpcK/QLV2lo2ShvGIOU896uhtH1vlLv4WaLsnaPZmi\n",
              "ZISDTqr7bqpzOf00ZzrDxoCbZIqXrjb7fAcQ+5wIXmTSlzQNRrI6C7lH5T9IUjXUa6Ou1pWZREvw\n",
              "YsuQi2S66bDk08tkEQYwQZyeB5OoBGFnvR9BYr/IEFv/GHTf8cy/6cOXrseaGB37MYSceGfN5spf\n",
              "FmGD6xF+zZ3wrXQ1tP3pHnJ7DxcN7/BnxyDj31GGl7bEs/ZvkbK5JObGrnOtWlG6bApulJ/aHsSb\n",
              "m6WD7g9mqMPQ8be3jS7Yi3qZtuRiKQjf7b1WRhngi0An2ALp4RF/rzHPJM16MLPJE7OaIEA96YPt\n",
              "86ULVeaO/3+7OdYUhMdNeWLQd8H9xd/dQwmfoULWWI+XvDpHJTM+I4jonBqZ8Rh2AYNm4uwNewXR\n",
              "2CIfD///xc5qh6/sgApWJC4N9lgKVpEYm8QjZyfexj6MGbdZJ7S/2irQo6j3cZVPsm80Pz6dRRjL\n",
              "yNt0EX9WvkRd5oZ09r+O/iMLRikygeBYy7S/VCadk1Hn1/IUngeJD0KWa+UlEDqGPoe3w8Xr9NLV\n",
              "dezWfOIPtBPlhKdi8n97nmKvuxoodeIFG/VjoWU5k8HLD0nc6A4SJ3yjZQc9wWc7R6FJ0lXF5rGQ\n",
              "WAKDKk4FcZ3w5Fg2c0mrtA60lAfOd7doGMAyrznAEdWA3z0bZhB2wkra/A3ns4XECR8UYHzhhNEW\n",
              "spvdz9FczmfuHeoIiipcC9v/RxybQRNsNK69tEMHzNFvV9f9nEFOgx5KDiKk8NsEh2v6Q1ezetKl\n",
              "pUA54rxrRVX1PZXGoWI3k0y3B5jUTvttbZAT9EQE1Irb/N7Yufy6ys1FbCwevSfHP863PYezkdoe\n",
              "5C+CfcPPgCGxnX2sNbtKHBvmGxPIKn8ethYy86vq1hZwrXjnE6yVYX355e0SoYTfMBAAP94yTu7O\n",
              "fIRhZ1GIZ/ri0gRiA68vpK3n4HN+CpiEFaQi8xQZXNQ6HJpvSoAFKLlucyj4G/IAiqpD3tfqzgYE\n",
              "GJpeD6kNCIWNOj24NOhKVl44iF45VDm+CMj0EE7FhlfTXXEc9j9NpCtrNbDZ7jBId/fF0eQRE4+v\n",
              "vKAZVRIAfTaNZfS2BBPuH4cHhwxz+tgLSBiqpJcTRdJdQ79XRX0xjKb1vuda5v4Hp8rYjg7aNpee\n",
              "4iSniLkXJ/kJNGxpNS5B7esp+3pvgS1MYP/zkqoqEcQYwvaOtxcGX1uEhNXPIksIPpUjVgr6HNiv\n",
              "4IsK+fVZWHooafcstVjrkrcT/iqO3jSBiMQNKtkkfFbjtvVnTUDWnuKISppkwizZES5Q3zX1cyNr\n",
              "LzT8KCTf6o+TdKOYWZcDZEYoOToBBn37RXhp7nyWT53J80d/FRn1f1MlaFNdBf2dTBdFwkdxfxUJ\n",
              "jv1X04zPtlHI95sfSiVHzuANH+3UylDfT6GGAoAUMDe/v690Ou7mfPvD88vt88Ee4WUEDvRoptTa\n",
              "oSMvXilpktDk0thbZOR6fMJTF3EYpGUDaJ8Lp3wvBLh08OzhvWcL4vWILM0PxqEqqB5InZShvTAJ\n",
              "nkTLv8+icr2FB/aMI3ckHcxWlYylaulV3BsDOgOa1Kwr454dX5prn3kMJ0uXLWoTkii7vPhLWOml\n",
              "yA3K9NimicD+Aot76BWiTRxYbO7QLmGwWSmDHNCl2lFoT11FYCC0FZNG62Zc6ZRAG0SY6RNbqYQ7\n",
              "tDzDhlTYn/AEq9FjLVnnkIlNCgKSph9EHSv4zu1DT/RqegdTeM32tCv3uboJ3kdIHpTm2C+yEQbS\n",
              "n/SQn4P0aMMX7/adC7c66tqTu/4EbRA4kvuLrYvnld1l1ExzRSB0bS14+5KgD/8Gby2iejAkNIUi\n",
              "ykkzgjiayY+uRSvDREge7iBTBhSPsjbBEaGbbou44eXf16y131JdO8QAeNQ2HBwqGb5/sZu6q8el\n",
              "O0VTlncajvWMhJe14gEngvo3rJ8gusqJ4S2jeNeUqdfSGPM7oBYbZ40V1UpJNiU9saxtZtMY8E3/\n",
              "jFd6A+X5NK0dRM/AIQLRCgumZ2dA/wJzQ5+238R210lWLI0e4+WBk1a6xgOlwQ5sFxj1UStIHSca\n",
              "FXQxWoCs+DvoeIkUKkdRbHaQZFYoJBWQidPiS0GF2QF+GeK/g9qzZm/MVBJkClIHo+yeU2CsLCe/\n",
              "7ADR3PMtyMT1nbzd5xJ1IXj8/lHB7ltWefWEwMhukjdajlpgMU5qjgZHJb4Hc+UEEODZw5jLsZI9\n",
              "yCDFeng4IJLlTXLtijitsFLS2O5B4IXRXSDrjeJh9gAC5qQfv29qys0Hy9+r6GM+sLOeJTkBxN2F\n",
              "iwLcqQSu8TnO5vldl01bn80SMiWL/ZubCDYEq6n8XYCLWPFgFy/zAXl353kCy3KZmpWPehbE6/Vc\n",
              "KxurnZaY2LD86bJyODpSoXF24FECD0053Ne5Z31vpYpJf27xmLpQ+jp71tHXNAADAaogMgeIGBdQ\n",
              "ByJpb2hpfdcnWTn0Aujy6Ql7mV6uDthkXISwQ0v69c/A0zG9NcpZPw1ZRcBQlFEWosYSgXBA331m\n",
              "wIVKzoo3ps0a9+Pg8rXmBTa7pxk91mw9X7vYdGmrm2qdPgq+om7SL5ZM/951MaJY1rWme24xGVFE\n",
              "m/RXwksKTkVVhyk5MSj5ZHPMng7NQojnvD3z4u/8+nM+4YBshkr94ozeXEP/S0waunkOB/3f8Dz8\n",
              "A9nqzpb0TrmNMMJla0bKPggl2nr8JnUVCBkyw/Oqd1yfEvebmc0ZofDsf7MtSd72wMAfVGV25IWO\n",
              "rIOAkxDzeGdeinjnAHCQyVOJHLNTb6BkG9uT1wKoBLoS1/1Tdq/RAOcbHvoxhCtn93qWm+ZjMHN6\n",
              "0TkeGafCQG/UfhgHWf0U8QdOl1mlqpudvYaQ5hBEpO8g8sjg29A7f4VM8KDMZZMZrxoYwSAPQgsM\n",
              "HXgik91VaEws6SjQhmV5SUA3TI3+mgr3a8sVa+Yv9TXvYUAsWEqS66AsDkce/jlps0WX2/oZpYKf\n",
              "Zd3T6ynEcvtKBsGRCxP6tjK+lwBOuq6WpLJKEBhQGsrJdzKQcT2mGnb/M0G4WFG+5hT9yeqW9vhG\n",
              "ROSaBF9NXelqyDB9qX5F70WjkvZDoErjvfEr2E/GE6FVDSPH1clPhzQq/CIGDWmgVbO6Fe3wa5Lu\n",
              "gm99dFziMGlW+H/vXpHD81LbqyzolaMsJ49YmccRlcyZMiu5Nvo2ctHYou9evcuamxV3gXR2O4dw\n",
              "dRZD9a2nG0Maegf3wmxMmlmZK7Q9d9VAIqE/hSBI1tcGIsGaCTixp8DIoah/VEOJOPiT2a88mxiq\n",
              "IjbZhpao8xlcdxHG07Y9G7piksRvr8oH+Rdng/YyJJ8JY3ZPWsQgIOgfs1s4mNIDmz845mDQ1MbN\n",
              "ufNYReHCGaowFb0GGlES/tvwisN5aFoRyhz9jBY+3x7QoVuf+jHtUqddJ+xgUdJL/lPHx+fPMS8Y\n",
              "z6YlQZeH/3XxlL+t/KWuCHMCzlWgz8twqar3nApiIPNqqXoairnWMR0zJstrXKubj1bgD0qFe8mq\n",
              "cct7JET+yvtoH9rvrZBUdnp9lvairnXSyFSej01bXsZ/AQQIIjZk+Tv84ClhqHoTDY04gtE/JyE2\n",
              "muU/J2RoIXzzxsAnOT2ivMMkenvAsuIxjKKbKDybtmDbdNI5/AqCkw0kFawI0zxyFq7CWLdnZCK/\n",
              "uFMh/yopD8dRWLBOosE2G0qI3mVKo5CPmaTEI7oeJU/o696dxz9kF2NecnvjURy4BYGe1lxY7IM0\n",
              "JSfnKuQHN/+UMSDX5SG7ZGfeXSt2mAxi9Oc0vWaCshKflN9/EXGY+3gl94hc8igDvPS1+Rl+dDt8\n",
              "UYvJdR4/Pbb9qUmqAr+JyCAlYx2mQGZkUBVhyNTWFYbestiuBvua2iL1RjRbNWt3jsYZuBCApYQk\n",
              "mXqHHse5N4Wc8FAUe5jmrTAyXVeHtKvxP+uYqtZ54GrIISVA8pL1mGDpSoaXupysT3gpCEpO+8TP\n",
              "lalN9C83US7smLKso/21vr6Zk26RaaiCuRlGfWaM5Dni1FBAniikmCq1fcSEcmHSiTjWhvdofb0o\n",
              "rNhJvn5dRklO0X+F+o2Pki+jdGJiY4fMGIwlam5on2L9PE2UqVRLNlf7hs/WstwWcRwc4yEgWFkb\n",
              "DS8GggrU5h7stU/cqzkWetf5uRmkP0yyv3QtMm2iMtJ9X8N11h+QwrBbD+We3of/2ewkuyXVMXdq\n",
              "hX0dg3Qv8DJm5437INc/5p28Hiho/mJOHrQBsCk3IWBckDla6pdfnw5+mLrUz1g2FuM9Kwpd4A/g\n",
              "uMjen71wuNlYa+rH1n3iIgKt1QmWy0bCwp1W25k6kP2G647k0P17XaNUe0h6ZWTeCrItXFRFUkKL\n",
              "veQujp2v3BgnqowWtDHyFP6eodNipjdPUesVPqVVBuqIY4lVHJ1Lu1fVFJqKfmDYl0Lj9z6UVqzv\n",
              "QxtxtyiIdUThtn6+yX8e5eBU1sYGX0uP5iTNbA48lh2Z0hb83yGhOSe7SZLnRPXUYfQTE0XrI4rp\n",
              "pFnAj5XexMwJCsli1e28+nRNeF7yp1RRpdYWgrY+XcF/aINLXFd4ZFbBdgV2ubNnDNdKFoNTb7OC\n",
              "FNqCznB4JAAUpxNtnsj63ZMv3BUaO9wFeoP0GzFALIxEYcd8PIkbrrstzKkn/MiKN1VsqvLQypx8\n",
              "eBlcEMvt/xiJU6km0LpBxZjaLySUdfzZfFK1UptYtXYEM9SW/g0H+Gj+RViKRxMMLzdNrPouggnf\n",
              "PkQSNupBEspV81lmUMOwQSXM045z1AQwKDCovxW320slOl7Kgkce5IhV8TfUnms2IFPbXA3pTlIs\n",
              "AY9nHTwqGM7R2D1q8F6uu7q1z97AtMwsX+0VRml7Q061Z8HWpUVtyScBsLgPOxIY/5P7gwcvXih8\n",
              "HwIEx72zRlSQpVIJThE5mGKqDZM013HF3CVb7pV91xOafPWJYWv/Eu2RYSXyXY50B2pPOX9D88zD\n",
              "xF/ik1tvzudd72GpCfi0l48lWj06ufY1zESlBvY4s90o3vnIQxOfvXrU5RSJ3lnu9jMqOPWTpzfy\n",
              "fqlJMDmW5pKPDhzkgV9Ac+knoWwEyPIwbpa9e8sJftY4EYvIxWPwgEb99BXEcZQqKFaiT2Z5nOKE\n",
              "R85VVg++1379XSqwUgOiwpfsVAGer4PFQ1Jq+bC0uPz9jrL8sZaEr7Th1DMLiANmcPCsLGeFK5aj\n",
              "YeD9P9KYcS9vgpO3GyFRL6x7+TTFNL2i+WjJBPeZYiicvALwPH+eeOoZixjCEaCj77a1EwchMsNE\n",
              "eA1fW6nO3Zgf0DTTBsLBOS8D7p88qwK2avAAcHSOEu+35lWYP0n5oZ4OQeLgV2r6l5gx/WTMWMNr\n",
              "d2YNFa/aAppsAAADAAjpAAABnEGaIWxC//6MsAbSO/xB/Z6EbkB/UnWSbmdPV94A/Rs5lgdO0q3N\n",
              "nJazM0+hFjIAriDyetBe6/dx/LUg/14+b6fTHr6jLT644bvEdcJxUaZN9g/oe1jxQM6wZ8hnTxzL\n",
              "YK9w6gWA9U6T5t4bCspmIdPbO4KPKDmJJ8fw953AwvmMoTXtGbKc/SA3GcdWUvx0rYY6zFIihmjj\n",
              "FgHWPAPP2sb73gzFwlDBLVyUjeWlKtzV6z2sT4/UwCKsKXMjgQxRrlV4pt5qnE2Tbq07UAhtKeej\n",
              "CKCagQj0M7bPebBuzVKsD/c749Nku4u8ZXFl9GxU/RXgc6cdpZY5+gjV0iLwZkij9wSDrq3Eiw4m\n",
              "FKAzuYdvKIUo5FvNJV3bDSjGQRecgt0lTrFgB29uVRkkFoEPRrlvYLZ3nOnf5l793HdlX7X6HYxg\n",
              "DMe39erocFa6WOBTHjgyRUqmJ/axzWfz1vhsMSD96ZcIbtrpGCgPnfpgreruHMO5uQbIAh1+OVrt\n",
              "1wwzqhb9Sn4NP3UIoBPopu1bMdJl2aU03lGAeGLNELAAAAEPQZpEPCGTKYQv//6MsAbNOv8I89nh\n",
              "Y2w9UPvpI5+xzj/ysmjShqWO8OZl+2YKYmCN0+7H0w1yiJey6m43Ay09ShLftBQSWeI8esPwle7A\n",
              "D/pqSGzemtcOp5E2pU9zHVkCN9sZyIJm4Z0R04F5FSXtNj+fVx8qMYrKEZzN2Yt9Xlk0uE56G/3r\n",
              "a5P+ml7QLUCh/pXfM9OgnjMHSNAqkNjgm7IJfZ91AdAsc0qbmfrFwYBTCyAk786F8a66tj1u8eT1\n",
              "C+4XpD6oBMLdJtUxnKX6mkv1FqxrgWVrP7Bb0k/FEyJIyRk551Fs2CaaVz/nDhM4luJWho6kty8Z\n",
              "tade1bCms2tg/HmDr5zW0hTKi/EtoQAAACNBnmJqU8I/AR2BfyMby8dl07NABsKDIR+E7vOP/Cxf\n",
              "W1YlgAAAAB4BnoNqR/8AAGmDiYAWtIPoj3KKZWarLbri+uZbVUEAAAEsQZqISahBaJlMCF///oyw\n",
              "AsmKgiEcZ8VUpyuR0wteRn6GcPQ4duMVWpsbTyjLON0dpS/pZT7ajFzL9RvmlUhnKf1McRvggGrG\n",
              "c7RpiPCLV1GZ8qQmzXUA9BciuzrEtSsioX+v8L6KL2MCoc65pO/baUUUJ6jy+sVFgwA8rmOP4F1z\n",
              "soEFLeuZjb/IQX739qawKzOfwp5ffL/89PJqrprPKmq9a1/Ykfiqo0GN6VlpiYn0Ww7AT/aZc5v5\n",
              "lQ3nI9bGavJ01nLeT09ZDYO61qoE7FjOmgHGAif/xV7YGcslL9oIqwmEr4wsXuAv8oYxXzGUJxpR\n",
              "+dM3nMJn1YUKxD6zP7eiFuFkOdtBLyyE8gktJIk7btE/5FPTlPFisjxxO48z5F5XVGwkvz9qvQ9h\n",
              "AAAAJEGepkURLCP/AAD4w+SYSZwgAD8TEX164N52NDnAX75twO32YQAAACIBnsV0R/8AAM3fTEoh\n",
              "ABE5zw38HpecotnPniEg12lK3yuPAAAAIgGex2pH/wABkfhLXgAIvdgeF4Le0Dj3JA+l47+9JoKL\n",
              "h/AAAAC6QZrLSahBbJlMCF///oywAYCsugRgKQ3/waE3ZvJfkTWzJEeIYLDZv83dJEEQm1pMDB8q\n",
              "W8RSkq028i0nSZQdKt+JF3ltCQ303Te3tGzLkp8lK3jC74kMrumYiJE/C6RfEstAuevhqRIbYliI\n",
              "t/83lrZD4zBKdmAHydcEIEeotcpbZj+MaP9vlhNztA0SyZP7Jytltx4Bze2PTjp7hLQBrN/zaOcM\n",
              "tamjNoqLoME10igmTirm2Ba5/qSAAAAAH0Ge6UUVLCP/AAHbiSUZN1YAEHHRLv3rtuNXh3x2D/kA\n",
              "AAAaAZ8Kakf/AAL7gnxtwcgCoPVwY2xOsbgZFhcAAACqQZsOSahBbJlMCF///oywAYB1QRGDZDgS\n",
              "g8zmWnV+T4geLH+a7K0Byzpt3GCWD2842le55E2smYfv8HP+hRW3AdW+AfDjagkyuEp0J+XRhsTe\n",
              "lfdX8bx/+CpZNHcCx4P6+pwtL+0mgSScAHL7+4lp+eCenbdWh7hGhNhYkyNaASTaKg3vGZr6Mk22\n",
              "uyRwJdhKtflwC4u//Mffa7nTpdJGveYBxr7ABO/QJuAAAAAeQZ8sRRUsI/8AA6ESSjC6hcAVqUtX\n",
              "aimQOR/fAAWRAAAAGAGfTWpH/wAF0zUTvwAIeqhBiJjqHQOx+wAAAIhBm1JJqEFsmUwIX//+jLAB\n",
              "gHVBEcCkOBMGhOabyX5NwrcRWjeIV5BaLcUxL0eWI4CrpNXk3YRSFGrhhLYb8nv9GL4kbhRgicQP\n",
              "f1XTLKXW9rEzpyZWNVIurYyBDGOOdxhUtNDP/54Ai2XiH4zqGylcGXj04NqWWXtpIFqE/gZHm57I\n",
              "qeH3gFlBAAAAHEGfcEUVLCP/AAOf/xrVAG2/KRJWetu+p8dH+e0AAAAZAZ+PdEf/AAXQgkwA2yLv\n",
              "6ZLy6WRaE9p1gAAAABEBn5FqR/8ABZsqua5eyEuloQAAAFlBm5VJqEFsmUwIX//+jLABgKy6BGAp\n",
              "Df+g8zdWnV+Rh7WXjdzGUv6qB+wZU5Zk/MJuDNpL9rGIKdLK+0/+MB2QlYUSYofe9iqe9CQ6s+NB\n",
              "yo+QSARmCtUMWAAAAB1Bn7NFFSwj/wAHFiIlJQDQAAcSM6wvaPtRHPqMKAAAABoBn9RqR/8AC15q\n",
              "+scAGo77EhahrLwZydk9gQAAAFRBm9hJqEFsmUwIV//+OEAFzsSAkdb+/+zwrFdJF8spK819+FUd\n",
              "ikC//jhZqQaboW4hp3lqeQPWpxDjzedN5+FnVIzmA7RiX9bV/gy47SjgYwjgHjAAAAAdQZ/2RRUs\n",
              "I/8ABvvo114ApQ7hI2ULVn9hG6IbrRMAAAAVAZ4Xakf/AAtT3e6UQAjAKz+VyCsvAAAAVkGaGUmo\n",
              "QWyZTAhf//6MsAGAdUERwKQ4EoPM5lp1fk+OZw+44Lcco4Roqq5rqdBQBfyQZ4pzcMfGGtkgw4t+\n",
              "LiSnrWBrpHimxujojULqF+yz2SvfvLRbAAAAiEGaPEnhClJlMCFf/jhABc+/cCVbP78/EylIHxxj\n",
              "ZXas3+FnfAJ632RnWRwYR7fJW4a+BZ80JMHbKmWnbYtJMQjIsiLK9e8w0jo/1Q9TlkP6EE0xUNCM\n",
              "rfhFV/lTXxRjCgV8Zuq6TVWsvalDID7CRa+goKcNnLmw4wacBd0meayrwA2++NeICNkAAAAcQZ5a\n",
              "RTRMI/8ADiyYiADpGkTjRUBkCFopk77FbAAAABcBnntqR/8AFm2JvJQAiqB1KYLWdHEh3QAAAGJB\n",
              "mn1JqEFomUwIX//+jLABgHVBEYNkOBKDzOZafZoOptZ0WaEFYfrT66pr7RoEucCrk2e6EW99sY20\n",
              "IBoTG9hcgpGYTjgZNwIZ3CY8WcKlnydTBBzRxF6Irp7PFb+pKBh6QQAAAEtBmp5J4QpSZTAhn/6e\n",
              "EAF9dPUIBR1Z/gNCc13ozp6v713Otqe6crD93vGYXAF8z8Xo1lIkt2ts/NhYgCZfXAKz11tsvJsK\n",
              "bdUAr4AAAACCQZqiSeEOiZTAhn/+nhABfaa+Qk1HVn9whJB4WU+qBSOjTRyjO6fb5p51PB/9oe97\n",
              "44RzuZYLC0SzoISxsY2PpTUrpLFKweVoGX24hUE9rkZ1JSEN6g0ie09jum+3hq6E6sk5dFtcOo1v\n",
              "aRPjKtzdsQ4MHgDWyeRv8rKOkO9bEgcVtAAAAB5BnsBFETwj/wAbqY8SFQAbRBsYEtyq5w/ssb7+\n",
              "xW0AAAAPAZ7/dEf/ABYXF9SPmQ9IAAAADQGe4WpH/wAsOxQg9IEAAABfQZrmSahBaJlMCGf//p4Q\n",
              "AX109QfnHVn+A24mdOLHw7LTQ/ggtnNXG5z763kHQfQvzyCV4y7T53QruA1I12KXysXVDIb7/Zhc\n",
              "ZOohaDk//Tz95LPu7go3HiHq9OmApoAAAAAcQZ8ERREsI/8AG7b3gCJjN0PeEPKAMMkN8QAOIQAA\n",
              "ABABnyN0R/8ALFQ6LY0N+paLAAAADwGfJWpH/wAsSgBF81i9mQAAAE9BmypJqEFsmUwIZ//+nhAB\n",
              "fXT1CAUdWf3CCyO5/5iJz6Sdc04TLOzqJBtHKjepy/RmIOM7fihn5TX4MMACym1HpOQCKlaB1W9a\n",
              "3UEMWgrZAAAAHUGfSEUVLCP/ABsD4iABwGhpiGzDYCKr0TF8pX20AAAADwGfZ3RH/wArIuRTcaxe\n",
              "zAAAAA0Bn2lqR/8AAAev3PlpAAAAR0GbbkmoQWyZTAhn//6eEAF9pr5CTUdWf4DZx1DtTuGeZNqy\n",
              "mnfLvErVQehvvmWRaBnmL/UBr5npOTkKlzDkxDMkY5EFgLKAAAAAGkGfjEUVLCP/ABsZdwAEzoQw\n",
              "xmGU+N64JzGwAAAADQGfq3RH/wAAB6/c+WkAAAAPAZ+takf/ACsqAEYbWL2ZAAAAXEGbskmoQWyZ\n",
              "TAhn//6eEAF9dPUH5x1Z/cISSDQvDO4PmEKl2UhqyLnPg0GZ7GOckHMoFZ1UmOBzzt4mP+kAiY8z\n",
              "l4DA/avQgPDiWo55gj+U9jgLGj5q5DOjYZEnAAAAHEGf0EUVLCP/ABup3XgBtpllNpcs/LrRBi+J\n",
              "82MAAAAQAZ/vdEf/ACxeOJDxq4GtygAAABgBn/FqR/8ALChHogA2zoXR95gpryPwAMEAAABuQZv2\n",
              "SahBbJlMCGf//p4QAX109QgFHVn+A3aKhix9wtIRhYszB3S8w/wAtx8FZJeokpP6uP/DHOkIxnD7\n",
              "dgVbeKAHdlyI0vuBQz+nNwVFlLzBuRn2iXOU2+jf+M9EEXY7r5a6DDQIgj2F8bvFAg4AAAAjQZ4U\n",
              "RRUsI/8AHFh2z9QAjAaGJrqpNB9Q8PXYVn1B/NdZHsAAAAANAZ4zdEf/AAAHr9z5aQAAAA8BnjVq\n",
              "R/8ALXmsIuam3swAAABmQZo6SahBbJlMCGf//p4QAX2mvkJNR1Z/cIbj4iRLPs+4WdgNkrPMKKX1\n",
              "INL26CZyfqy6Lj47TP+deYYSJx22iZMOxzP7urmIsAEE6u9POXsgEjJnPRnSFKCJyXJlHSVxdwvb\n",
              "GULBAAAAHUGeWEUVLCP/ABvrbiI3m/soARKFSCWX41PZjDTBAAAADQGed3RH/wAAB6/c+WgAAAAY\n",
              "AZ55akf/ACzTDsGR0AHFctc8yQ9nV3tHAAAAYUGafkmoQWyZTAhn//6eEAF9dPUH5x1Z/gN2hNsd\n",
              "n/mJiANj7CVBhC85caxA2nP+GXTAh6XYLQBg29tQPtRwzPgdTdG3leseVOk261B6VRhH5CY7vmiK\n",
              "SJghfUsBnrYOg3oAAAAdQZ6cRRUsI/8AHGb3gBrLfnLm3f3YsoVEGBfSzA0AAAANAZ67dEf/AAAH\n",
              "r9z5aQAAABkBnr1qR/8ALWvcwAtXP7zZSDtJ40QG4HKAAAAAZEGaokmoQWyZTAhf//6MsAMo6oIj\n",
              "kt4VakTJdkcO/YLDl8Pq7xt7M1398cuiUsUR+H4az3R5Zr6YJl42kZfw/RanbNhdJlO6I5xqoEUk\n",
              "GjqJgicnPEiY7kpaWIcoUg9NhCyQ34AAAAAZQZ7ARRUsI/8AG6Q9gAH87kl3eQmB5SvtoQAAABYB\n",
              "nv90R/8AK8ElMgBVnvesiL6z+ABgAAAAEAGe4WpH/wAsSYDDxq8m4PEAAABPQZrlSahBbJlMCGf/\n",
              "/p4QAx7p6g/TN4RSU1JGtfAA3ST1J5QY/Wh+QYwm+WcsC5hXfZSRyCIZm2BSLYwE5a/6wndvXKRb\n",
              "V7jx+hQV1NssWAAAABxBnwNFFSwj/wAbH8uAAueFBm0GATtIhBeE98bBAAAADQGfJGpH/wAAB6/c\n",
              "+WkAAABEQZspSahBbJlMCGf//p4QAx7p6hAS8YQbm4kbI6rCoSDwpjasqNpmXQEygjiIMOV1buWy\n",
              "ZFPLFE0RXVtpb1P9iNdYU6sAAAAZQZ9HRRUsI/8AGxb3gBXJl5Rt2fG9cE5jYQAAABABn2Z0R/8A\n",
              "Kwg9ciBMtezAAAAADQGfaGpH/wAAB6/c+WgAAABCQZttSahBbJlMCF///oywAyjqghIzM+mQRjpE\n",
              "ngZgcYPk5LWTq/eGC447+cXoGzOhZM/dRB84ZhJfiOeSfD8YNSG1AAAAD0Gfi0UVLCP/AAAE6eVL\n",
              "BAAAAA8Bn6p0R/8AKwg9ciCuo2gAAAAOAZ+sakf/ACsqAEYuce0AAAAxQZuwSahBbJlMCGf//p4Q\n",
              "AFYdZPcWBYAbpqh/wa9osxUbmuoW1eu6uYVltobJ3CwbMQAAABJBn85FFSwj/wAbkUmoJge6K0EA\n",
              "AAAVAZ/vakf/ACx5xgAP0xSiNxGBMMzAAAAAJkGb9EmoQWyZTAhf//6MsABXRroSIAcetOZHgI8X\n",
              "zkgpyyabTMIOAAAAGUGeEkUVLCP/ABu/y4ADjOTm6qIC4JgXXjsAAAAPAZ4xdEf/ACxC5FNdrF7M\n",
              "AAAADQGeM2pH/wAAB6/c+WgAAAAmQZo4SahBbJlMCF///oywAFb192wA3MPAjBV+WALS1x4ZAUhg\n",
              "xYEAAAARQZ5WRRUsI/8AG6KdUn1elGwAAAAMAZ51dEf/AAAHwiqtAAAADQGed2pH/wAAB8YA/4EA\n",
              "AAApQZp8SahBbJlMCF///oywAFb2ARYALV4ZKXBHgv70fgIVdh0wTaLyCkgAAAAPQZ6aRRUsI/8A\n",
              "AAT8KD9hAAAADwGeuXRH/wBYvRR8MiIZxQAAAA8BnrtqR/8AWMgiKNnCEMEAAAA3QZqgSahBbJlM\n",
              "CFf//jhAAU/Ec6AC4O+PFo1EaTaT9bpYehcCnwXbFbLkbYoD/h6EINjKNNB0wQAAABxBnt5FFSwj\n",
              "/wA3V82JCoAJ26dVL2rxNIEqIpygAAAAEAGe/XRH/wBXog7iF9KMEYAAAAASAZ7/akf/AFeiD2Kl\n",
              "y6Q1avMRAAAAEkGa40moQWyZTAj//IQAAAMBswAAABJBnwFFFSwj/wA2v3mIi+lMCMEAAAAOAZ8i\n",
              "akf/AFizWEMDDJMAAAeGbW9vdgAAAGxtdmhkAAAAAAAAAAAAAAAAAAAD6AAAB9AAAQAAAQAAAAAA\n",
              "AAAAAAAAAAEAAAAAAAAAAAAAAAAAAAABAAAAAAAAAAAAAAAAAABAAAAAAAAAAAAAAAAAAAAAAAAA\n",
              "AAAAAAAAAAAAAAAAAgAABrB0cmFrAAAAXHRraGQAAAADAAAAAAAAAAAAAAABAAAAAAAAB9AAAAAA\n",
              "AAAAAAAAAAAAAAAAAAEAAAAAAAAAAAAAAAAAAAABAAAAAAAAAAAAAAAAAABAAAAAAbAAAAEgAAAA\n",
              "AAAkZWR0cwAAABxlbHN0AAAAAAAAAAEAAAfQAAACAAABAAAAAAYobWRpYQAAACBtZGhkAAAAAAAA\n",
              "AAAAAAAAAAAyAAAAZABVxAAAAAAALWhkbHIAAAAAAAAAAHZpZGUAAAAAAAAAAAAAAABWaWRlb0hh\n",
              "bmRsZXIAAAAF021pbmYAAAAUdm1oZAAAAAEAAAAAAAAAAAAAACRkaW5mAAAAHGRyZWYAAAAAAAAA\n",
              "AQAAAAx1cmwgAAAAAQAABZNzdGJsAAAAs3N0c2QAAAAAAAAAAQAAAKNhdmMxAAAAAAAAAAEAAAAA\n",
              "AAAAAAAAAAAAAAAAAbABIABIAAAASAAAAAAAAAABAAAAAAAAAAAAAAAAAAAAAAAAAAAAAAAAAAAA\n",
              "AAAAAAAAGP//AAAAMWF2Y0MBZAAe/+EAGGdkAB6s2UGwloQAAAMABAAAAwGQPFi2WAEABmjr48si\n",
              "wAAAABx1dWlka2hA8l8kT8W6OaUbzwMj8wAAAAAAAAAYc3R0cwAAAAAAAAABAAAAZAAAAQAAAAAU\n",
              "c3RzcwAAAAAAAAABAAAAAQAAAthjdHRzAAAAAAAAAFkAAAACAAACAAAAAAEAAAQAAAAAAgAAAQAA\n",
              "AAABAAAFAAAAAAEAAAIAAAAAAQAAAAAAAAABAAABAAAAAAEAAAQAAAAAAgAAAQAAAAABAAAEAAAA\n",
              "AAIAAAEAAAAAAQAABQAAAAABAAACAAAAAAEAAAAAAAAAAQAAAQAAAAABAAAEAAAAAAIAAAEAAAAA\n",
              "AQAABAAAAAACAAABAAAAAAEAAAIAAAAAAQAABAAAAAACAAABAAAAAAIAAAIAAAAAAQAABQAAAAAB\n",
              "AAACAAAAAAEAAAAAAAAAAQAAAQAAAAABAAAFAAAAAAEAAAIAAAAAAQAAAAAAAAABAAABAAAAAAEA\n",
              "AAUAAAAAAQAAAgAAAAABAAAAAAAAAAEAAAEAAAAAAQAABQAAAAABAAACAAAAAAEAAAAAAAAAAQAA\n",
              "AQAAAAABAAAFAAAAAAEAAAIAAAAAAQAAAAAAAAABAAABAAAAAAEAAAUAAAAAAQAAAgAAAAABAAAA\n",
              "AAAAAAEAAAEAAAAAAQAABQAAAAABAAACAAAAAAEAAAAAAAAAAQAAAQAAAAABAAAFAAAAAAEAAAIA\n",
              "AAAAAQAAAAAAAAABAAABAAAAAAEAAAUAAAAAAQAAAgAAAAABAAAAAAAAAAEAAAEAAAAAAQAABAAA\n",
              "AAACAAABAAAAAAEAAAUAAAAAAQAAAgAAAAABAAAAAAAAAAEAAAEAAAAAAQAABQAAAAABAAACAAAA\n",
              "AAEAAAAAAAAAAQAAAQAAAAABAAAEAAAAAAIAAAEAAAAAAQAABQAAAAABAAACAAAAAAEAAAAAAAAA\n",
              "AQAAAQAAAAABAAAFAAAAAAEAAAIAAAAAAQAAAAAAAAABAAABAAAAAAEAAAUAAAAAAQAAAgAAAAAB\n",
              "AAAAAAAAAAEAAAEAAAAAAQAABQAAAAABAAACAAAAAAEAAAAAAAAAAQAAAQAAAAABAAAEAAAAAAIA\n",
              "AAEAAAAAHHN0c2MAAAAAAAAAAQAAAAEAAABkAAAAAQAAAaRzdHN6AAAAAAAAAAAAAABkAAAj9QAA\n",
              "AaAAAAETAAAAJwAAACIAAAEwAAAAKAAAACYAAAAmAAAAvgAAACMAAAAeAAAArgAAACIAAAAcAAAA\n",
              "jAAAACAAAAAdAAAAFQAAAF0AAAAhAAAAHgAAAFgAAAAhAAAAGQAAAFoAAACMAAAAIAAAABsAAABm\n",
              "AAAATwAAAIYAAAAiAAAAEwAAABEAAABjAAAAIAAAABQAAAATAAAAUwAAACEAAAATAAAAEQAAAEsA\n",
              "AAAeAAAAEQAAABMAAABgAAAAIAAAABQAAAAcAAAAcgAAACcAAAARAAAAEwAAAGoAAAAhAAAAEQAA\n",
              "ABwAAABlAAAAIQAAABEAAAAdAAAAaAAAAB0AAAAaAAAAFAAAAFMAAAAgAAAAEQAAAEgAAAAdAAAA\n",
              "FAAAABEAAABGAAAAEwAAABMAAAASAAAANQAAABYAAAAZAAAAKgAAAB0AAAATAAAAEQAAACoAAAAV\n",
              "AAAAEAAAABEAAAAtAAAAEwAAABMAAAATAAAAOwAAACAAAAAUAAAAFgAAABYAAAAWAAAAEgAAABRz\n",
              "dGNvAAAAAAAAAAEAAAAsAAAAYnVkdGEAAABabWV0YQAAAAAAAAAhaGRscgAAAAAAAAAAbWRpcmFw\n",
              "cGwAAAAAAAAAAAAAAAAtaWxzdAAAACWpdG9vAAAAHWRhdGEAAAABAAAAAExhdmY1Ny44My4xMDA=\n",
              "\">\n",
              "  Your browser does not support the video tag.\n",
              "</video>"
            ]
          },
          "metadata": {
            "tags": []
          }
        }
      ]
    }
  ]
}