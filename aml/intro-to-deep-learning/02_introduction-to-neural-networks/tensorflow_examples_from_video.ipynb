{
  "nbformat": 4,
  "nbformat_minor": 0,
  "metadata": {
    "colab": {
      "name": "tensorflow_examples_from_video.ipynb",
      "version": "0.3.2",
      "provenance": [],
      "collapsed_sections": [],
      "toc_visible": true
    },
    "kernelspec": {
      "display_name": "Python 3",
      "language": "python",
      "name": "python3"
    }
  },
  "cells": [
    {
      "metadata": {
        "id": "klFaBIFZulPu",
        "colab_type": "text"
      },
      "cell_type": "markdown",
      "source": [
        "# Video \"What is TensorFlow\""
      ]
    },
    {
      "metadata": {
        "id": "FG6g4MMuulPx",
        "colab_type": "code",
        "colab": {}
      },
      "cell_type": "code",
      "source": [
        "%config IPCompleter.greedy=True"
      ],
      "execution_count": 0,
      "outputs": []
    },
    {
      "metadata": {
        "id": "6jQq4cMUulP4",
        "colab_type": "code",
        "colab": {
          "base_uri": "https://localhost:8080/",
          "height": 35
        },
        "outputId": "d0bc6f91-42d8-4075-ce05-259bbb45e065"
      },
      "cell_type": "code",
      "source": [
        "import tensorflow as tf\n",
        "import numpy as np\n",
        "print(tf.__version__)"
      ],
      "execution_count": 3,
      "outputs": [
        {
          "output_type": "stream",
          "text": [
            "1.12.0\n"
          ],
          "name": "stdout"
        }
      ]
    },
    {
      "metadata": {
        "id": "tLoBw4ADulQI",
        "colab_type": "code",
        "colab": {}
      },
      "cell_type": "code",
      "source": [
        "tf.reset_default_graph()\n",
        "a = tf.placeholder(np.float32, (2, 2))\n",
        "b = tf.Variable(tf.ones((2, 2)))\n",
        "c = a @ b"
      ],
      "execution_count": 0,
      "outputs": []
    },
    {
      "metadata": {
        "id": "m1MQZkosulQP",
        "colab_type": "code",
        "colab": {
          "base_uri": "https://localhost:8080/",
          "height": 35
        },
        "outputId": "ad4cfe90-bea3-4b59-94fd-c07131986a48"
      },
      "cell_type": "code",
      "source": [
        "print(c)"
      ],
      "execution_count": 5,
      "outputs": [
        {
          "output_type": "stream",
          "text": [
            "Tensor(\"matmul:0\", shape=(2, 2), dtype=float32)\n"
          ],
          "name": "stdout"
        }
      ]
    },
    {
      "metadata": {
        "id": "5kZGJKMiulQS",
        "colab_type": "code",
        "colab": {}
      },
      "cell_type": "code",
      "source": [
        "s = tf.InteractiveSession()"
      ],
      "execution_count": 0,
      "outputs": []
    },
    {
      "metadata": {
        "id": "jMddbRnTulQY",
        "colab_type": "code",
        "colab": {
          "base_uri": "https://localhost:8080/",
          "height": 52
        },
        "outputId": "fa5c0da9-c910-4d84-b3cf-1b363e8b5ffc"
      },
      "cell_type": "code",
      "source": [
        "s.run(tf.global_variables_initializer())\n",
        "s.run(c, feed_dict={a: np.ones((2, 2))})"
      ],
      "execution_count": 7,
      "outputs": [
        {
          "output_type": "execute_result",
          "data": {
            "text/plain": [
              "array([[2., 2.],\n",
              "       [2., 2.]], dtype=float32)"
            ]
          },
          "metadata": {
            "tags": []
          },
          "execution_count": 7
        }
      ]
    },
    {
      "metadata": {
        "id": "WW0nfgE3ulQd",
        "colab_type": "code",
        "colab": {}
      },
      "cell_type": "code",
      "source": [
        "s.close()"
      ],
      "execution_count": 0,
      "outputs": []
    },
    {
      "metadata": {
        "id": "7BxJxZ5-ulQs",
        "colab_type": "text"
      },
      "cell_type": "markdown",
      "source": [
        "# Video \"Our first model in TensorFlow\""
      ]
    },
    {
      "metadata": {
        "id": "OuUeJTHzulQv",
        "colab_type": "text"
      },
      "cell_type": "markdown",
      "source": [
        "### Simple optimization (with simple prints)"
      ]
    },
    {
      "metadata": {
        "id": "swOOFHGculQy",
        "colab_type": "code",
        "colab": {}
      },
      "cell_type": "code",
      "source": [
        "tf.reset_default_graph()\n",
        "x = tf.get_variable(\"x\", shape=(), dtype=tf.float32, trainable=True)\n",
        "f = x ** 2"
      ],
      "execution_count": 0,
      "outputs": []
    },
    {
      "metadata": {
        "id": "56Ak9ChsulQ1",
        "colab_type": "code",
        "colab": {}
      },
      "cell_type": "code",
      "source": [
        "optimizer = tf.train.GradientDescentOptimizer(0.1)\n",
        "step = optimizer.minimize(f, var_list=[x])"
      ],
      "execution_count": 0,
      "outputs": []
    },
    {
      "metadata": {
        "id": "b4ShfgWWulQ6",
        "colab_type": "code",
        "colab": {
          "base_uri": "https://localhost:8080/",
          "height": 35
        },
        "outputId": "1e193453-d729-4919-a3dd-60a4cb834973"
      },
      "cell_type": "code",
      "source": [
        "tf.trainable_variables()"
      ],
      "execution_count": 11,
      "outputs": [
        {
          "output_type": "execute_result",
          "data": {
            "text/plain": [
              "[<tf.Variable 'x:0' shape=() dtype=float32_ref>]"
            ]
          },
          "metadata": {
            "tags": []
          },
          "execution_count": 11
        }
      ]
    },
    {
      "metadata": {
        "id": "fQGAX1TIulRA",
        "colab_type": "code",
        "colab": {
          "base_uri": "https://localhost:8080/",
          "height": 191
        },
        "outputId": "2342681a-6b88-4989-9d34-df52001fba58"
      },
      "cell_type": "code",
      "source": [
        "with tf.Session() as s:  # in this way session will be closed automatically\n",
        "    s.run(tf.global_variables_initializer())\n",
        "    for i in range(10):\n",
        "        _, curr_x, curr_f = s.run([step, x, f])\n",
        "        print(curr_x, curr_f)"
      ],
      "execution_count": 12,
      "outputs": [
        {
          "output_type": "stream",
          "text": [
            "0.009182739 0.00013175422\n",
            "0.0073461914 8.4322695e-05\n",
            "0.0058769532 5.3966527e-05\n",
            "0.0047015627 3.4538578e-05\n",
            "0.00376125 2.2104692e-05\n",
            "0.003009 1.4147002e-05\n",
            "0.0024072002 9.054082e-06\n",
            "0.0019257602 5.7946127e-06\n",
            "0.0015406081 3.7085522e-06\n",
            "0.0012324865 2.3734733e-06\n"
          ],
          "name": "stdout"
        }
      ]
    },
    {
      "metadata": {
        "id": "Caq0VDBhulRP",
        "colab_type": "text"
      },
      "cell_type": "markdown",
      "source": [
        "### Simple optimization (with tf.Print)"
      ]
    },
    {
      "metadata": {
        "id": "PUK9L9f4ulRR",
        "colab_type": "code",
        "colab": {}
      },
      "cell_type": "code",
      "source": [
        "tf.reset_default_graph()\n",
        "x = tf.get_variable(\"x\", shape=(), dtype=tf.float32)\n",
        "f = x ** 2\n",
        "f = tf.Print(f, [x, f], \"x, f:\")"
      ],
      "execution_count": 0,
      "outputs": []
    },
    {
      "metadata": {
        "id": "rGwy_3-wulRV",
        "colab_type": "code",
        "colab": {}
      },
      "cell_type": "code",
      "source": [
        "optimizer = tf.train.GradientDescentOptimizer(0.1)\n",
        "step = optimizer.minimize(f)"
      ],
      "execution_count": 0,
      "outputs": []
    },
    {
      "metadata": {
        "id": "Exy4sG-8ulRh",
        "colab_type": "code",
        "colab": {}
      },
      "cell_type": "code",
      "source": [
        "with tf.Session() as s:\n",
        "    s.run(tf.global_variables_initializer())\n",
        "    for i in range(10):\n",
        "        s.run([step, f])"
      ],
      "execution_count": 0,
      "outputs": []
    },
    {
      "metadata": {
        "id": "0ZB3wyf9ulRx",
        "colab_type": "code",
        "colab": {}
      },
      "cell_type": "code",
      "source": [
        "# Prints to jupyter server stdout (not available in Coursera Notebooks):\n",
        "# 2018-07-21 18:01:27.308270: I tensorflow/core/kernels/logging_ops.cc:79] x, f:[-1.0670249][1.1385423]\n",
        "# 2018-07-21 18:01:27.308809: I tensorflow/core/kernels/logging_ops.cc:79] x, f:[-0.85361993][0.72866696]\n",
        "# 2018-07-21 18:01:27.309116: I tensorflow/core/kernels/logging_ops.cc:79] x, f:[-0.68289596][0.46634689]\n",
        "# 2018-07-21 18:01:27.309388: I tensorflow/core/kernels/logging_ops.cc:79] x, f:[-0.54631674][0.29846197]\n",
        "# 2018-07-21 18:01:27.309678: I tensorflow/core/kernels/logging_ops.cc:79] x, f:[-0.43705338][0.19101566]\n",
        "# 2018-07-21 18:01:27.309889: I tensorflow/core/kernels/logging_ops.cc:79] x, f:[-0.34964269][0.12225001]\n",
        "# 2018-07-21 18:01:27.310213: I tensorflow/core/kernels/logging_ops.cc:79] x, f:[-0.27971417][0.078240015]\n",
        "# 2018-07-21 18:01:27.310475: I tensorflow/core/kernels/logging_ops.cc:79] x, f:[-0.22377133][0.050073609]\n",
        "# 2018-07-21 18:01:27.310751: I tensorflow/core/kernels/logging_ops.cc:79] x, f:[-0.17901707][0.032047112]\n",
        "# 2018-07-21 18:01:27.310963: I tensorflow/core/kernels/logging_ops.cc:79] x, f:[-0.14321366][0.020510152]"
      ],
      "execution_count": 0,
      "outputs": []
    },
    {
      "metadata": {
        "id": "H57Ptz_SulR6",
        "colab_type": "text"
      },
      "cell_type": "markdown",
      "source": [
        "### Simple optimization (with TensorBoard logging)"
      ]
    },
    {
      "metadata": {
        "id": "XXiUcP3julR9",
        "colab_type": "code",
        "colab": {}
      },
      "cell_type": "code",
      "source": [
        "tf.reset_default_graph()\n",
        "x = tf.get_variable(\"x\", shape=(), dtype=tf.float32)\n",
        "f = x ** 2"
      ],
      "execution_count": 0,
      "outputs": []
    },
    {
      "metadata": {
        "id": "GZbD_hcaulSV",
        "colab_type": "code",
        "colab": {}
      },
      "cell_type": "code",
      "source": [
        "optimizer = tf.train.GradientDescentOptimizer(0.1)\n",
        "step = optimizer.minimize(f)"
      ],
      "execution_count": 0,
      "outputs": []
    },
    {
      "metadata": {
        "id": "G56suMNuulSd",
        "colab_type": "code",
        "colab": {}
      },
      "cell_type": "code",
      "source": [
        "tf.summary.scalar('curr_x', x)\n",
        "tf.summary.scalar('curr_f', f)\n",
        "summaries = tf.summary.merge_all()"
      ],
      "execution_count": 0,
      "outputs": []
    },
    {
      "metadata": {
        "id": "7p3yxmvOulSx",
        "colab_type": "code",
        "colab": {}
      },
      "cell_type": "code",
      "source": [
        "s = tf.InteractiveSession()\n",
        "summary_writer = tf.summary.FileWriter(\"logs/1\", s.graph)\n",
        "s.run(tf.global_variables_initializer())\n",
        "for i in range(10):\n",
        "    _, curr_summaries = s.run([step, summaries])\n",
        "    summary_writer.add_summary(curr_summaries, i)\n",
        "    summary_writer.flush()"
      ],
      "execution_count": 0,
      "outputs": []
    },
    {
      "metadata": {
        "id": "QwjlsM9uulS8",
        "colab_type": "text"
      },
      "cell_type": "markdown",
      "source": [
        "Run  `tensorboard --logdir=./logs` in bash"
      ]
    },
    {
      "metadata": {
        "id": "3j7fnVtCulS_",
        "colab_type": "text"
      },
      "cell_type": "markdown",
      "source": [
        "This is what you can see in your browser **(not available in Coursera Notebooks)**\n",
        "<img src=\"images/TensorBoard.jpg\" style=\"width:70%\">"
      ]
    },
    {
      "metadata": {
        "id": "RsWCn30culTA",
        "colab_type": "code",
        "colab": {}
      },
      "cell_type": "code",
      "source": [
        "s.close()"
      ],
      "execution_count": 0,
      "outputs": []
    },
    {
      "metadata": {
        "id": "1IwM3ZHDulTL",
        "colab_type": "text"
      },
      "cell_type": "markdown",
      "source": [
        "### Training a linear model"
      ]
    },
    {
      "metadata": {
        "id": "lKQ_ufWqulTS",
        "colab_type": "code",
        "colab": {
          "base_uri": "https://localhost:8080/",
          "height": 52
        },
        "outputId": "fe0dd010-2eab-4e8d-cb24-d743acee1a49"
      },
      "cell_type": "code",
      "source": [
        "# generate model data\n",
        "N = 1000\n",
        "D = 3\n",
        "x = np.random.random((N, D))\n",
        "w = np.random.random((D, 1))\n",
        "y = x @ w + np.random.randn(N, 1) * 0.20\n",
        "\n",
        "print(x.shape, y.shape)\n",
        "print(w.T)"
      ],
      "execution_count": 35,
      "outputs": [
        {
          "output_type": "stream",
          "text": [
            "(1000, 3) (1000, 1)\n",
            "[[0.04747878 0.55983311 0.29106553]]\n"
          ],
          "name": "stdout"
        }
      ]
    },
    {
      "metadata": {
        "id": "uXVqCbYGulTp",
        "colab_type": "code",
        "colab": {
          "base_uri": "https://localhost:8080/",
          "height": 35
        },
        "outputId": "1aba20a2-ba94-411f-8956-0c5da8c1694e"
      },
      "cell_type": "code",
      "source": [
        "tf.reset_default_graph()\n",
        "\n",
        "features = tf.placeholder(tf.float32, shape=(None, D))\n",
        "target = tf.placeholder(tf.float32, shape=(None, 1))\n",
        "\n",
        "weights = tf.get_variable(\"weights\", shape=(D, 1), dtype=tf.float32)\n",
        "predictions = features @ weights\n",
        "\n",
        "loss = tf.reduce_mean((target - predictions) ** 2)\n",
        "\n",
        "print(target.shape, predictions.shape, loss.shape)"
      ],
      "execution_count": 36,
      "outputs": [
        {
          "output_type": "stream",
          "text": [
            "(?, 1) (?, 1) ()\n"
          ],
          "name": "stdout"
        }
      ]
    },
    {
      "metadata": {
        "id": "j0e7hs2bulT8",
        "colab_type": "code",
        "colab": {}
      },
      "cell_type": "code",
      "source": [
        "optimizer = tf.train.GradientDescentOptimizer(0.1)\n",
        "step = optimizer.minimize(loss)"
      ],
      "execution_count": 0,
      "outputs": []
    },
    {
      "metadata": {
        "scrolled": true,
        "id": "YvVsTPKZulT_",
        "colab_type": "code",
        "colab": {
          "base_uri": "https://localhost:8080/",
          "height": 121
        },
        "outputId": "4aa75a40-b9df-40b9-c105-129b885282e9"
      },
      "cell_type": "code",
      "source": [
        "with tf.Session() as s:\n",
        "    s.run(tf.global_variables_initializer())\n",
        "    for i in range(300):\n",
        "        _, curr_loss, curr_weights = s.run([step, loss, weights], \n",
        "                                           feed_dict={features: x, target: y})\n",
        "        if i % 50 == 0:\n",
        "            print(curr_loss)"
      ],
      "execution_count": 38,
      "outputs": [
        {
          "output_type": "stream",
          "text": [
            "0.77614224\n",
            "0.06814988\n",
            "0.046310674\n",
            "0.04220197\n",
            "0.041426912\n",
            "0.04128031\n"
          ],
          "name": "stdout"
        }
      ]
    },
    {
      "metadata": {
        "id": "v71GJ3doulUE",
        "colab_type": "code",
        "colab": {
          "base_uri": "https://localhost:8080/",
          "height": 35
        },
        "outputId": "017b8856-6059-4a6f-a521-7a93ea197257"
      },
      "cell_type": "code",
      "source": [
        "# found weights\n",
        "curr_weights.T"
      ],
      "execution_count": 39,
      "outputs": [
        {
          "output_type": "execute_result",
          "data": {
            "text/plain": [
              "array([[0.06048309, 0.56637174, 0.27393958]], dtype=float32)"
            ]
          },
          "metadata": {
            "tags": []
          },
          "execution_count": 39
        }
      ]
    },
    {
      "metadata": {
        "id": "MvePNextulUO",
        "colab_type": "code",
        "colab": {
          "base_uri": "https://localhost:8080/",
          "height": 35
        },
        "outputId": "9b56c79e-f81a-4d35-9dbe-02d1334a5868"
      },
      "cell_type": "code",
      "source": [
        "# true weights\n",
        "w.T"
      ],
      "execution_count": 40,
      "outputs": [
        {
          "output_type": "execute_result",
          "data": {
            "text/plain": [
              "array([[0.04747878, 0.55983311, 0.29106553]])"
            ]
          },
          "metadata": {
            "tags": []
          },
          "execution_count": 40
        }
      ]
    }
  ]
}