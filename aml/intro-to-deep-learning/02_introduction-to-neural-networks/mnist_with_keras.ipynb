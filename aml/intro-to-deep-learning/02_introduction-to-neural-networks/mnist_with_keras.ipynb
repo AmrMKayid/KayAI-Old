{
  "nbformat": 4,
  "nbformat_minor": 0,
  "metadata": {
    "colab": {
      "name": "mnist_with_keras.ipynb",
      "version": "0.3.2",
      "provenance": [],
      "toc_visible": true
    },
    "kernelspec": {
      "name": "python3",
      "display_name": "Python 3"
    },
    "accelerator": "GPU"
  },
  "cells": [
    {
      "metadata": {
        "id": "xjz8-AUrET9t",
        "colab_type": "text"
      },
      "cell_type": "markdown",
      "source": [
        "## Colab Setup"
      ]
    },
    {
      "metadata": {
        "id": "8kO_Tm70Eb6z",
        "colab_type": "code",
        "colab": {
          "base_uri": "https://localhost:8080/",
          "height": 311
        },
        "outputId": "191fef65-9f5d-44cf-b203-ed44cf72baff"
      },
      "cell_type": "code",
      "source": [
        "! shred -u setup_google_colab.py\n",
        "! wget https://raw.githubusercontent.com/hse-aml/intro-to-dl/master/setup_google_colab.py -O setup_google_colab.py\n",
        "import setup_google_colab\n",
        "# please, uncomment the week you're working on\n",
        "# setup_google_colab.setup_week1()\n",
        "setup_google_colab.setup_week2()\n",
        "# setup_google_colab.setup_week3()\n",
        "# setup_google_colab.setup_week4()\n",
        "# setup_google_colab.setup_week5()\n",
        "# setup_google_colab.setup_week6()\n",
        "\n",
        "# If you're using the old version of the course (check a path of notebook on Coursera, you'll see v1 or v2),\n",
        "# use setup_week2_old()."
      ],
      "execution_count": 1,
      "outputs": [
        {
          "output_type": "stream",
          "text": [
            "--2019-01-24 18:14:31--  https://raw.githubusercontent.com/hse-aml/intro-to-dl/master/setup_google_colab.py\n",
            "Resolving raw.githubusercontent.com (raw.githubusercontent.com)... 151.101.0.133, 151.101.64.133, 151.101.128.133, ...\n",
            "Connecting to raw.githubusercontent.com (raw.githubusercontent.com)|151.101.0.133|:443... connected.\n",
            "HTTP request sent, awaiting response... 200 OK\n",
            "Length: 3792 (3.7K) [text/plain]\n",
            "Saving to: ‘setup_google_colab.py’\n",
            "\n",
            "\rsetup_google_colab.   0%[                    ]       0  --.-KB/s               \rsetup_google_colab. 100%[===================>]   3.70K  --.-KB/s    in 0s      \n",
            "\n",
            "2019-01-24 18:14:31 (55.9 MB/s) - ‘setup_google_colab.py’ saved [3792/3792]\n",
            "\n",
            "**************************************************\n",
            "inception_v3_weights_tf_dim_ordering_tf_kernels_notop.h5\n",
            "**************************************************\n",
            "cifar-10-batches-py.tar.gz\n",
            "**************************************************\n",
            "mnist.npz\n"
          ],
          "name": "stdout"
        }
      ]
    },
    {
      "metadata": {
        "slideshow": {
          "slide_type": "slide"
        },
        "id": "T0wNxQnVBt_r",
        "colab_type": "text"
      },
      "cell_type": "markdown",
      "source": [
        "# MNIST digits classification with Keras\n",
        "\n",
        "We don't expect you to code anything here because you've already solved it with TensorFlow.\n",
        "\n",
        "But you can appreciate how simpler it is with Keras.\n",
        "\n",
        "We'll be happy if you play around with the architecture though, there're some tips at the end."
      ]
    },
    {
      "metadata": {
        "id": "jJ_lmFYTBt_t",
        "colab_type": "text"
      },
      "cell_type": "markdown",
      "source": [
        "<img src=\"images/mnist_sample.png\" style=\"width:30%\">"
      ]
    },
    {
      "metadata": {
        "id": "R-DTH_-0Bt_u",
        "colab_type": "code",
        "colab": {
          "base_uri": "https://localhost:8080/",
          "height": 69
        },
        "outputId": "5979b763-8025-452d-8aa8-6a42451585c0"
      },
      "cell_type": "code",
      "source": [
        "import numpy as np\n",
        "from sklearn.metrics import accuracy_score\n",
        "from matplotlib import pyplot as plt\n",
        "%matplotlib inline\n",
        "import tensorflow as tf\n",
        "print(\"We're using TF\", tf.__version__)\n",
        "import keras\n",
        "print(\"We are using Keras\", keras.__version__)\n",
        "\n",
        "import sys\n",
        "sys.path.append(\"../..\")\n",
        "import keras_utils\n",
        "from keras_utils import reset_tf_session"
      ],
      "execution_count": 2,
      "outputs": [
        {
          "output_type": "stream",
          "text": [
            "We're using TF 1.12.0\n"
          ],
          "name": "stdout"
        },
        {
          "output_type": "stream",
          "text": [
            "Using TensorFlow backend.\n"
          ],
          "name": "stderr"
        },
        {
          "output_type": "stream",
          "text": [
            "We are using Keras 2.0.6\n"
          ],
          "name": "stdout"
        }
      ]
    },
    {
      "metadata": {
        "id": "81taoGfXBt_x",
        "colab_type": "text"
      },
      "cell_type": "markdown",
      "source": [
        "# Look at the data\n",
        "\n",
        "In this task we have 50000 28x28 images of digits from 0 to 9.\n",
        "We will train a classifier on this data."
      ]
    },
    {
      "metadata": {
        "id": "TbdARN_HBt_y",
        "colab_type": "code",
        "colab": {}
      },
      "cell_type": "code",
      "source": [
        "import preprocessed_mnist\n",
        "X_train, y_train, X_val, y_val, X_test, y_test = preprocessed_mnist.load_dataset()"
      ],
      "execution_count": 0,
      "outputs": []
    },
    {
      "metadata": {
        "id": "mVBRYH5zBt_1",
        "colab_type": "code",
        "colab": {
          "base_uri": "https://localhost:8080/",
          "height": 686
        },
        "outputId": "2749581c-53fe-4553-ca14-285b7769f82a"
      },
      "cell_type": "code",
      "source": [
        "# X contains rgb values divided by 255\n",
        "print(\"X_train [shape %s] sample patch:\\n\" % (str(X_train.shape)), X_train[1, 15:20, 5:10])\n",
        "print(\"A closeup of a sample patch:\")\n",
        "plt.imshow(X_train[1, 15:20, 5:10], cmap=\"Greys\")\n",
        "plt.show()\n",
        "print(\"And the whole sample:\")\n",
        "plt.imshow(X_train[1], cmap=\"Greys\")\n",
        "plt.show()\n",
        "print(\"y_train [shape %s] 10 samples:\\n\" % (str(y_train.shape)), y_train[:10])"
      ],
      "execution_count": 4,
      "outputs": [
        {
          "output_type": "stream",
          "text": [
            "X_train [shape (50000, 28, 28)] sample patch:\n",
            " [[0.         0.29803922 0.96470588 0.98823529 0.43921569]\n",
            " [0.         0.33333333 0.98823529 0.90196078 0.09803922]\n",
            " [0.         0.33333333 0.98823529 0.8745098  0.        ]\n",
            " [0.         0.33333333 0.98823529 0.56862745 0.        ]\n",
            " [0.         0.3372549  0.99215686 0.88235294 0.        ]]\n",
            "A closeup of a sample patch:\n"
          ],
          "name": "stdout"
        },
        {
          "output_type": "display_data",
          "data": {
            "image/png": "[encoded data removed]",
            "text/plain": [
              "<Figure size 432x288 with 1 Axes>"
            ]
          },
          "metadata": {
            "tags": []
          }
        },
        {
          "output_type": "stream",
          "text": [
            "And the whole sample:\n"
          ],
          "name": "stdout"
        },
        {
          "output_type": "display_data",
          "data": {
            "image/png": "[encoded data removed]",
            "text/plain": [
              "<Figure size 432x288 with 1 Axes>"
            ]
          },
          "metadata": {
            "tags": []
          }
        },
        {
          "output_type": "stream",
          "text": [
            "y_train [shape (50000,)] 10 samples:\n",
            " [5 0 4 1 9 2 1 3 1 4]\n"
          ],
          "name": "stdout"
        }
      ]
    },
    {
      "metadata": {
        "id": "RflIRuoGBt_3",
        "colab_type": "code",
        "colab": {
          "base_uri": "https://localhost:8080/",
          "height": 52
        },
        "outputId": "453809aa-819d-4524-e2ed-ac9852935f34"
      },
      "cell_type": "code",
      "source": [
        "# flatten images\n",
        "X_train_flat = X_train.reshape((X_train.shape[0], -1))\n",
        "print(X_train_flat.shape)\n",
        "\n",
        "X_val_flat = X_val.reshape((X_val.shape[0], -1))\n",
        "print(X_val_flat.shape)"
      ],
      "execution_count": 5,
      "outputs": [
        {
          "output_type": "stream",
          "text": [
            "(50000, 784)\n",
            "(10000, 784)\n"
          ],
          "name": "stdout"
        }
      ]
    },
    {
      "metadata": {
        "id": "EwC0KwpBBt_6",
        "colab_type": "code",
        "colab": {
          "base_uri": "https://localhost:8080/",
          "height": 86
        },
        "outputId": "b989d452-3f6c-4edf-ffa1-97942288988d"
      },
      "cell_type": "code",
      "source": [
        "# one-hot encode the target\n",
        "y_train_oh = keras.utils.to_categorical(y_train, 10)\n",
        "y_val_oh = keras.utils.to_categorical(y_val, 10)\n",
        "\n",
        "print(y_train_oh.shape)\n",
        "print(y_train_oh[:3], y_train[:3])"
      ],
      "execution_count": 6,
      "outputs": [
        {
          "output_type": "stream",
          "text": [
            "(50000, 10)\n",
            "[[0. 0. 0. 0. 0. 1. 0. 0. 0. 0.]\n",
            " [1. 0. 0. 0. 0. 0. 0. 0. 0. 0.]\n",
            " [0. 0. 0. 0. 1. 0. 0. 0. 0. 0.]] [5 0 4]\n"
          ],
          "name": "stdout"
        }
      ]
    },
    {
      "metadata": {
        "id": "2hIUaoHXBt_9",
        "colab_type": "code",
        "colab": {}
      },
      "cell_type": "code",
      "source": [
        "# building a model with keras\n",
        "from keras.layers import Dense, Activation\n",
        "from keras.models import Sequential\n",
        "\n",
        "# we still need to clear a graph though\n",
        "s = reset_tf_session()\n",
        "\n",
        "model = Sequential()  # it is a feed-forward network without loops like in RNN\n",
        "model.add(Dense(256, input_shape=(784,)))  # the first layer must specify the input shape (replacing placeholders)\n",
        "model.add(Activation('sigmoid'))\n",
        "model.add(Dense(256))\n",
        "model.add(Activation('sigmoid'))\n",
        "model.add(Dense(10))\n",
        "model.add(Activation('softmax'))"
      ],
      "execution_count": 0,
      "outputs": []
    },
    {
      "metadata": {
        "id": "ytkbNIJCBuAA",
        "colab_type": "code",
        "colab": {
          "base_uri": "https://localhost:8080/",
          "height": 345
        },
        "outputId": "bded29e4-d7bb-440f-b06c-53e62742ee91"
      },
      "cell_type": "code",
      "source": [
        "# you can look at all layers and parameter count\n",
        "model.summary()"
      ],
      "execution_count": 8,
      "outputs": [
        {
          "output_type": "stream",
          "text": [
            "_________________________________________________________________\n",
            "Layer (type)                 Output Shape              Param #   \n",
            "=================================================================\n",
            "dense_1 (Dense)              (None, 256)               200960    \n",
            "_________________________________________________________________\n",
            "activation_1 (Activation)    (None, 256)               0         \n",
            "_________________________________________________________________\n",
            "dense_2 (Dense)              (None, 256)               65792     \n",
            "_________________________________________________________________\n",
            "activation_2 (Activation)    (None, 256)               0         \n",
            "_________________________________________________________________\n",
            "dense_3 (Dense)              (None, 10)                2570      \n",
            "_________________________________________________________________\n",
            "activation_3 (Activation)    (None, 10)                0         \n",
            "=================================================================\n",
            "Total params: 269,322\n",
            "Trainable params: 269,322\n",
            "Non-trainable params: 0\n",
            "_________________________________________________________________\n"
          ],
          "name": "stdout"
        }
      ]
    },
    {
      "metadata": {
        "id": "4TOYfbA5BuAI",
        "colab_type": "code",
        "colab": {
          "base_uri": "https://localhost:8080/",
          "height": 141
        },
        "outputId": "552316cc-2de3-4215-885a-4a9cd8cea28f"
      },
      "cell_type": "code",
      "source": [
        "# now we \"compile\" the model specifying the loss and optimizer\n",
        "model.compile(\n",
        "    loss='categorical_crossentropy', # this is our cross-entropy\n",
        "    optimizer='adam',\n",
        "    metrics=['accuracy']  # report accuracy during training\n",
        ")"
      ],
      "execution_count": 9,
      "outputs": [
        {
          "output_type": "stream",
          "text": [
            "WARNING:tensorflow:From /usr/local/lib/python3.6/dist-packages/keras/backend/tensorflow_backend.py:2745: calling reduce_sum (from tensorflow.python.ops.math_ops) with keep_dims is deprecated and will be removed in a future version.\n",
            "Instructions for updating:\n",
            "keep_dims is deprecated, use keepdims instead\n",
            "WARNING:tensorflow:From /usr/local/lib/python3.6/dist-packages/keras/backend/tensorflow_backend.py:1299: calling reduce_mean (from tensorflow.python.ops.math_ops) with keep_dims is deprecated and will be removed in a future version.\n",
            "Instructions for updating:\n",
            "keep_dims is deprecated, use keepdims instead\n"
          ],
          "name": "stdout"
        }
      ]
    },
    {
      "metadata": {
        "id": "qTfZCqiEBuAL",
        "colab_type": "code",
        "colab": {
          "base_uri": "https://localhost:8080/",
          "height": 2798
        },
        "outputId": "14cd2f2c-0235-4182-d872-7e2b5311d3ff"
      },
      "cell_type": "code",
      "source": [
        "# and now we can fit the model with model.fit()\n",
        "# and we don't have to write loops and batching manually as in TensorFlow\n",
        "model.fit(\n",
        "    X_train_flat, \n",
        "    y_train_oh,\n",
        "    batch_size=512, \n",
        "    epochs=40,\n",
        "    validation_data=(X_val_flat, y_val_oh),\n",
        "    callbacks=[keras_utils.TqdmProgressCallback()],\n",
        "    verbose=0\n",
        ")"
      ],
      "execution_count": 10,
      "outputs": [
        {
          "output_type": "stream",
          "text": [
            "\n",
            "Epoch 1/40\n",
            "**************************************************\n",
            "loss: 1.1565; acc: 0.7036; val_loss: 0.4365; val_acc: 0.8935\n",
            "\n",
            "Epoch 2/40\n",
            "**************************************************\n",
            "loss: 0.3712; acc: 0.8994; val_loss: 0.2825; val_acc: 0.9217\n",
            "\n",
            "Epoch 3/40\n",
            "**************************************************\n",
            "loss: 0.2838; acc: 0.9180; val_loss: 0.2408; val_acc: 0.9320\n",
            "\n",
            "Epoch 4/40\n",
            "**************************************************\n",
            "loss: 0.2450; acc: 0.9280; val_loss: 0.2116; val_acc: 0.9388\n",
            "\n",
            "Epoch 5/40\n",
            "**************************************************\n",
            "loss: 0.2152; acc: 0.9367; val_loss: 0.1948; val_acc: 0.9448\n",
            "\n",
            "Epoch 6/40\n",
            "**************************************************\n",
            "loss: 0.1925; acc: 0.9434; val_loss: 0.1732; val_acc: 0.9522\n",
            "\n",
            "Epoch 7/40\n",
            "**************************************************\n",
            "loss: 0.1720; acc: 0.9496; val_loss: 0.1606; val_acc: 0.9561\n",
            "\n",
            "Epoch 8/40\n",
            "**************************************************\n",
            "loss: 0.1539; acc: 0.9543; val_loss: 0.1494; val_acc: 0.9576\n",
            "\n",
            "Epoch 9/40\n",
            "**************************************************\n",
            "loss: 0.1378; acc: 0.9597; val_loss: 0.1372; val_acc: 0.9614\n",
            "\n",
            "Epoch 10/40\n",
            "**************************************************\n",
            "loss: 0.1256; acc: 0.9630; val_loss: 0.1309; val_acc: 0.9630\n",
            "\n",
            "Epoch 11/40\n",
            "**************************************************\n",
            "loss: 0.1141; acc: 0.9665; val_loss: 0.1225; val_acc: 0.9650\n",
            "\n",
            "Epoch 12/40\n",
            "**************************************************\n",
            "loss: 0.1023; acc: 0.9705; val_loss: 0.1143; val_acc: 0.9680\n",
            "\n",
            "Epoch 13/40\n",
            "**************************************************\n",
            "loss: 0.0932; acc: 0.9730; val_loss: 0.1105; val_acc: 0.9695\n",
            "\n",
            "Epoch 14/40\n",
            "**************************************************\n",
            "loss: 0.0851; acc: 0.9758; val_loss: 0.1081; val_acc: 0.9683\n",
            "\n",
            "Epoch 15/40\n",
            "**************************************************\n",
            "loss: 0.0769; acc: 0.9784; val_loss: 0.1014; val_acc: 0.9698\n",
            "\n",
            "Epoch 16/40\n",
            "**************************************************\n",
            "loss: 0.0691; acc: 0.9805; val_loss: 0.0964; val_acc: 0.9713\n",
            "\n",
            "Epoch 17/40\n",
            "**************************************************\n",
            "loss: 0.0638; acc: 0.9822; val_loss: 0.0931; val_acc: 0.9724\n",
            "\n",
            "Epoch 18/40\n",
            "**************************************************\n",
            "loss: 0.0586; acc: 0.9838; val_loss: 0.0881; val_acc: 0.9746\n",
            "\n",
            "Epoch 19/40\n",
            "**************************************************\n",
            "loss: 0.0530; acc: 0.9855; val_loss: 0.0864; val_acc: 0.9751\n",
            "\n",
            "Epoch 20/40\n",
            "**************************************************\n",
            "loss: 0.0472; acc: 0.9875; val_loss: 0.0821; val_acc: 0.9757\n",
            "\n",
            "Epoch 21/40\n",
            "**************************************************\n",
            "loss: 0.0433; acc: 0.9888; val_loss: 0.0841; val_acc: 0.9758\n",
            "\n",
            "Epoch 22/40\n",
            "**************************************************\n",
            "loss: 0.0392; acc: 0.9901; val_loss: 0.0821; val_acc: 0.9755\n",
            "\n",
            "Epoch 23/40\n",
            "**************************************************\n",
            "loss: 0.0361; acc: 0.9909; val_loss: 0.0797; val_acc: 0.9769\n",
            "\n",
            "Epoch 24/40\n",
            "**************************************************\n",
            "loss: 0.0315; acc: 0.9927; val_loss: 0.0791; val_acc: 0.9769\n",
            "\n",
            "Epoch 25/40\n",
            "**************************************************\n",
            "loss: 0.0288; acc: 0.9935; val_loss: 0.0776; val_acc: 0.9764\n",
            "\n",
            "Epoch 26/40\n",
            "**************************************************\n",
            "loss: 0.0260; acc: 0.9945; val_loss: 0.0774; val_acc: 0.9774\n",
            "\n",
            "Epoch 27/40\n",
            "**************************************************\n",
            "loss: 0.0236; acc: 0.9951; val_loss: 0.0774; val_acc: 0.9767\n",
            "\n",
            "Epoch 28/40\n",
            "**************************************************\n",
            "loss: 0.0216; acc: 0.9956; val_loss: 0.0798; val_acc: 0.9772\n",
            "\n",
            "Epoch 29/40\n",
            "**************************************************\n",
            "loss: 0.0194; acc: 0.9960; val_loss: 0.0770; val_acc: 0.9773\n",
            "\n",
            "Epoch 30/40\n",
            "**************************************************\n",
            "loss: 0.0171; acc: 0.9970; val_loss: 0.0777; val_acc: 0.9763\n",
            "\n",
            "Epoch 31/40\n",
            "**************************************************\n",
            "loss: 0.0154; acc: 0.9975; val_loss: 0.0756; val_acc: 0.9780\n",
            "\n",
            "Epoch 32/40\n",
            "**************************************************\n",
            "loss: 0.0136; acc: 0.9981; val_loss: 0.0745; val_acc: 0.9790\n",
            "\n",
            "Epoch 33/40\n",
            "**************************************************\n",
            "loss: 0.0120; acc: 0.9986; val_loss: 0.0741; val_acc: 0.9793\n",
            "\n",
            "Epoch 34/40\n",
            "**************************************************\n",
            "loss: 0.0111; acc: 0.9985; val_loss: 0.0775; val_acc: 0.9782\n",
            "\n",
            "Epoch 35/40\n",
            "**************************************************\n",
            "loss: 0.0100; acc: 0.9988; val_loss: 0.0764; val_acc: 0.9788\n",
            "\n",
            "Epoch 36/40\n",
            "**************************************************\n",
            "loss: 0.0090; acc: 0.9989; val_loss: 0.0766; val_acc: 0.9784\n",
            "\n",
            "Epoch 37/40\n",
            "**************************************************\n",
            "loss: 0.0084; acc: 0.9991; val_loss: 0.0769; val_acc: 0.9781\n",
            "\n",
            "Epoch 38/40\n",
            "**************************************************\n",
            "loss: 0.0071; acc: 0.9993; val_loss: 0.0788; val_acc: 0.9793\n",
            "\n",
            "Epoch 39/40\n",
            "**************************************************\n",
            "loss: 0.0064; acc: 0.9994; val_loss: 0.0769; val_acc: 0.9794\n",
            "\n",
            "Epoch 40/40\n",
            "**************************************************\n",
            "loss: 0.0057; acc: 0.9996; val_loss: 0.0757; val_acc: 0.9796\n"
          ],
          "name": "stdout"
        },
        {
          "output_type": "execute_result",
          "data": {
            "text/plain": [
              "<keras.callbacks.History at 0x7fd4942a2d30>"
            ]
          },
          "metadata": {
            "tags": []
          },
          "execution_count": 10
        }
      ]
    },
    {
      "metadata": {
        "id": "w6v2KGdFBuAQ",
        "colab_type": "text"
      },
      "cell_type": "markdown",
      "source": [
        "# Here're the notes for those who want to play around here\n",
        "\n",
        "Here are some tips on what you could do:\n",
        "\n",
        " * __Network size__\n",
        "   * More neurons, \n",
        "   * More layers, ([docs](https://keras.io/))\n",
        "\n",
        "   * Other nonlinearities in the hidden layers\n",
        "     * tanh, relu, leaky relu, etc\n",
        "   * Larger networks may take more epochs to train, so don't discard your net just because it could didn't beat the baseline in 5 epochs.\n",
        "\n",
        "\n",
        " * __Early Stopping__\n",
        "   * Training for 100 epochs regardless of anything is probably a bad idea.\n",
        "   * Some networks converge over 5 epochs, others - over 500.\n",
        "   * Way to go: stop when validation score is 10 iterations past maximum\n",
        "     \n",
        "\n",
        " * __Faster optimization__\n",
        "   * rmsprop, nesterov_momentum, adam, adagrad and so on.\n",
        "     * Converge faster and sometimes reach better optima\n",
        "     * It might make sense to tweak learning rate/momentum, other learning parameters, batch size and number of epochs\n",
        "\n",
        "\n",
        " * __Regularize__ to prevent overfitting\n",
        "   * Add some L2 weight norm to the loss function, theano will do the rest\n",
        "     * Can be done manually or via - https://keras.io/regularizers/\n",
        "   \n",
        "   \n",
        " * __Data augmemntation__ - getting 5x as large dataset for free is a great deal\n",
        "   * https://keras.io/preprocessing/image/\n",
        "   * Zoom-in+slice = move\n",
        "   * Rotate+zoom(to remove black stripes)\n",
        "   * any other perturbations\n",
        "   * Simple way to do that (if you have PIL/Image): \n",
        "     * ```from scipy.misc import imrotate,imresize```\n",
        "     * and a few slicing\n",
        "   * Stay realistic. There's usually no point in flipping dogs upside down as that is not the way you usually see them."
      ]
    },
    {
      "metadata": {
        "id": "6jzGXVJ3BuAQ",
        "colab_type": "code",
        "colab": {}
      },
      "cell_type": "code",
      "source": [
        ""
      ],
      "execution_count": 0,
      "outputs": []
    }
  ]
}