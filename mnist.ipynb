{
  "nbformat": 4,
  "nbformat_minor": 0,
  "metadata": {
    "colab": {
      "name": "mnist.ipynb",
      "version": "0.3.2",
      "provenance": []
    },
    "kernelspec": {
      "display_name": "Python 3",
      "language": "python",
      "name": "python3"
    }
  },
  "cells": [
    {
      "metadata": {
        "id": "J9tCqdFOZb4N",
        "colab_type": "text"
      },
      "cell_type": "markdown",
      "source": [
        "# Simple Neural Network: MNIST"
      ]
    },
    {
      "metadata": {
        "id": "UId9ssUTZb4T",
        "colab_type": "code",
        "colab": {},
        "outputId": "430a9b8c-319d-4bca-9c42-41ec2915f93b"
      },
      "cell_type": "code",
      "source": [
        "from keras.datasets import mnist"
      ],
      "execution_count": 0,
      "outputs": [
        {
          "output_type": "stream",
          "text": [
            "Using TensorFlow backend.\n"
          ],
          "name": "stderr"
        }
      ]
    },
    {
      "metadata": {
        "id": "iTwsgeZiZb4u",
        "colab_type": "text"
      },
      "cell_type": "markdown",
      "source": [
        "### Load MNIST Data"
      ]
    },
    {
      "metadata": {
        "id": "1sTuotEHZb4w",
        "colab_type": "code",
        "colab": {}
      },
      "cell_type": "code",
      "source": [
        "(train_images, train_labels), (test_images, test_labels) = mnist.load_data()"
      ],
      "execution_count": 0,
      "outputs": []
    },
    {
      "metadata": {
        "id": "Oz0jR3OmZb5e",
        "colab_type": "text"
      },
      "cell_type": "markdown",
      "source": [
        "### Explore the data"
      ]
    },
    {
      "metadata": {
        "id": "-zQ0drfyZb5g",
        "colab_type": "code",
        "colab": {},
        "outputId": "a217a548-8413-4e96-9e5f-d25a8e5ef653"
      },
      "cell_type": "code",
      "source": [
        "train_images.shape"
      ],
      "execution_count": 0,
      "outputs": [
        {
          "output_type": "execute_result",
          "data": {
            "text/plain": [
              "(60000, 28, 28)"
            ]
          },
          "metadata": {
            "tags": []
          },
          "execution_count": 3
        }
      ]
    },
    {
      "metadata": {
        "id": "yyReEV8PZb6G",
        "colab_type": "code",
        "colab": {},
        "outputId": "8f9429be-2681-4e61-8c53-e7988ccc508a"
      },
      "cell_type": "code",
      "source": [
        "len(train_labels)"
      ],
      "execution_count": 0,
      "outputs": [
        {
          "output_type": "execute_result",
          "data": {
            "text/plain": [
              "60000"
            ]
          },
          "metadata": {
            "tags": []
          },
          "execution_count": 4
        }
      ]
    },
    {
      "metadata": {
        "id": "FjseRrxOZb6O",
        "colab_type": "code",
        "colab": {},
        "outputId": "7f039bee-f2b0-49ba-cc73-5096729f62a8"
      },
      "cell_type": "code",
      "source": [
        "train_labels"
      ],
      "execution_count": 0,
      "outputs": [
        {
          "output_type": "execute_result",
          "data": {
            "text/plain": [
              "array([5, 0, 4, ..., 5, 6, 8], dtype=uint8)"
            ]
          },
          "metadata": {
            "tags": []
          },
          "execution_count": 5
        }
      ]
    },
    {
      "metadata": {
        "id": "cT1HpBbVZb6i",
        "colab_type": "code",
        "colab": {},
        "outputId": "b596d061-3e55-4d40-d180-312974ed66d4"
      },
      "cell_type": "code",
      "source": [
        "test_images.shape"
      ],
      "execution_count": 0,
      "outputs": [
        {
          "output_type": "execute_result",
          "data": {
            "text/plain": [
              "(10000, 28, 28)"
            ]
          },
          "metadata": {
            "tags": []
          },
          "execution_count": 6
        }
      ]
    },
    {
      "metadata": {
        "id": "gYDqzZyxZb6r",
        "colab_type": "code",
        "colab": {},
        "outputId": "d3dd54f0-1094-480b-e61c-41e4025ecfd6"
      },
      "cell_type": "code",
      "source": [
        "len(test_labels)"
      ],
      "execution_count": 0,
      "outputs": [
        {
          "output_type": "execute_result",
          "data": {
            "text/plain": [
              "10000"
            ]
          },
          "metadata": {
            "tags": []
          },
          "execution_count": 7
        }
      ]
    },
    {
      "metadata": {
        "id": "zWz3lVzUZb67",
        "colab_type": "code",
        "colab": {},
        "outputId": "79880280-efb9-4f77-b19d-5e8b5d592cf0"
      },
      "cell_type": "code",
      "source": [
        "test_labels"
      ],
      "execution_count": 0,
      "outputs": [
        {
          "output_type": "execute_result",
          "data": {
            "text/plain": [
              "array([7, 2, 1, ..., 4, 5, 6], dtype=uint8)"
            ]
          },
          "metadata": {
            "tags": []
          },
          "execution_count": 8
        }
      ]
    },
    {
      "metadata": {
        "id": "egROZmVGZb7Y",
        "colab_type": "text"
      },
      "cell_type": "markdown",
      "source": [
        "## The network architecture"
      ]
    },
    {
      "metadata": {
        "id": "wvhDo51QZb7b",
        "colab_type": "code",
        "colab": {}
      },
      "cell_type": "code",
      "source": [
        "from keras import models\n",
        "from keras import layers"
      ],
      "execution_count": 0,
      "outputs": []
    },
    {
      "metadata": {
        "id": "DJ26RwfZZb7i",
        "colab_type": "code",
        "colab": {}
      },
      "cell_type": "code",
      "source": [
        "network = models.Sequential()\n",
        "network.add(layers.Dense(512, activation='relu', input_shape=(28 * 28, )))\n",
        "network.add(layers.Dense(10, activation='softmax'))"
      ],
      "execution_count": 0,
      "outputs": []
    },
    {
      "metadata": {
        "id": "V3zOOlUWZb7p",
        "colab_type": "text"
      },
      "cell_type": "markdown",
      "source": [
        "## The compilation step"
      ]
    },
    {
      "metadata": {
        "id": "c2Nz0zjaZb7r",
        "colab_type": "code",
        "colab": {}
      },
      "cell_type": "code",
      "source": [
        "network.compile(optimizer='rmsprop',\n",
        "               loss='categorical_crossentropy',\n",
        "               metrics=['accuracy'])"
      ],
      "execution_count": 0,
      "outputs": []
    },
    {
      "metadata": {
        "id": "gR0uIKznZb7w",
        "colab_type": "text"
      },
      "cell_type": "markdown",
      "source": [
        "### Preparing the image data\n",
        "- reshaping it into the shape the network expects and scaling it so that all values are in the **[0, 1] interval**"
      ]
    },
    {
      "metadata": {
        "id": "NlTCsu0PZb7y",
        "colab_type": "code",
        "colab": {}
      },
      "cell_type": "code",
      "source": [
        "train_images = train_images.reshape((60000, 28 * 28))\n",
        "train_images = train_images.astype('float32') / 255\n",
        "\n",
        "test_images = test_images.reshape((10000, 28 * 28))\n",
        "test_images = test_images.astype('float32') / 255"
      ],
      "execution_count": 0,
      "outputs": []
    },
    {
      "metadata": {
        "id": "BWfDXFofZb74",
        "colab_type": "text"
      },
      "cell_type": "markdown",
      "source": [
        "### Preparing the labels"
      ]
    },
    {
      "metadata": {
        "id": "zcyMvXAJZb78",
        "colab_type": "code",
        "colab": {}
      },
      "cell_type": "code",
      "source": [
        "from keras.utils import to_categorical\n",
        "\n",
        "train_labels = to_categorical(train_labels)\n",
        "test_labels = to_categorical(test_labels)"
      ],
      "execution_count": 0,
      "outputs": []
    },
    {
      "metadata": {
        "id": "tZnjc_VkZb8J",
        "colab_type": "text"
      },
      "cell_type": "markdown",
      "source": [
        "## Training Phase"
      ]
    },
    {
      "metadata": {
        "id": "8Sk-kyKNZb8K",
        "colab_type": "code",
        "colab": {},
        "outputId": "8a7aa274-f7d4-4651-9893-f237a8f4d3c2"
      },
      "cell_type": "code",
      "source": [
        "network.fit(train_images, train_labels, epochs=10, batch_size=256)"
      ],
      "execution_count": 0,
      "outputs": [
        {
          "output_type": "stream",
          "text": [
            "Epoch 1/10\n",
            "60000/60000 [==============================] - 3s 53us/step - loss: 3.5437e-04 - acc: 1.0000\n",
            "Epoch 2/10\n",
            "60000/60000 [==============================] - 3s 52us/step - loss: 3.2976e-04 - acc: 1.0000\n",
            "Epoch 3/10\n",
            "60000/60000 [==============================] - 3s 54us/step - loss: 2.1552e-04 - acc: 0.9999\n",
            "Epoch 4/10\n",
            "60000/60000 [==============================] - 3s 56us/step - loss: 1.4276e-04 - acc: 1.0000\n",
            "Epoch 5/10\n",
            "60000/60000 [==============================] - 3s 53us/step - loss: 1.3416e-04 - acc: 1.0000\n",
            "Epoch 6/10\n",
            "60000/60000 [==============================] - 3s 56us/step - loss: 8.0620e-05 - acc: 1.0000\n",
            "Epoch 7/10\n",
            "60000/60000 [==============================] - 3s 54us/step - loss: 5.0414e-05 - acc: 1.0000\n",
            "Epoch 8/10\n",
            "60000/60000 [==============================] - 3s 55us/step - loss: 4.1723e-05 - acc: 1.0000\n",
            "Epoch 9/10\n",
            "60000/60000 [==============================] - 3s 58us/step - loss: 2.2607e-05 - acc: 1.0000\n",
            "Epoch 10/10\n",
            "60000/60000 [==============================] - 3s 56us/step - loss: 2.5003e-05 - acc: 1.0000\n"
          ],
          "name": "stdout"
        },
        {
          "output_type": "execute_result",
          "data": {
            "text/plain": [
              "<keras.callbacks.History at 0xb29e0af28>"
            ]
          },
          "metadata": {
            "tags": []
          },
          "execution_count": 29
        }
      ]
    },
    {
      "metadata": {
        "id": "FEYK10yBZb8i",
        "colab_type": "text"
      },
      "cell_type": "markdown",
      "source": [
        "## Model performance"
      ]
    },
    {
      "metadata": {
        "id": "KXpgP53mZb8j",
        "colab_type": "code",
        "colab": {},
        "outputId": "08d5514f-0639-4a83-f6b1-df3d7d4cdc61"
      },
      "cell_type": "code",
      "source": [
        "test_loss, test_acc = network.evaluate(test_images, test_labels)\n",
        "print('test_acc:', test_acc)"
      ],
      "execution_count": 0,
      "outputs": [
        {
          "output_type": "stream",
          "text": [
            "10000/10000 [==============================] - 1s 63us/step\n",
            "test_acc: 0.9856\n"
          ],
          "name": "stdout"
        }
      ]
    }
  ]
}